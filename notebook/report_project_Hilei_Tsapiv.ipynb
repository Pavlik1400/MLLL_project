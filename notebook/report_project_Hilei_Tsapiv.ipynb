{
 "cells": [
  {
   "cell_type": "markdown",
   "source": [
    "# MNIST 2 digits classification using 4 methods\n",
    "\n",
    "### Authors:\n",
    "- Pavlo Hilei\n",
    "- Volodymyr Tsapiv\n",
    "\n",
    "### Approaches:\n",
    "- Artificial Neural Network (NN) [Hilei Pavlo]\n",
    "- K-nearest neighbors (KNN) [Volodymyr Tsapiv]\n",
    "- Support Vector Machine (SVM) [Hilei Pavlo]\n",
    "- Logistic Regression [Volodymyr Tsapiv]\n"
   ],
   "metadata": {
    "collapsed": false,
    "pycharm": {
     "name": "#%% md\n"
    }
   }
  },
  {
   "cell_type": "markdown",
   "source": [
    "Mnist dataset consists of hand-written digits. The objective is to classify them correctly using ML approaches. In the current project we have to classify only 2 digits.\n",
    "\n",
    "Due to the problem statement, we have to take such digits $a$, $b$, that sum of days of our birthdays form $\\overline{ab}$\n",
    "\n",
    "## 1. Data exploration and preparation\n",
    "\n",
    "We use dataset from `torchvision.datasets` library. Let's load and check it out"
   ],
   "metadata": {
    "collapsed": false,
    "pycharm": {
     "name": "#%% md\n"
    }
   }
  },
  {
   "cell_type": "code",
   "execution_count": 7,
   "outputs": [],
   "source": [
    "# let's import stuff\n",
    "from __future__ import annotations\n",
    "\n",
    "from dataclasses import dataclass\n",
    "from typing import Tuple, List, Dict, Callable\n",
    "\n",
    "import matplotlib.pyplot as plt\n",
    "import numpy as np\n",
    "import torchvision.datasets as datasets\n",
    "from sklearn.model_selection import train_test_split\n",
    "import warnings\n",
    "warnings.filterwarnings(\"ignore\")"
   ],
   "metadata": {
    "collapsed": false,
    "pycharm": {
     "name": "#%%\n"
    }
   }
  },
  {
   "cell_type": "markdown",
   "source": [
    "From the whole dataset we take subset consisting of 2 passed digits, normalize photos. Also we split train to train/cross-validation"
   ],
   "metadata": {
    "collapsed": false,
    "pycharm": {
     "name": "#%% md\n"
    }
   }
  },
  {
   "cell_type": "code",
   "execution_count": 2,
   "outputs": [],
   "source": [
    "@dataclass\n",
    "class Dataset:\n",
    "    train_data: np.ndarray\n",
    "    train_targets: np.ndarray\n",
    "    cv_data: np.ndarray\n",
    "    cv_targets: np.ndarray\n",
    "    test_data: np.ndarray\n",
    "    test_targets: np.ndarray\n",
    "\n",
    "\n",
    "def load(digit1: int, digit2: int) -> Dataset:\n",
    "    train_cv_dataset = datasets.MNIST(root='./data', train=True, download=True, transform=None)\n",
    "    train_cv_data, train_cv_targets = transform(train_cv_dataset, digit1, digit2)\n",
    "    train_data, cv_data, train_targets, cv_targets = train_test_split(train_cv_data, train_cv_targets, test_size=0.2)\n",
    "    test_dataset = datasets.MNIST(root='./data', train=False, download=True, transform=None)\n",
    "    test_data, test_targets = transform(test_dataset, digit1, digit2)\n",
    "    return Dataset(train_data, train_targets, cv_data, cv_targets, test_data, test_targets)\n",
    "\n",
    "\n",
    "def transform(dataset: datasets.MNIST, digit1: int, digit2: int) -> Tuple[np.ndarray, np.ndarray]:\n",
    "    # data = dataset.data.numpy().astype(np.float64) / 255\n",
    "    # normalize data\n",
    "    data = dataset.data.numpy().astype(np.float64)\n",
    "    data = (data - np.mean(data)) / np.std(data)\n",
    "    targets = dataset.targets.numpy()\n",
    "\n",
    "    # filter by digits\n",
    "    mask = np.bitwise_or(targets == digit1, targets == digit2)\n",
    "    data = data[mask]\n",
    "    targets = targets[mask]\n",
    "    return data.reshape(len(data), -1), targets == digit1"
   ],
   "metadata": {
    "collapsed": false,
    "pycharm": {
     "name": "#%%\n"
    }
   }
  },
  {
   "cell_type": "markdown",
   "source": [
    "Let's calculate `dig1` and `dig2`, load data"
   ],
   "metadata": {
    "collapsed": false,
    "pycharm": {
     "name": "#%% md\n"
    }
   }
  },
  {
   "cell_type": "code",
   "execution_count": 3,
   "outputs": [
    {
     "name": "stdout",
     "output_type": "stream",
     "text": [
      "Digits are: 8, 5\n",
      "Downloading http://yann.lecun.com/exdb/mnist/train-images-idx3-ubyte.gz\n"
     ]
    },
    {
     "name": "stderr",
     "output_type": "stream",
     "text": [
      "1.6%"
     ]
    },
    {
     "name": "stdout",
     "output_type": "stream",
     "text": [
      "Downloading http://yann.lecun.com/exdb/mnist/train-images-idx3-ubyte.gz to ./data/MNIST/raw/train-images-idx3-ubyte.gz\n"
     ]
    },
    {
     "name": "stderr",
     "output_type": "stream",
     "text": [
      "31.0%IOPub message rate exceeded.\n",
      "The notebook server will temporarily stop sending output\n",
      "to the client in order to avoid crashing it.\n",
      "To change this limit, set the config variable\n",
      "`--NotebookApp.iopub_msg_rate_limit`.\n",
      "\n",
      "Current values:\n",
      "NotebookApp.iopub_msg_rate_limit=1000.0 (msgs/sec)\n",
      "NotebookApp.rate_limit_window=3.0 (secs)\n",
      "\n",
      "85.4%IOPub message rate exceeded.\n",
      "The notebook server will temporarily stop sending output\n",
      "to the client in order to avoid crashing it.\n",
      "To change this limit, set the config variable\n",
      "`--NotebookApp.iopub_msg_rate_limit`.\n",
      "\n",
      "Current values:\n",
      "NotebookApp.iopub_msg_rate_limit=1000.0 (msgs/sec)\n",
      "NotebookApp.rate_limit_window=3.0 (secs)\n",
      "\n",
      "112.7%\n"
     ]
    },
    {
     "name": "stdout",
     "output_type": "stream",
     "text": [
      "Extracting ./data/MNIST/raw/t10k-labels-idx1-ubyte.gz to ./data/MNIST/raw\n",
      "\n",
      "Dataset with digits: 8, 5\n",
      "Size of train: 9017, ratio: 1.0\n",
      "Size of cv: 2255, ratio: 1.0\n",
      "Size of test: 1866, ratio: 1.0\n"
     ]
    }
   ],
   "source": [
    "b1, b2 = 30, 28  # 30 and 28 are days of birthdays\n",
    "n = b1 + b2\n",
    "dig1 = n % 10\n",
    "dig2 = n // 10\n",
    "print(f\"Digits are: {dig1}, {dig2}\")\n",
    "dataset = load(dig1, dig2)\n",
    "\n",
    "print(f\"Dataset with digits: {dig1}, {dig2}\")\n",
    "print(f\"Size of train: {len(dataset.train_data)}, \"\n",
    "      f\"ratio: {len(dataset.train_targets == dig1) / len(dataset.train_targets == dig2)}\")\n",
    "print(f\"Size of cv: {len(dataset.cv_data)}, \"\n",
    "      f\"ratio: {len(dataset.cv_targets == dig1) / len(dataset.cv_targets == dig2)}\")\n",
    "print(f\"Size of test: {len(dataset.test_data)}, \"\n",
    "      f\"ratio: {len(dataset.test_targets == dig1) / len(dataset.test_targets == dig2)}\")"
   ],
   "metadata": {
    "collapsed": false,
    "pycharm": {
     "name": "#%%\n"
    }
   }
  },
  {
   "cell_type": "markdown",
   "source": [
    "Now let's vizualize our data:"
   ],
   "metadata": {
    "collapsed": false,
    "pycharm": {
     "name": "#%% md\n"
    }
   }
  },
  {
   "cell_type": "code",
   "execution_count": 4,
   "outputs": [
    {
     "name": "stdout",
     "output_type": "stream",
     "text": [
      "Example of images:\n"
     ]
    },
    {
     "data": {
      "text/plain": "<Figure size 2592x288 with 6 Axes>",
      "image/png": "[encoded data removed]"
     },
     "metadata": {
      "needs_background": "light"
     },
     "output_type": "display_data"
    }
   ],
   "source": [
    "def show_mnist_imgs(imgs: List[np.ndarray], is_normalized=True, targets=None):\n",
    "    if is_normalized:\n",
    "        for idx, img in enumerate(imgs):\n",
    "            img = img - np.min(img)\n",
    "            img = img / np.max(img)\n",
    "            img = img.reshape((28, 28))\n",
    "            imgs[idx] = img\n",
    "    fig, axes = plt.subplots(1, len(imgs))\n",
    "    w, h = fig.get_size_inches()\n",
    "    fig.set_size_inches(w * len(imgs), h)\n",
    "    for idx, img in enumerate(imgs):\n",
    "        axes[idx].imshow(img, cmap=\"Greys\")\n",
    "        if targets is not None:\n",
    "            axes[idx].set_title(targets[idx])\n",
    "    plt.show()\n",
    "\n",
    "\n",
    "print(\"Example of images:\")\n",
    "bool_to_dig = {True: dig1, False: dig2}\n",
    "show_mnist_imgs(list(dataset.train_data[:6]),\n",
    "                targets=[f\"target: {bool_to_dig[v]}\" for v in dataset.train_targets[:6]])\n"
   ],
   "metadata": {
    "collapsed": false,
    "pycharm": {
     "name": "#%%\n"
    }
   }
  },
  {
   "cell_type": "markdown",
   "source": [
    "Good. Data seems OK. now let's start with approaches.\n",
    "\n",
    "Since we're allowed and encoureged to use libraries, and 3 of 4 methods are implemented in sklean lib, let's create some generic function that can tune paramters for best performace.\n",
    "\n",
    "Function `select_model` takes dataset, model, and parameters. Then:\n",
    "1. With the help of `grid_search` it calculates all possible combinations of parameters.\n",
    "2. Trains the model.\n",
    "3. Calculates accuracy on cross-validation dataset.\n",
    "4. Saves model and parameters.\n",
    "5. Chooses best model by accuracy score.\n",
    "6. Runs best model on test dataset to score how well it performs."
   ],
   "metadata": {
    "collapsed": false,
    "pycharm": {
     "name": "#%% md\n"
    }
   }
  },
  {
   "cell_type": "code",
   "execution_count": 5,
   "outputs": [],
   "source": [
    "from itertools import product\n",
    "\n",
    "\n",
    "def grid_search(params):\n",
    "    return [dict(zip(params, v)) for v in product(*params.values())]\n",
    "\n",
    "\n",
    "def select_model(dataset: Dataset, model_prototype, parameters: Dict):\n",
    "    parameters_set = grid_search(parameters)\n",
    "    scores = []\n",
    "    models = []\n",
    "\n",
    "    for p in parameters_set:\n",
    "        model = model_prototype(**p)\n",
    "        model.fit(dataset.train_data, dataset.train_targets)\n",
    "\n",
    "        score = model.score(dataset.cv_data, dataset.cv_targets)\n",
    "        print(f\"Cross-validation accuracy={score:.4f}, parameters={p}\")\n",
    "\n",
    "        models.append(model)\n",
    "        scores.append(score)\n",
    "\n",
    "    best = np.argmax(scores)\n",
    "    best_model = models[best]\n",
    "\n",
    "    score = best_model.score(dataset.test_data, dataset.test_targets)\n",
    "    print(f\"Test accuracy={score:.4f}, parameters={parameters_set[best]}\")\n",
    "\n",
    "    return best_model"
   ],
   "metadata": {
    "collapsed": false,
    "pycharm": {
     "name": "#%%\n"
    }
   }
  },
  {
   "cell_type": "markdown",
   "source": [
    "## 1. Logistic Regression\n",
    "\n",
    "Logistic regression is the appropriate regression analysis to conduct when the dependent variable is **dichotomous** (binary). Logistic regression is used to describe data and to explain the relationship between one dependent binary variable and one or more nominal, ordinal, interval or ratio-level independent variables.\n",
    "\n",
    "Within machine learning, logistic regression belongs to the family of **supervised** machine learning models. It is also considered a **discriminative model**, which means that it attempts to distinguish between classes (or categories). Unlike a generative algorithm, such as naïve bayes, it cannot, as the name implies, generate information, such as an image, of the class that it is trying to predict (e.g. a picture of a cat).\n",
    "\n",
    "Logistic regression maximizes the **log likelihood** function to determine the beta coefficients of the model. This changes slightly under the context of machine learning. Within machine learning, the negative log likelihood used as the loss function, using the process of gradient descent to find the global maximum. This is just another way to arrive at the same estimations discussed below."
   ],
   "metadata": {
    "collapsed": false,
    "pycharm": {
     "name": "#%% md\n"
    }
   }
  },
  {
   "cell_type": "markdown",
   "source": [
    "#### Logistic function"
   ],
   "metadata": {
    "collapsed": false,
    "pycharm": {
     "name": "#%% md\n"
    }
   }
  },
  {
   "cell_type": "markdown",
   "source": [
    "Let’s start by mentioning the formula of logistic function:\n",
    "$$\n",
    "\\sigma(x) = \\frac{1}{1 + e^{\\theta^Tx}}\n",
    "$$\n",
    "\n",
    "There are obviously some similarities between the formula above and linear regression:\n",
    "$$\n",
    "y(x) = \\theta^Tx\n",
    "$$\n",
    "The key is that we want linear regression to output the probability $p = \\theta^Tx$ that has to be in 0 to 1 range, but obviously it is not the case in general. To overcome this issue we take \"odds\" of p:\n",
    "$$\n",
    "\\frac{p}{1 - p} = \\theta^Tx\n",
    "$$\n",
    "We know that odds can always be positive which means the range will always be (0,+$\\infty$). Odds are nothing but the ratio of the probability of success and probability of failure. Still, left-hand side cannot obtain all the values right-hand side can; we fix by taking log of odds.\n",
    "$$\n",
    "\\log{\\frac{p}{1 - p}} = \\theta^Tx\n",
    "$$\n",
    "Now, we can just solve for p and make sure that:\n",
    "$$\n",
    "p = \\sigma(x) = \\frac{1}{1 + e^{\\theta^Tx}}\n",
    "$$"
   ],
   "metadata": {
    "collapsed": false,
    "pycharm": {
     "name": "#%% md\n"
    }
   }
  },
  {
   "cell_type": "markdown",
   "source": [
    "#### Cost function in logistic regression"
   ],
   "metadata": {
    "collapsed": false,
    "pycharm": {
     "name": "#%% md\n"
    }
   }
  },
  {
   "cell_type": "markdown",
   "source": [
    "In linear regression, we use the **mean squared error** which was the difference between y_predicted and y_actual and this is derived from the maximum likelihood estimator:\n",
    "$$\n",
    "J(\\theta) = \\frac{1}{n}\\sum_{i = 1}^n (\\hat y_i - y_i)^2\n",
    "$$\n",
    "In logistic regression $\\hat y_i$ is a non-linear function. If we use this in the above MSE equation then it will give a non-convex graph with many local minima.\n",
    "\n",
    "Let’s start by defining our likelihood function. We now know that the labels are binary which means they can be either yes/no or pass/fail etc. We can also say we have two outcomes success and failure. This means we can interpret each label as Bernoulli random variable.\n",
    "\n",
    "A random experiment whose outcomes are of two types, success S and failure F, occurring with probabilities p and q respectively is called a Bernoulli trial. If for this experiment a random variable X is defined such that it takes value 1 when S occurs and 0 if F occurs, then X follows a Bernoulli Distribution.\n",
    "$$\n",
    "Y \\sim Bernoulli(p)\n",
    "$$\n",
    "where $p$ is sigmoid fuction.\n",
    "$$\n",
    "P[Y=y|X=x] = \\sigma(\\theta^Tx)^y(1 - \\sigma(\\theta^Tx))^{1 - y}\n",
    "$$\n",
    "Now for n observations,\n",
    "$$\n",
    "L(\\theta) = \\prod_{i = 1}^n \\sigma(\\theta^Tx_i)^{y_i}(1 - \\sigma(\\theta^Tx_i))^{1 - y_i}\n",
    "$$\n",
    "We need a value for theta which will maximize this likelihood function. To make our calculations easier we multiply the log on both sides. The function we get is also called the log-likelihood function or sum of the log conditional probability\n",
    "$$\n",
    "\\log L(\\theta) = \\sum_{i = 1}^n y_i \\cdot \\log [\\sigma(\\theta^Tx_i)] + (1 - y_i) \\cdot \\log [(1 - \\sigma(\\theta^Tx_i))]\n",
    "$$"
   ],
   "metadata": {
    "collapsed": false,
    "pycharm": {
     "name": "#%% md\n"
    }
   }
  },
  {
   "cell_type": "markdown",
   "source": [
    "#### Optimization\n",
    "\n",
    "1. Use chain rule and break the partial derivative of log-likelihood.\n",
    "$$\n",
    "\\frac{\\partial LL(\\theta)}{\\partial \\theta_j} = \\frac{\\partial LL(\\theta)}{\\partial p} \\cdot \\frac{\\partial p}{\\partial \\theta_j}\n",
    "$$\n",
    "where $p = \\sigma[\\theta^Tx]$\n",
    "$$\n",
    "= \\frac{\\partial LL(\\theta)}{\\partial p} \\cdot \\frac{\\partial p}{\\partial z} \\cdot \\frac{\\partial z}{\\partial \\theta_j}\n",
    "$$\n",
    "where $z = \\theta^Tx$\n",
    "\n",
    "2. Find derivative of log-likelihood w.r.t $p$\n",
    "$$\n",
    "LL(\\theta) = y \\cdot \\log p + (1 - y) \\cdot \\log (1 - p)\n",
    "$$\n",
    "$$\n",
    "\\frac{\\partial LL(\\theta)}{\\partial p} = \\frac{y}{p} + \\frac{1 - y}{1 - p}\n",
    "$$\n",
    "3. Find derivative of $p$ w.r.t $z$\n",
    "$$ p = \\sigma(z) $$\n",
    "$$\n",
    "\\frac{\\partial p}{\\partial z} = \\frac{\\partial \\sigma(z)}{\\partial z} = \\sigma(z) \\cdot (1 - \\sigma(z))\n",
    "$$\n",
    "4. Find derivate of $z$ w.r.t $\\theta$\n",
    "$$ z = \\theta^Tx $$\n",
    "$$\n",
    "\\frac{\\partial z}{\\partial \\theta_j} = x_j\n",
    "$$\n",
    "5. Put all the derivatives in equation 1\n",
    "\n",
    "$$\n",
    "\\frac{\\partial LL(\\theta)}{\\partial \\theta_j} = \\frac{\\partial LL(\\theta)}{\\partial p} \\cdot \\frac{\\partial p}{\\partial z} \\cdot \\frac{\\partial z}{\\partial \\theta_j} = [\\frac{y}{p} + \\frac{1 - y}{1 - p}] \\cdot \\sigma(z) \\cdot (1 - \\sigma(z)) \\cdot x_j\n",
    "$$\n",
    "$$\n",
    "= [\\frac{y}{p} + \\frac{1 - y}{1 - p}] \\cdot p[1 - p] \\cdot x_j = [y(1 - p) - p(1 - y)] \\cdot x_j = (y - p) \\cdot x_j\n",
    "$$\n",
    "$$= (y - \\sigma(\\theta^Tx)) \\cdot x_j $$\n",
    "\n",
    "We can clearly see that there are no explicite solution for $\\theta$ unlike in linear regression. Thus, we use **gradient ascent** in order to find the optimal $\\theta$. Using equation 5 we obtain update rule:\n",
    "$$\n",
    "\\theta_{t+1} = \\theta_{t} + (y - \\sigma(\\theta_t^Tx)) \\cdot x\n",
    "$$"
   ],
   "metadata": {
    "collapsed": false,
    "pycharm": {
     "name": "#%% md\n"
    }
   }
  },
  {
   "cell_type": "code",
   "execution_count": 10,
   "outputs": [
    {
     "name": "stdout",
     "output_type": "stream",
     "text": [
      "Cross-validation accuracy=0.9601, parameters={'solver': 'saga', 'max_iter': 200, 'C': 1}\n",
      "Cross-validation accuracy=0.9605, parameters={'solver': 'saga', 'max_iter': 200, 'C': 0.1}\n",
      "Cross-validation accuracy=0.9588, parameters={'solver': 'saga', 'max_iter': 200, 'C': 0.03}\n",
      "Cross-validation accuracy=0.9579, parameters={'solver': 'lbfgs', 'max_iter': 200, 'C': 1}\n",
      "Cross-validation accuracy=0.9610, parameters={'solver': 'lbfgs', 'max_iter': 200, 'C': 0.1}\n",
      "Cross-validation accuracy=0.9596, parameters={'solver': 'lbfgs', 'max_iter': 200, 'C': 0.03}\n",
      "Cross-validation accuracy=0.9579, parameters={'solver': 'liblinear', 'max_iter': 200, 'C': 1}\n",
      "Cross-validation accuracy=0.9610, parameters={'solver': 'liblinear', 'max_iter': 200, 'C': 0.1}\n",
      "Cross-validation accuracy=0.9588, parameters={'solver': 'liblinear', 'max_iter': 200, 'C': 0.03}\n",
      "Cross-validation accuracy=0.9579, parameters={'solver': 'newton-cg', 'max_iter': 200, 'C': 1}\n",
      "Cross-validation accuracy=0.9614, parameters={'solver': 'newton-cg', 'max_iter': 200, 'C': 0.1}\n",
      "Cross-validation accuracy=0.9596, parameters={'solver': 'newton-cg', 'max_iter': 200, 'C': 0.03}\n",
      "Cross-validation accuracy=0.9596, parameters={'solver': 'sag', 'max_iter': 200, 'C': 1}\n",
      "Cross-validation accuracy=0.9610, parameters={'solver': 'sag', 'max_iter': 200, 'C': 0.1}\n",
      "Cross-validation accuracy=0.9588, parameters={'solver': 'sag', 'max_iter': 200, 'C': 0.03}\n",
      "Test accuracy=0.9561, parameters={'solver': 'newton-cg', 'max_iter': 200, 'C': 0.1}\n"
     ]
    },
    {
     "data": {
      "text/plain": "LogisticRegression(C=0.1, max_iter=200, solver='newton-cg')",
      "text/html": "<style>#sk-container-id-3 {color: black;background-color: white;}#sk-container-id-3 pre{padding: 0;}#sk-container-id-3 div.sk-toggleable {background-color: white;}#sk-container-id-3 label.sk-toggleable__label {cursor: pointer;display: block;width: 100%;margin-bottom: 0;padding: 0.3em;box-sizing: border-box;text-align: center;}#sk-container-id-3 label.sk-toggleable__label-arrow:before {content: \"▸\";float: left;margin-right: 0.25em;color: #696969;}#sk-container-id-3 label.sk-toggleable__label-arrow:hover:before {color: black;}#sk-container-id-3 div.sk-estimator:hover label.sk-toggleable__label-arrow:before {color: black;}#sk-container-id-3 div.sk-toggleable__content {max-height: 0;max-width: 0;overflow: hidden;text-align: left;background-color: #f0f8ff;}#sk-container-id-3 div.sk-toggleable__content pre {margin: 0.2em;color: black;border-radius: 0.25em;background-color: #f0f8ff;}#sk-container-id-3 input.sk-toggleable__control:checked~div.sk-toggleable__content {max-height: 200px;max-width: 100%;overflow: auto;}#sk-container-id-3 input.sk-toggleable__control:checked~label.sk-toggleable__label-arrow:before {content: \"▾\";}#sk-container-id-3 div.sk-estimator input.sk-toggleable__control:checked~label.sk-toggleable__label {background-color: #d4ebff;}#sk-container-id-3 div.sk-label input.sk-toggleable__control:checked~label.sk-toggleable__label {background-color: #d4ebff;}#sk-container-id-3 input.sk-hidden--visually {border: 0;clip: rect(1px 1px 1px 1px);clip: rect(1px, 1px, 1px, 1px);height: 1px;margin: -1px;overflow: hidden;padding: 0;position: absolute;width: 1px;}#sk-container-id-3 div.sk-estimator {font-family: monospace;background-color: #f0f8ff;border: 1px dotted black;border-radius: 0.25em;box-sizing: border-box;margin-bottom: 0.5em;}#sk-container-id-3 div.sk-estimator:hover {background-color: #d4ebff;}#sk-container-id-3 div.sk-parallel-item::after {content: \"\";width: 100%;border-bottom: 1px solid gray;flex-grow: 1;}#sk-container-id-3 div.sk-label:hover label.sk-toggleable__label {background-color: #d4ebff;}#sk-container-id-3 div.sk-serial::before {content: \"\";position: absolute;border-left: 1px solid gray;box-sizing: border-box;top: 0;bottom: 0;left: 50%;z-index: 0;}#sk-container-id-3 div.sk-serial {display: flex;flex-direction: column;align-items: center;background-color: white;padding-right: 0.2em;padding-left: 0.2em;position: relative;}#sk-container-id-3 div.sk-item {position: relative;z-index: 1;}#sk-container-id-3 div.sk-parallel {display: flex;align-items: stretch;justify-content: center;background-color: white;position: relative;}#sk-container-id-3 div.sk-item::before, #sk-container-id-3 div.sk-parallel-item::before {content: \"\";position: absolute;border-left: 1px solid gray;box-sizing: border-box;top: 0;bottom: 0;left: 50%;z-index: -1;}#sk-container-id-3 div.sk-parallel-item {display: flex;flex-direction: column;z-index: 1;position: relative;background-color: white;}#sk-container-id-3 div.sk-parallel-item:first-child::after {align-self: flex-end;width: 50%;}#sk-container-id-3 div.sk-parallel-item:last-child::after {align-self: flex-start;width: 50%;}#sk-container-id-3 div.sk-parallel-item:only-child::after {width: 0;}#sk-container-id-3 div.sk-dashed-wrapped {border: 1px dashed gray;margin: 0 0.4em 0.5em 0.4em;box-sizing: border-box;padding-bottom: 0.4em;background-color: white;}#sk-container-id-3 div.sk-label label {font-family: monospace;font-weight: bold;display: inline-block;line-height: 1.2em;}#sk-container-id-3 div.sk-label-container {text-align: center;}#sk-container-id-3 div.sk-container {/* jupyter's `normalize.less` sets `[hidden] { display: none; }` but bootstrap.min.css set `[hidden] { display: none !important; }` so we also need the `!important` here to be able to override the default hidden behavior on the sphinx rendered scikit-learn.org. See: https://github.com/scikit-learn/scikit-learn/issues/21755 */display: inline-block !important;position: relative;}#sk-container-id-3 div.sk-text-repr-fallback {display: none;}</style><div id=\"sk-container-id-3\" class=\"sk-top-container\"><div class=\"sk-text-repr-fallback\"><pre>LogisticRegression(C=0.1, max_iter=200, solver=&#x27;newton-cg&#x27;)</pre><b>In a Jupyter environment, please rerun this cell to show the HTML representation or trust the notebook. <br />On GitHub, the HTML representation is unable to render, please try loading this page with nbviewer.org.</b></div><div class=\"sk-container\" hidden><div class=\"sk-item\"><div class=\"sk-estimator sk-toggleable\"><input class=\"sk-toggleable__control sk-hidden--visually\" id=\"sk-estimator-id-3\" type=\"checkbox\" checked><label for=\"sk-estimator-id-3\" class=\"sk-toggleable__label sk-toggleable__label-arrow\">LogisticRegression</label><div class=\"sk-toggleable__content\"><pre>LogisticRegression(C=0.1, max_iter=200, solver=&#x27;newton-cg&#x27;)</pre></div></div></div></div></div>"
     },
     "execution_count": 10,
     "metadata": {},
     "output_type": "execute_result"
    }
   ],
   "source": [
    "from sklearn.linear_model import LogisticRegression\n",
    "\n",
    "parameters = {'solver': ['saga', 'lbfgs', 'liblinear', 'newton-cg', 'sag'], 'max_iter': [200], 'C': [1, 0.1, 0.03]}\n",
    "select_model(dataset, LogisticRegression, parameters)"
   ],
   "metadata": {
    "collapsed": false,
    "pycharm": {
     "name": "#%%\n"
    }
   }
  },
  {
   "cell_type": "markdown",
   "source": [
    "#### Logistic regression pros\n",
    "\n",
    "**Pros**:\n",
    "- Easy to implement\n",
    "- The predicted parameters (trained weights) give inference about the importance of each feature. (Highly interpretable)\n",
    "- This algorithm allows models to be updated easily to reflect new data, unlike decision trees or support vector machines. The update can be done using stochastic gradient descent.\n",
    "- Logistic regression outputs well-calibrated probabilities along with classification results. This is an advantage over models that only give the final classification as results.\n",
    "- In a low dimensional dataset having a sufficient number of training examples, logistic regression is less prone to over-fitting.\n",
    "\n",
    "**Cons**:\n",
    "- Non-linear problems can't be solved with logistic regression since it has a linear decision surface. Linearly separable data is rarely found in real world scenarios.\n",
    "- The training features are known as independent variables. Logistic Regression requires moderate or no multicollinearity between independent variables. Repetition of information could lead to wrong training of parameters (weights) during minimizing the cost function.\n",
    "- On high dimensional datasets with an insufficient number of data samples, the model is prone to over-fit on the training set."
   ],
   "metadata": {
    "collapsed": false,
    "pycharm": {
     "name": "#%% md\n"
    }
   }
  },
  {
   "cell_type": "markdown",
   "source": [
    "Test logistic regression accuracy on test data - 95.6%\n",
    "\n",
    "Note that best cross-validation accuracy we get with more strict regularization 0.1 (default is 1.0). It might be due to the fact that our data is high-dimensional (784d). I believe that results can be improved by apply PCA before classification."
   ],
   "metadata": {
    "collapsed": false,
    "pycharm": {
     "name": "#%% md\n"
    }
   }
  },
  {
   "cell_type": "markdown",
   "source": [
    "## 2. K-nearest neighbors"
   ],
   "metadata": {
    "collapsed": false,
    "pycharm": {
     "name": "#%% md\n"
    }
   }
  },
  {
   "cell_type": "markdown",
   "source": [
    "K-nearest Neighbor is a **supervised classification** algorithm that is based on predicting data by finding the similarities to the underlying data. KNN is most widely used for classification problems, but can also be used to solve regression problems. The original assumption is the data exist in forms of clusters or exist in close proximity. KNN is a non-parametric algorithm, which means it does not attempt to make an assumption on the data, for example it does not care if the data is normally distributed or not."
   ],
   "metadata": {
    "collapsed": false,
    "pycharm": {
     "name": "#%% md\n"
    }
   }
  },
  {
   "cell_type": "markdown",
   "source": [
    "#### Classification rule"
   ],
   "metadata": {
    "collapsed": false,
    "pycharm": {
     "name": "#%% md\n"
    }
   }
  },
  {
   "cell_type": "markdown",
   "source": [
    "Informally:\n",
    "\n",
    "For a test input x, assign the most common label amongst its k most similar training inputs\n",
    "\n",
    "Formally:\n",
    "\n",
    "Let $x$ to be test point. Define the set of the k nearest neighbors of $x$ as $S_x$. $S_x$ is defined as $S_x \\subseteq D$ s.t. $|S_x|=k$ and\n",
    "$$\n",
    "\\forall (x', y') \\in D \\setminus S_x \\quad dist(x, x') \\ge \\max_{(x'', y'') \\in S_x} dist(x, x''),\n",
    "$$\n",
    "(i.e. every point in D but not in $S_x$ is at least as far away from $x$ as the furthest point in $S_x$). We can then define the classifier h() as a function returning the most common label in $S_x$:\n",
    "$$\n",
    "h(x) = mode({y'': (x'', y'') \\in S_x}),\n",
    "$$\n",
    "where $mode(\\cdot)$ means to select the label of the highest occurrence."
   ],
   "metadata": {
    "collapsed": false,
    "pycharm": {
     "name": "#%% md\n"
    }
   }
  },
  {
   "cell_type": "markdown",
   "source": [
    "#### Distance function"
   ],
   "metadata": {
    "collapsed": false,
    "pycharm": {
     "name": "#%% md\n"
    }
   }
  },
  {
   "cell_type": "markdown",
   "source": [
    "The k-nearest neighbor classifier fundamentally relies on a distance metric. The better that metric reflects label similarity, the better the classified will be. The most common choice is the Minkowski distance\n",
    "$$\n",
    "dist(x, z) = (\\sum_{r=1}^d |x_r - z_r|^p)^{\\frac{1}{p}}\n",
    "$$\n",
    "- p = 1: Manhattan Distance ($l_1$-norm)\n",
    "- p = 2: Euclidean Distance ($l_2$-norm)\n",
    "- p $\\to \\infty$: Maximum Norm"
   ],
   "metadata": {
    "collapsed": false,
    "pycharm": {
     "name": "#%% md\n"
    }
   }
  },
  {
   "cell_type": "markdown",
   "source": [
    "#### 1-NN Convergence proof\n"
   ],
   "metadata": {
    "collapsed": false,
    "pycharm": {
     "name": "#%% md\n"
    }
   }
  },
  {
   "cell_type": "markdown",
   "source": [
    "Cover and Hart 1967: As $n \\to \\infty$, the 1-NN error is no more than twice the error of the Bayes Optimal classifier. (Similar guarantees hold for k>1.)\n",
    "\n",
    "Let $x_{NN}$ be the nearest neighbor of our test point $x_t$. As $n \\to \\infty$, dist($x_{NN},x_t$) $\\to 0$, i.e. $x_{NN} \\to x_t$. (This means the nearest neighbor is identical to $x_t$.) You return the label of $x_{NN}$. What is the probability that this is not the label of x? (This is the probability of drawing two different label of x)\n",
    "$$\n",
    "\\varepsilon_{NN} = P(y^*|x_t)(1 - P(y^*|x_{NN})) + P(y^*|x_{NN})(1 - P(y^*|x_t)) \\le (1 - P(y^*|x_{NN})) + (1 - P(y^*|x_t)) = 2(1 - P(y^*|x_t)) = 2\\varepsilon_{BayesOpt}\n",
    "$$"
   ],
   "metadata": {
    "collapsed": false,
    "pycharm": {
     "name": "#%% md\n"
    }
   }
  },
  {
   "cell_type": "markdown",
   "source": [
    "#### Curse of dimensionality\n"
   ],
   "metadata": {
    "collapsed": false,
    "pycharm": {
     "name": "#%% md\n"
    }
   }
  },
  {
   "cell_type": "markdown",
   "source": [
    "Imagine $X=[0,1]^d$, and k=10 and all training data is sampled uniformly with X, i.e. $\\forall i,x_i \\in [0,1]^d$. Let $l$ be the edge length of the smallest hyper-cube that contains all k-nearest neighbor of a test point. Then $l^d \\approx \\frac{k}{n}$ and $l \\approx (\\frac{k}{n})^{1/d}$\n",
    "Let's take $n = 1000$ and how $l$ changes as d grows:\n",
    "$$\n",
    "d \\quad l \\\\\n",
    "2 \\quad 0.1 \\\\\n",
    "10 \\quad 0.63 \\\\\n",
    "100 \\quad 0.955 \\\\\n",
    "1000 \\quad 0.9954\n",
    "$$\n",
    "Almost the entire space is needed to find the 10-NN.\n",
    "\n",
    "\n"
   ],
   "metadata": {
    "collapsed": false,
    "pycharm": {
     "name": "#%% md\n"
    }
   }
  },
  {
   "cell_type": "code",
   "execution_count": 11,
   "outputs": [
    {
     "name": "stdout",
     "output_type": "stream",
     "text": [
      "Cross-validation accuracy=0.9858, parameters={'n_neighbors': 11}\n",
      "Cross-validation accuracy=0.9854, parameters={'n_neighbors': 13}\n",
      "Cross-validation accuracy=0.9845, parameters={'n_neighbors': 15}\n",
      "Cross-validation accuracy=0.9836, parameters={'n_neighbors': 17}\n",
      "Cross-validation accuracy=0.9840, parameters={'n_neighbors': 19}\n",
      "Cross-validation accuracy=0.9831, parameters={'n_neighbors': 21}\n",
      "Cross-validation accuracy=0.9823, parameters={'n_neighbors': 23}\n",
      "Cross-validation accuracy=0.9805, parameters={'n_neighbors': 25}\n",
      "Cross-validation accuracy=0.9800, parameters={'n_neighbors': 27}\n",
      "Cross-validation accuracy=0.9800, parameters={'n_neighbors': 29}\n",
      "Test accuracy=0.9877, parameters={'n_neighbors': 11}\n"
     ]
    },
    {
     "data": {
      "text/plain": "KNeighborsClassifier(n_neighbors=11)",
      "text/html": "<style>#sk-container-id-4 {color: black;background-color: white;}#sk-container-id-4 pre{padding: 0;}#sk-container-id-4 div.sk-toggleable {background-color: white;}#sk-container-id-4 label.sk-toggleable__label {cursor: pointer;display: block;width: 100%;margin-bottom: 0;padding: 0.3em;box-sizing: border-box;text-align: center;}#sk-container-id-4 label.sk-toggleable__label-arrow:before {content: \"▸\";float: left;margin-right: 0.25em;color: #696969;}#sk-container-id-4 label.sk-toggleable__label-arrow:hover:before {color: black;}#sk-container-id-4 div.sk-estimator:hover label.sk-toggleable__label-arrow:before {color: black;}#sk-container-id-4 div.sk-toggleable__content {max-height: 0;max-width: 0;overflow: hidden;text-align: left;background-color: #f0f8ff;}#sk-container-id-4 div.sk-toggleable__content pre {margin: 0.2em;color: black;border-radius: 0.25em;background-color: #f0f8ff;}#sk-container-id-4 input.sk-toggleable__control:checked~div.sk-toggleable__content {max-height: 200px;max-width: 100%;overflow: auto;}#sk-container-id-4 input.sk-toggleable__control:checked~label.sk-toggleable__label-arrow:before {content: \"▾\";}#sk-container-id-4 div.sk-estimator input.sk-toggleable__control:checked~label.sk-toggleable__label {background-color: #d4ebff;}#sk-container-id-4 div.sk-label input.sk-toggleable__control:checked~label.sk-toggleable__label {background-color: #d4ebff;}#sk-container-id-4 input.sk-hidden--visually {border: 0;clip: rect(1px 1px 1px 1px);clip: rect(1px, 1px, 1px, 1px);height: 1px;margin: -1px;overflow: hidden;padding: 0;position: absolute;width: 1px;}#sk-container-id-4 div.sk-estimator {font-family: monospace;background-color: #f0f8ff;border: 1px dotted black;border-radius: 0.25em;box-sizing: border-box;margin-bottom: 0.5em;}#sk-container-id-4 div.sk-estimator:hover {background-color: #d4ebff;}#sk-container-id-4 div.sk-parallel-item::after {content: \"\";width: 100%;border-bottom: 1px solid gray;flex-grow: 1;}#sk-container-id-4 div.sk-label:hover label.sk-toggleable__label {background-color: #d4ebff;}#sk-container-id-4 div.sk-serial::before {content: \"\";position: absolute;border-left: 1px solid gray;box-sizing: border-box;top: 0;bottom: 0;left: 50%;z-index: 0;}#sk-container-id-4 div.sk-serial {display: flex;flex-direction: column;align-items: center;background-color: white;padding-right: 0.2em;padding-left: 0.2em;position: relative;}#sk-container-id-4 div.sk-item {position: relative;z-index: 1;}#sk-container-id-4 div.sk-parallel {display: flex;align-items: stretch;justify-content: center;background-color: white;position: relative;}#sk-container-id-4 div.sk-item::before, #sk-container-id-4 div.sk-parallel-item::before {content: \"\";position: absolute;border-left: 1px solid gray;box-sizing: border-box;top: 0;bottom: 0;left: 50%;z-index: -1;}#sk-container-id-4 div.sk-parallel-item {display: flex;flex-direction: column;z-index: 1;position: relative;background-color: white;}#sk-container-id-4 div.sk-parallel-item:first-child::after {align-self: flex-end;width: 50%;}#sk-container-id-4 div.sk-parallel-item:last-child::after {align-self: flex-start;width: 50%;}#sk-container-id-4 div.sk-parallel-item:only-child::after {width: 0;}#sk-container-id-4 div.sk-dashed-wrapped {border: 1px dashed gray;margin: 0 0.4em 0.5em 0.4em;box-sizing: border-box;padding-bottom: 0.4em;background-color: white;}#sk-container-id-4 div.sk-label label {font-family: monospace;font-weight: bold;display: inline-block;line-height: 1.2em;}#sk-container-id-4 div.sk-label-container {text-align: center;}#sk-container-id-4 div.sk-container {/* jupyter's `normalize.less` sets `[hidden] { display: none; }` but bootstrap.min.css set `[hidden] { display: none !important; }` so we also need the `!important` here to be able to override the default hidden behavior on the sphinx rendered scikit-learn.org. See: https://github.com/scikit-learn/scikit-learn/issues/21755 */display: inline-block !important;position: relative;}#sk-container-id-4 div.sk-text-repr-fallback {display: none;}</style><div id=\"sk-container-id-4\" class=\"sk-top-container\"><div class=\"sk-text-repr-fallback\"><pre>KNeighborsClassifier(n_neighbors=11)</pre><b>In a Jupyter environment, please rerun this cell to show the HTML representation or trust the notebook. <br />On GitHub, the HTML representation is unable to render, please try loading this page with nbviewer.org.</b></div><div class=\"sk-container\" hidden><div class=\"sk-item\"><div class=\"sk-estimator sk-toggleable\"><input class=\"sk-toggleable__control sk-hidden--visually\" id=\"sk-estimator-id-4\" type=\"checkbox\" checked><label for=\"sk-estimator-id-4\" class=\"sk-toggleable__label sk-toggleable__label-arrow\">KNeighborsClassifier</label><div class=\"sk-toggleable__content\"><pre>KNeighborsClassifier(n_neighbors=11)</pre></div></div></div></div></div>"
     },
     "execution_count": 11,
     "metadata": {},
     "output_type": "execute_result"
    }
   ],
   "source": [
    "from sklearn.neighbors import KNeighborsClassifier\n",
    "\n",
    "parameters = {'n_neighbors': list(range(11, 30, 2))}\n",
    "select_model(dataset, KNeighborsClassifier, parameters)"
   ],
   "metadata": {
    "collapsed": false,
    "pycharm": {
     "name": "#%%\n"
    }
   }
  },
  {
   "cell_type": "markdown",
   "source": [
    "#### k-NN pros and cons\n",
    "\n",
    "**Pros**:\n",
    "- intuitive and simple: k-NN algorithm is very simple to understand and equally easy to implement.\n",
    "- no assumptions: K-NN is a non-parametric algorithm which means there are assumptions to be met to implement it.\n",
    "- no training step: Given it’s an instance-based learning; k-NN is a memory-based approach. The classifier immediately adapts as we collect new training data.\n",
    "- easy to implement for multi-class problem: Most of the classifier algorithms are easy to implement for binary problems and needs effort to implement for multi class.\n",
    "- can be used both for classification and regression\n",
    "- only one hyper-parameter\n",
    "- variety of distance criteria to be choose from: Euclidean dist, Hamming dist, Manhattan dist and Minkowski dist as most general\n",
    "\n",
    "**Cons**:\n",
    "- slow algorithm: k-NN might be very easy to implement but as dataset grows efficiency or speed of algorithm declines very fast.\n",
    "- curse of dimensionality: k-NN works well with small number of input variables but as the numbers of variables grow k-NN algorithm struggles to predict the output of new data point.\n",
    "- k-NN needs homogeneous features: If you decide to build k-NN using a common distance, like Euclidean or Manhattan distances, it is completely necessary that features have the same scale, since absolute differences in features weight the same, i.e., a given distance in feature 1 must means the same for feature 2.\n",
    "- whhat is optimal number of neighbors\n",
    "- imbalanced data causes problems\n",
    "- outlier sensitivity\n",
    "- missing value treatment: k-NN inherently has no capability of dealing with missing value problem."
   ],
   "metadata": {
    "collapsed": false,
    "pycharm": {
     "name": "#%% md\n"
    }
   }
  },
  {
   "cell_type": "markdown",
   "source": [],
   "metadata": {
    "collapsed": false,
    "pycharm": {
     "name": "#%% md\n"
    }
   }
  },
  {
   "cell_type": "markdown",
   "source": [
    "Test k-NN accuracy on test data - 98.8%"
   ],
   "metadata": {
    "collapsed": false,
    "pycharm": {
     "name": "#%% md\n"
    }
   }
  },
  {
   "cell_type": "markdown",
   "source": [
    "## 3. Artificial Neural Network\n"
   ],
   "metadata": {
    "collapsed": false,
    "pycharm": {
     "name": "#%% md\n"
    }
   }
  },
  {
   "cell_type": "markdown",
   "source": [
    "Arificial Neural network is quite a big set of algorithms. The main idea is inspired by how our brains works, though it has a lot less in common that we may think.\n",
    "\n",
    "An ANN is based on a collection of connected units or nodes called artificial neurons or perceptron, which loosely model the neurons in a biological brain. Each connection, like the synapses in a biological brain, can transmit signal to other neurons.\n",
    "\n",
    "There is a Universal approximation theorem[7] that shows, that actually any function can be estimated with a big enough ANN"
   ],
   "metadata": {
    "collapsed": false,
    "pycharm": {
     "name": "#%% md\n"
    }
   }
  },
  {
   "cell_type": "markdown",
   "source": [
    "#### General idea"
   ],
   "metadata": {
    "collapsed": false,
    "pycharm": {
     "name": "#%% md\n"
    }
   }
  },
  {
   "cell_type": "markdown",
   "source": [
    "'Signal' in a computer is just a float number. The bigger number corresponding to particular neuron, the bigger its activation. There can be many layers of neurons.\n",
    "\n",
    "In a 'classic' Linear Fully conncted network, neurons at each layer are interconnected with all neurons from previous and next layers. Exceptions are input layers (input we get from data), and output layer.\n",
    "\n",
    "Those connections are called edges, and they have some weights (learnable parameters), that explain how different neurons from previos layer impact activation of current neuron from current layer. This simple structure can make network learn difficult pattern\n",
    "\n",
    "\n",
    "Usually one step inside such network can be described in terms of matrix multiplication. Let's say that for some perceptron $i$ on layer $k$ we have vector of weights $w_i$ for each perceptron from previous layer. Then activatin of such neuron can written as a linear combination of activations of all the perceptrons from previous step: $a_i^k=w_{i1} \\cdot a_1^{k-1} + w_{i2} \\cdot a_2^{k-1} + \\cdots w_{in} + \\cdot a_n^{k-1} + b_i=w_i \\cdot a^{k-1} + b_i$\n",
    "\n",
    "Then we can rewrite one layer of activation as a matrix multiplication:\n",
    "\n",
    "$$a^k = W^k \\cdot a^{k-1} + b$$\n",
    "$$W^k=\\begin{bmatrix}\n",
    "-- w_1^k -- \\\\\n",
    "-- w_2^k -- \\\\\n",
    "-- \\cdots -- \\\\\n",
    "-- w_n^k -- \\\\\n",
    "\\end{bmatrix}\n",
    "$$\n",
    "\n",
    "\n",
    "-----------\n",
    "\n",
    "\n",
    "<img src=\"./media/nn.jpeg\" alt=\"drawing\" width=\"500\"/>"
   ],
   "metadata": {
    "collapsed": false,
    "pycharm": {
     "name": "#%% md\n"
    }
   }
  },
  {
   "cell_type": "markdown",
   "source": [
    "#### Activation functions"
   ],
   "metadata": {
    "collapsed": false,
    "pycharm": {
     "name": "#%% md\n"
    }
   }
  },
  {
   "cell_type": "markdown",
   "source": [
    "To make ANN learn a non-linear patterns, we have to add so-called 'activation function'. That is some non-linear function `A` that is applied to each neuron at some layer.\n",
    "\n",
    "Ths most popular are:\n",
    "- Sigmoid: $S(a) = \\frac{1}{1+e^{-x}}$\n",
    "- tanh: $T(a) = \\frac{e^{2x} - 1}{e^{2x} + 1}$\n",
    "- Relu: $R(a) = max(0, a)$\n",
    "- Parametruc Relu:\n",
    "\n",
    "\\begin{document}\n",
    "\\[\n",
    "  Pr(a) =\n",
    "  \\begin{cases}\n",
    "    x     & \\text{ if $x > 0$}, \\\\\n",
    "    ax    & \\text{ if $x <= 0$}.\n",
    "  \\end{cases}\n",
    "\\]\n",
    "\\end{document}"
   ],
   "metadata": {
    "collapsed": false,
    "pycharm": {
     "name": "#%% md\n"
    }
   }
  },
  {
   "cell_type": "markdown",
   "source": [
    "#### Learning ANN"
   ],
   "metadata": {
    "collapsed": false,
    "pycharm": {
     "name": "#%% md\n"
    }
   }
  },
  {
   "cell_type": "markdown",
   "source": [
    "The most popular and most practical way to learn weights and train model - back propagation.\n",
    "\n",
    "That is basically feed data to ANN, compute some loss function (usually defined by the problem we're solving), compute gradients using chain rule, and using some clever modification of gradient descent update all weights in the model. Repeat this process unless value of loss function converges, or we get good enough metrics.\n",
    "\n",
    "Without too much of details, Let's say we have value of loss function $C$. Now since loss function is known, and usually differentiated function is takes as a loss function, we can compute $\\frac{dC}{dA^k}$, where $A^k$ is a output of the model.\n",
    "\n",
    "Then since we know derivative of activation function, we can compute $\\frac{dC}{da^k} = \\frac{dC}{dA^k} \\cdot \\frac{dA^k}{da^k}$, where $a^k$ - perceptrons activations on the last layer. Now since we know that activations are just a linear function of the output of previous step, we can continue this process, until we get to the input layer."
   ],
   "metadata": {
    "collapsed": false,
    "pycharm": {
     "name": "#%% md\n"
    }
   }
  },
  {
   "cell_type": "markdown",
   "source": [
    "#### Implementation"
   ],
   "metadata": {
    "collapsed": false,
    "pycharm": {
     "name": "#%% md\n"
    }
   }
  },
  {
   "cell_type": "markdown",
   "source": [
    "In 99% of situations, creating neural network from scratch is not needed, since modern high-level frameworks propose a ton of functionality. Let's use `pytorch` to create a relatively simple fully connected neural network:"
   ],
   "metadata": {
    "collapsed": false,
    "pycharm": {
     "name": "#%% md\n"
    }
   }
  },
  {
   "cell_type": "code",
   "execution_count": 34,
   "outputs": [],
   "source": [
    "from typing import List\n",
    "import torch\n",
    "import torch.nn as nn\n",
    "import torch.nn.functional as F\n",
    "from torch.utils.data import Dataset as TorchDataset\n",
    "from torch.utils.data import DataLoader\n",
    "\n",
    "\n",
    "class LinearMnistNN(nn.Module):\n",
    "    def __init__(self,\n",
    "                 layers_sizes: List | None = None,\n",
    "                 activation=F.relu,\n",
    "                 n_classes=2,\n",
    "                 input_size=784):\n",
    "        super().__init__()\n",
    "        if layers_sizes is None:\n",
    "            layers_sizes = [16, 16]\n",
    "        self.activation = activation\n",
    "        self.n_classes = n_classes\n",
    "\n",
    "        prev_size = input_size\n",
    "        for i, cur_size in enumerate(layers_sizes):\n",
    "            self.__setattr__(f\"linear_{i}\", nn.Linear(prev_size, cur_size))\n",
    "            prev_size = cur_size\n",
    "        self.__setattr__(f\"linear_{i + 1}\", nn.Linear(prev_size, n_classes))\n",
    "        self.n_layers = len(layers_sizes) + 1\n",
    "\n",
    "    def forward(self, x):\n",
    "        x = torch.flatten(x, 1)\n",
    "        for i in range(self.n_layers):\n",
    "            x = self.activation(self.__getattr__(f\"linear_{i}\")(x))\n",
    "        x = F.softmax(x, 1)\n",
    "        return x\n",
    "\n",
    "\n",
    "class MNIST_Dataset(TorchDataset):\n",
    "    def __init__(self,\n",
    "                 dataset: Dataset,\n",
    "                 train=False,\n",
    "                 cv=False,\n",
    "                 test=False,\n",
    "                 length: int | None = None,\n",
    "                 ) -> None:\n",
    "        super().__init__()\n",
    "        if sum((train, cv, test)) != 1:\n",
    "            raise ValueError(\"Choose only one - train/cv/test\")\n",
    "        if train:\n",
    "            self.data = dataset.train_data[:length]\n",
    "            self.labels = dataset.train_targets[:length]\n",
    "        elif cv:\n",
    "            self.data = dataset.cv_data[:length]\n",
    "            self.labels = dataset.cv_targets[:length]\n",
    "        elif test:\n",
    "            self.data = dataset.test_data[:length]\n",
    "            self.labels = dataset.test_targets[:length]\n",
    "        self.data = torch.from_numpy(self.data.astype(np.float32))\n",
    "        self.labels = torch.from_numpy(self.labels.astype(np.int))\n",
    "        self.length = length if length is not None else len(self.labels)\n",
    "\n",
    "    def __getitem__(self, index: int):\n",
    "        return torch.flatten(self.data[index]), self.labels[index]\n",
    "\n",
    "    def __len__(self):\n",
    "        return self.length"
   ],
   "metadata": {
    "collapsed": false,
    "pycharm": {
     "name": "#%%\n"
    }
   }
  },
  {
   "cell_type": "markdown",
   "source": [
    "Neural network above can be configured - we can choose number of hidden layers, and their sizes. Also, we can choose an activation function.\n",
    "\n",
    "For a convenience, I also created dataset wrapper, that can work well with a torch.\n",
    "\n",
    "Model training also requires quite a lot of code:"
   ],
   "metadata": {
    "collapsed": false,
    "pycharm": {
     "name": "#%% md\n"
    }
   }
  },
  {
   "cell_type": "code",
   "execution_count": 42,
   "outputs": [],
   "source": [
    "from sklearn.metrics import f1_score, accuracy_score\n",
    "import copy\n",
    "\n",
    "\n",
    "def train_one_epoch(model: torch.nn.Module, optimizer: torch.optim.Optimizer,\n",
    "                    training_loader: DataLoader, loss_fn: Callable,\n",
    "                    print_each: int, verbose=False,\n",
    "                    ) -> List[float]:\n",
    "    running_loss = 0.\n",
    "    loss_history = []\n",
    "    for i, data in enumerate(training_loader):\n",
    "        inputs, labels = data  # get data from batch\n",
    "        optimizer.zero_grad()  # Zero your gradients for every batch\n",
    "        outputs = model(inputs)  # Make predictions for this batch\n",
    "        loss = loss_fn(outputs, labels)  # Compute the loss and its gradients\n",
    "        loss.backward()\n",
    "        optimizer.step()  # Adjust learning weights\n",
    "\n",
    "        # Gather data and report\n",
    "        running_loss += loss.item()\n",
    "        if i % print_each == print_each - 1:\n",
    "            last_loss = running_loss / print_each  # loss per batch\n",
    "            verbose and print(f\"  batch {i + 1} loss: {last_loss}\")\n",
    "            loss_history.append(float(last_loss))\n",
    "            running_loss = 0.\n",
    "    return loss_history\n",
    "\n",
    "\n",
    "def train_model(\n",
    "        model: torch.nn.Module, optimizer: torch.optim.Optimizer, config: Dict\n",
    ") -> Tuple[Dict[str, List], torch.nn.Module | None]:\n",
    "    deep_cnf = config[\"deep_model\"]\n",
    "    loss_fn = torch.nn.CrossEntropyLoss()  # loss function - cross entropy\n",
    "\n",
    "    train_ds = MNIST_Dataset(dataset, train=True)\n",
    "    cv_ds = MNIST_Dataset(dataset, cv=True)\n",
    "\n",
    "    # prepare data loader\n",
    "    training_loader = DataLoader(\n",
    "        train_ds, batch_size=deep_cnf[\"batch_size\"], shuffle=True, num_workers=deep_cnf[\"loader_num_workers\"]\n",
    "    )\n",
    "    validation_loader = DataLoader(\n",
    "        cv_ds, batch_size=deep_cnf[\"batch_size\"], shuffle=False, num_workers=deep_cnf[\"loader_num_workers\"]\n",
    "    )\n",
    "\n",
    "    print_each = deep_cnf[\"print_each\"]\n",
    "    n_epoch = deep_cnf[\"n_epoch\"]\n",
    "\n",
    "    history = {\n",
    "        \"avg_cv_loss\": [],\n",
    "        \"train_loss\": [],\n",
    "        \"avg_accuracy\": [],\n",
    "        \"avg_f1\": [],\n",
    "    }\n",
    "\n",
    "    best_model = None\n",
    "    best_cv_acc = -1\n",
    "\n",
    "    for epoch in range(n_epoch):\n",
    "        model.train()  # put model in a train mode\n",
    "        loss_h = train_one_epoch(model, optimizer, training_loader, loss_fn, print_each, verbose=False)\n",
    "        model.eval()  # put model in evaluation mode\n",
    "        cv_loss = 0.0\n",
    "        cv_accuracy = 0.0\n",
    "        cv_f1 = 0.0\n",
    "        for i, vdata in enumerate(validation_loader):\n",
    "            vinputs, vlabels = vdata\n",
    "            voutputs = model(vinputs)\n",
    "            vloss = loss_fn(voutputs, vlabels)\n",
    "            cv_loss += vloss.item()\n",
    "\n",
    "            preds = voutputs.max(dim=1)[1].numpy()\n",
    "            cv_accuracy += accuracy_score(vlabels, preds)\n",
    "            cv_f1 += f1_score(vlabels, preds)\n",
    "\n",
    "        history[\"avg_accuracy\"].append(float(cv_accuracy / (i + 1)))\n",
    "        history[\"avg_f1\"].append(float(cv_loss / (i + 1)))\n",
    "        history[\"avg_cv_loss\"].append(float(cv_f1 / (i + 1)))\n",
    "        history[\"train_loss\"] += loss_h\n",
    "\n",
    "        avg_train_loss = np.mean(loss_h)\n",
    "        print(f\"EPOCH: {epoch} done. loss: {avg_train_loss}, accuracy: {history['avg_accuracy'][-1]}\")\n",
    "\n",
    "        # update best model\n",
    "        if history['avg_accuracy'][-1] > best_cv_acc:\n",
    "            best_model = copy.deepcopy(model)\n",
    "            best_cv_acc = history['avg_accuracy'][-1]\n",
    "\n",
    "    return history, best_model\n"
   ],
   "metadata": {
    "collapsed": false,
    "pycharm": {
     "name": "#%%\n"
    }
   }
  },
  {
   "cell_type": "markdown",
   "source": [
    "Also, we will need some functions to evaluate model on the test dataset, vizualize training history:"
   ],
   "metadata": {
    "collapsed": false,
    "pycharm": {
     "name": "#%% md\n"
    }
   }
  },
  {
   "cell_type": "code",
   "execution_count": 43,
   "outputs": [],
   "source": [
    "from torch.nn import Module\n",
    "\n",
    "\n",
    "def vizualize_history(history: Dict):\n",
    "    fig, axes = plt.subplots(3, 1, sharex=True)\n",
    "    fig_width, fig_height = fig.get_size_inches()\n",
    "    fig.set_size_inches(fig_width, fig_height * 3)\n",
    "    idx = 0\n",
    "    for key in history:\n",
    "        if key == \"train_loss\":\n",
    "            continue\n",
    "        axes[idx].set_title(key)\n",
    "        axes[idx].set_xlabel(\"epoch\")\n",
    "        axes[idx].plot(history[key])\n",
    "        idx += 1\n",
    "    plt.show()\n",
    "    plt.title(\"train loss\")\n",
    "    plt.plot(history[\"train_loss\"])\n",
    "    plt.xlabel(\"epoch\")\n",
    "    plt.show()\n",
    "\n",
    "\n",
    "def eval_model(model: Module) -> Dict:\n",
    "    model.eval()\n",
    "\n",
    "    inputs = torch.from_numpy(dataset.test_data.astype(np.float32))\n",
    "    labels = dataset.test_targets\n",
    "\n",
    "    outputs = model(inputs)\n",
    "    preds = outputs.max(dim=1)[1].numpy()\n",
    "    acc = accuracy_score(labels, preds)\n",
    "    f1 = f1_score(labels, preds)\n",
    "\n",
    "    print(f\"Test accuracy: {acc}, f1-score: {f1}\")\n",
    "    return {\n",
    "        \"accuracy\": acc,\n",
    "        \"f1-score\": f1,\n",
    "    }"
   ],
   "metadata": {
    "collapsed": false,
    "pycharm": {
     "name": "#%%\n"
    }
   }
  },
  {
   "cell_type": "code",
   "execution_count": 45,
   "outputs": [
    {
     "name": "stderr",
     "output_type": "stream",
     "text": [
      "/tmp/ipykernel_19987/1468713152.py:57: DeprecationWarning: `np.int` is a deprecated alias for the builtin `int`. To silence this warning, use `int` by itself. Doing this will not modify any behavior and is safe. When replacing `np.int`, you may wish to use e.g. `np.int64` or `np.int32` to specify the precision. If you wish to review your current use, check the release note link for additional information.\n",
      "Deprecated in NumPy 1.20; for more details and guidance: https://numpy.org/devdocs/release/1.20.0-notes.html#deprecations\n",
      "  self.labels = torch.from_numpy(self.labels.astype(np.int))\n"
     ]
    },
    {
     "name": "stdout",
     "output_type": "stream",
     "text": [
      "EPOCH: 0 done. loss: 0.36828688029889706, accuracy: 0.9559859154929577\n",
      "EPOCH: 1 done. loss: 0.3439179410537084, accuracy: 0.9709507042253521\n",
      "EPOCH: 2 done. loss: 0.3376657319289667, accuracy: 0.9762323943661971\n",
      "EPOCH: 3 done. loss: 0.33580154798648976, accuracy: 0.9815140845070423\n",
      "EPOCH: 4 done. loss: 0.3316431481529165, accuracy: 0.9779929577464789\n",
      "EPOCH: 5 done. loss: 0.3299776365359624, accuracy: 0.9810739436619719\n",
      "EPOCH: 6 done. loss: 0.33410466059490485, accuracy: 0.9797535211267606\n",
      "EPOCH: 7 done. loss: 0.33140984332119977, accuracy: 0.9775528169014085\n",
      "EPOCH: 8 done. loss: 0.3306962721877628, accuracy: 0.9841549295774648\n",
      "EPOCH: 9 done. loss: 0.3322595906478387, accuracy: 0.9797535211267606\n",
      "EPOCH: 10 done. loss: 0.3268698588565544, accuracy: 0.9665492957746479\n",
      "EPOCH: 11 done. loss: 0.33122588760322996, accuracy: 0.9766725352112676\n",
      "EPOCH: 12 done. loss: 0.32847178114785086, accuracy: 0.983274647887324\n",
      "EPOCH: 13 done. loss: 0.32821037250536456, accuracy: 0.9793133802816901\n",
      "EPOCH: 14 done. loss: 0.32682477600044674, accuracy: 0.9722711267605634\n",
      "EPOCH: 15 done. loss: 0.3346402529213164, accuracy: 0.980193661971831\n",
      "EPOCH: 16 done. loss: 0.33034214973449705, accuracy: 0.9797535211267606\n",
      "EPOCH: 17 done. loss: 0.32882354049770923, accuracy: 0.9753521126760564\n",
      "EPOCH: 18 done. loss: 0.33082158135043255, accuracy: 0.980193661971831\n",
      "EPOCH: 19 done. loss: 0.3292068122713654, accuracy: 0.9766725352112676\n",
      "EPOCH: 20 done. loss: 0.331015752531864, accuracy: 0.9779929577464789\n",
      "EPOCH: 21 done. loss: 0.331569351973357, accuracy: 0.9779929577464789\n",
      "EPOCH: 22 done. loss: 0.32793594786414393, accuracy: 0.9797535211267606\n",
      "EPOCH: 23 done. loss: 0.32953280652010886, accuracy: 0.9806338028169014\n",
      "EPOCH: 24 done. loss: 0.3281234630831966, accuracy: 0.9546654929577465\n",
      "EPOCH: 25 done. loss: 0.3342933301572446, accuracy: 0.9819542253521126\n",
      "EPOCH: 26 done. loss: 0.3318661242723465, accuracy: 0.983274647887324\n",
      "EPOCH: 27 done. loss: 0.32918111692976065, accuracy: 0.9775528169014085\n",
      "EPOCH: 28 done. loss: 0.3302964756886164, accuracy: 0.9775528169014085\n",
      "EPOCH: 29 done. loss: 0.3318899563065282, accuracy: 0.9823943661971831\n"
     ]
    },
    {
     "data": {
      "text/plain": "<Figure size 432x864 with 3 Axes>",
      "image/png": "[encoded data removed]"
     },
     "metadata": {
      "needs_background": "light"
     },
     "output_type": "display_data"
    },
    {
     "data": {
      "text/plain": "<Figure size 432x288 with 1 Axes>",
      "image/png": "[encoded data removed]"
     },
     "metadata": {
      "needs_background": "light"
     },
     "output_type": "display_data"
    },
    {
     "name": "stdout",
     "output_type": "stream",
     "text": [
      "Test accuracy: 0.9866023579849946, f1-score: 0.987120041215868\n"
     ]
    },
    {
     "data": {
      "text/plain": "{'accuracy': 0.9866023579849946, 'f1-score': 0.987120041215868}"
     },
     "execution_count": 45,
     "metadata": {},
     "output_type": "execute_result"
    }
   ],
   "source": [
    "from torch.optim import Adam\n",
    "\n",
    "config = {\n",
    "    \"deep_model\": {\n",
    "        \"linear\": {\n",
    "            \"layers_sizes\": [16, 16],\n",
    "            \"activation\": \"relu\",\n",
    "        },\n",
    "        \"batch_size\": 32,\n",
    "        \"loader_num_workers\": 4,\n",
    "        \"print_each\": 30,\n",
    "        \"n_epoch\": 30,\n",
    "    }\n",
    "\n",
    "}\n",
    "\n",
    "model = LinearMnistNN()\n",
    "optimizer = Adam(list(model.parameters()), lr=0.005, weight_decay=0.001)\n",
    "history, best_model = train_model(model, optimizer, config)\n",
    "vizualize_history(history)\n",
    "\n",
    "eval_model(best_model)"
   ],
   "metadata": {
    "collapsed": false,
    "pycharm": {
     "name": "#%%\n"
    }
   }
  },
  {
   "cell_type": "markdown",
   "source": [
    "Now let's try to fine tune the model:"
   ],
   "metadata": {
    "collapsed": false,
    "pycharm": {
     "name": "#%% md\n"
    }
   }
  },
  {
   "cell_type": "code",
   "execution_count": 53,
   "outputs": [],
   "source": [
    "from pprint import pprint\n",
    "\n",
    "\n",
    "def grid_search_nn(\n",
    "        layers: List[List[int]],\n",
    "        optimizers: List[Tuple[type, Dict[str, float]]],\n",
    "        activations: List[Callable],\n",
    "        config: Dict,\n",
    "):\n",
    "    very_best_model = None\n",
    "    very_best_val_accuracy = -1\n",
    "    very_best_config = {}\n",
    "    results = []\n",
    "\n",
    "    for layer_sizes in layers:\n",
    "        print(f\"Current layers: {layer_sizes}\")\n",
    "        for opt_cnf in optimizers:\n",
    "            opt_cnf_full = copy.deepcopy(opt_cnf[1])\n",
    "            opt_cnf_full.update({\"name\": opt_cnf[0].__name__})\n",
    "            print(f\"  Current optimizer: {opt_cnf_full}\")\n",
    "            for activation in activations:\n",
    "                print(f\"    Current activation: {activation.__name__}\")\n",
    "                model = LinearMnistNN(layer_sizes, activation)\n",
    "                optimizer = opt_cnf[0](list(model.parameters()), **opt_cnf[1])\n",
    "\n",
    "                history, best_model = train_model(model, optimizer, config)\n",
    "\n",
    "                cur_best_cv_acc = min(history[\"avg_cv_loss\"])\n",
    "                # cur_best_cv_f1 = min(history[\"avg_f1\"])\n",
    "\n",
    "                cur_configuration = {\n",
    "                    \"layers\": layer_sizes,\n",
    "                    \"activation\": activation.__name__,\n",
    "                    \"optimizer_cnf\": opt_cnf_full,\n",
    "                    \"cv_accuracy\": cur_best_cv_acc,\n",
    "                }\n",
    "\n",
    "                if cur_best_cv_acc > very_best_val_accuracy:\n",
    "                    very_best_model = best_model\n",
    "                    very_best_config = cur_configuration\n",
    "\n",
    "                results.append(cur_configuration)\n",
    "\n",
    "    print(f\"best model has accuracy {very_best_val_accuracy}, and config:\")\n",
    "    pprint(very_best_config)\n",
    "    return results, very_best_model"
   ],
   "metadata": {
    "collapsed": false,
    "pycharm": {
     "name": "#%%\n"
    }
   }
  },
  {
   "cell_type": "code",
   "execution_count": 54,
   "outputs": [
    {
     "name": "stdout",
     "output_type": "stream",
     "text": [
      "Current layers: [16, 16]\n",
      "  Current optimizer: {'lr': 0.005, 'weight_decay': 0.005, 'name': 'Adam'}\n",
      "    Current activation: relu\n"
     ]
    },
    {
     "name": "stderr",
     "output_type": "stream",
     "text": [
      "/tmp/ipykernel_19987/1468713152.py:57: DeprecationWarning: `np.int` is a deprecated alias for the builtin `int`. To silence this warning, use `int` by itself. Doing this will not modify any behavior and is safe. When replacing `np.int`, you may wish to use e.g. `np.int64` or `np.int32` to specify the precision. If you wish to review your current use, check the release note link for additional information.\n",
      "Deprecated in NumPy 1.20; for more details and guidance: https://numpy.org/devdocs/release/1.20.0-notes.html#deprecations\n",
      "  self.labels = torch.from_numpy(self.labels.astype(np.int))\n"
     ]
    },
    {
     "name": "stdout",
     "output_type": "stream",
     "text": [
      "EPOCH: 0 done. loss: 0.5510607776818452, accuracy: 0.9432218309859155\n",
      "EPOCH: 1 done. loss: 0.3540600225881294, accuracy: 0.9744718309859155\n",
      "EPOCH: 2 done. loss: 0.3424782419646228, accuracy: 0.9705105633802817\n",
      "EPOCH: 3 done. loss: 0.34266777921605995, accuracy: 0.9762323943661971\n",
      "EPOCH: 4 done. loss: 0.34035911515907, accuracy: 0.9753521126760564\n",
      "EPOCH: 5 done. loss: 0.3411540510477843, accuracy: 0.9757922535211268\n",
      "EPOCH: 6 done. loss: 0.33798194008844873, accuracy: 0.9700704225352113\n",
      "EPOCH: 7 done. loss: 0.3401106388480575, accuracy: 0.9678697183098591\n",
      "EPOCH: 8 done. loss: 0.3417808498497363, accuracy: 0.9753521126760564\n",
      "EPOCH: 9 done. loss: 0.33824292840781034, accuracy: 0.9507042253521126\n",
      "EPOCH: 10 done. loss: 0.3396172206710886, accuracy: 0.9705105633802817\n",
      "EPOCH: 11 done. loss: 0.3381507812826722, accuracy: 0.9727112676056338\n",
      "EPOCH: 12 done. loss: 0.33970494711840593, accuracy: 0.977112676056338\n",
      "EPOCH: 13 done. loss: 0.33963172270192044, accuracy: 0.9647887323943662\n",
      "EPOCH: 14 done. loss: 0.33684574994775984, accuracy: 0.9744718309859155\n",
      "EPOCH: 15 done. loss: 0.33934304526558623, accuracy: 0.9621478873239436\n",
      "EPOCH: 16 done. loss: 0.3394867381563893, accuracy: 0.977112676056338\n",
      "EPOCH: 17 done. loss: 0.3371855483010963, accuracy: 0.971830985915493\n",
      "EPOCH: 18 done. loss: 0.3385951079704143, accuracy: 0.9753521126760564\n",
      "EPOCH: 19 done. loss: 0.3388946939397741, accuracy: 0.9735915492957746\n",
      "EPOCH: 20 done. loss: 0.339108673841865, accuracy: 0.9735915492957746\n",
      "EPOCH: 21 done. loss: 0.33877366284529364, accuracy: 0.9700704225352113\n",
      "EPOCH: 22 done. loss: 0.33886724655274997, accuracy: 0.9757922535211268\n",
      "EPOCH: 23 done. loss: 0.3403490541157899, accuracy: 0.9577464788732394\n",
      "EPOCH: 24 done. loss: 0.33927544035293433, accuracy: 0.9735915492957746\n",
      "EPOCH: 25 done. loss: 0.3367466432076914, accuracy: 0.9691901408450704\n",
      "EPOCH: 26 done. loss: 0.33964642319414357, accuracy: 0.9722711267605634\n",
      "EPOCH: 27 done. loss: 0.33990810623875367, accuracy: 0.9700704225352113\n",
      "EPOCH: 28 done. loss: 0.3384943544864655, accuracy: 0.9735915492957746\n",
      "EPOCH: 29 done. loss: 0.3367328855726454, accuracy: 0.9762323943661971\n",
      "    Current activation: sigmoid\n"
     ]
    },
    {
     "name": "stderr",
     "output_type": "stream",
     "text": [
      "/tmp/ipykernel_19987/1468713152.py:57: DeprecationWarning: `np.int` is a deprecated alias for the builtin `int`. To silence this warning, use `int` by itself. Doing this will not modify any behavior and is safe. When replacing `np.int`, you may wish to use e.g. `np.int64` or `np.int32` to specify the precision. If you wish to review your current use, check the release note link for additional information.\n",
      "Deprecated in NumPy 1.20; for more details and guidance: https://numpy.org/devdocs/release/1.20.0-notes.html#deprecations\n",
      "  self.labels = torch.from_numpy(self.labels.astype(np.int))\n"
     ]
    },
    {
     "name": "stdout",
     "output_type": "stream",
     "text": [
      "EPOCH: 0 done. loss: 0.5783932277449854, accuracy: 0.9379401408450704\n",
      "EPOCH: 1 done. loss: 0.5407085182490172, accuracy: 0.94712441314554\n",
      "EPOCH: 2 done. loss: 0.5418135859348155, accuracy: 0.9480633802816901\n",
      "EPOCH: 3 done. loss: 0.5407055896741373, accuracy: 0.9436619718309859\n",
      "EPOCH: 4 done. loss: 0.5399503961757376, accuracy: 0.9454225352112676\n",
      "EPOCH: 5 done. loss: 0.5411756875338377, accuracy: 0.9419014084507042\n",
      "EPOCH: 6 done. loss: 0.5433107826444838, accuracy: 0.9480633802816901\n",
      "EPOCH: 7 done. loss: 0.5397484638072826, accuracy: 0.9463028169014085\n",
      "EPOCH: 8 done. loss: 0.5414109088756419, accuracy: 0.9471830985915493\n",
      "EPOCH: 9 done. loss: 0.539328975809945, accuracy: 0.9449823943661971\n",
      "EPOCH: 10 done. loss: 0.5407374322414399, accuracy: 0.9502640845070423\n",
      "EPOCH: 11 done. loss: 0.5423716370706205, accuracy: 0.9445422535211268\n",
      "EPOCH: 12 done. loss: 0.5403409132251032, accuracy: 0.9352992957746479\n",
      "EPOCH: 13 done. loss: 0.5404019607437981, accuracy: 0.9485035211267606\n",
      "EPOCH: 14 done. loss: 0.5399782706190039, accuracy: 0.9511443661971831\n",
      "EPOCH: 15 done. loss: 0.5398666752709282, accuracy: 0.9476232394366197\n",
      "EPOCH: 16 done. loss: 0.5414139114044331, accuracy: 0.9449823943661971\n",
      "EPOCH: 17 done. loss: 0.5420791537673386, accuracy: 0.9502640845070423\n",
      "EPOCH: 18 done. loss: 0.5402648148713288, accuracy: 0.929137323943662\n",
      "EPOCH: 19 done. loss: 0.5407416471728571, accuracy: 0.9383802816901409\n",
      "EPOCH: 20 done. loss: 0.5398259602211141, accuracy: 0.9432218309859155\n",
      "EPOCH: 21 done. loss: 0.5410407521106579, accuracy: 0.9348591549295775\n",
      "EPOCH: 22 done. loss: 0.5402587298993711, accuracy: 0.9361795774647887\n",
      "EPOCH: 23 done. loss: 0.5399844600094689, accuracy: 0.9383802816901409\n",
      "EPOCH: 24 done. loss: 0.5403278648853302, accuracy: 0.9427816901408451\n",
      "EPOCH: 25 done. loss: 0.5412721062148058, accuracy: 0.9423415492957746\n",
      "EPOCH: 26 done. loss: 0.5416902233053136, accuracy: 0.9467429577464789\n",
      "EPOCH: 27 done. loss: 0.5411801225609251, accuracy: 0.9388204225352113\n",
      "EPOCH: 28 done. loss: 0.5397220417305275, accuracy: 0.9419014084507042\n",
      "EPOCH: 29 done. loss: 0.54077806185793, accuracy: 0.9427816901408451\n",
      "  Current optimizer: {'lr': 0.0005, 'weight_decay': 0.001, 'name': 'Adam'}\n",
      "    Current activation: relu\n"
     ]
    },
    {
     "name": "stderr",
     "output_type": "stream",
     "text": [
      "/tmp/ipykernel_19987/1468713152.py:57: DeprecationWarning: `np.int` is a deprecated alias for the builtin `int`. To silence this warning, use `int` by itself. Doing this will not modify any behavior and is safe. When replacing `np.int`, you may wish to use e.g. `np.int64` or `np.int32` to specify the precision. If you wish to review your current use, check the release note link for additional information.\n",
      "Deprecated in NumPy 1.20; for more details and guidance: https://numpy.org/devdocs/release/1.20.0-notes.html#deprecations\n",
      "  self.labels = torch.from_numpy(self.labels.astype(np.int))\n"
     ]
    },
    {
     "name": "stdout",
     "output_type": "stream",
     "text": [
      "EPOCH: 0 done. loss: 0.41952837275134197, accuracy: 0.9617077464788732\n",
      "EPOCH: 1 done. loss: 0.342002793263506, accuracy: 0.9762323943661971\n",
      "EPOCH: 2 done. loss: 0.3341100031578982, accuracy: 0.980193661971831\n",
      "EPOCH: 3 done. loss: 0.3303932032099477, accuracy: 0.980193661971831\n",
      "EPOCH: 4 done. loss: 0.32607849074734585, accuracy: 0.9793133802816901\n",
      "EPOCH: 5 done. loss: 0.3248033609655169, accuracy: 0.983274647887324\n",
      "EPOCH: 6 done. loss: 0.32381907326203807, accuracy: 0.983274647887324\n",
      "EPOCH: 7 done. loss: 0.32208533772715814, accuracy: 0.983274647887324\n",
      "EPOCH: 8 done. loss: 0.3215373966428968, accuracy: 0.9837147887323944\n",
      "EPOCH: 9 done. loss: 0.3211740914318297, accuracy: 0.9850352112676056\n",
      "EPOCH: 10 done. loss: 0.3201663832973551, accuracy: 0.9837147887323944\n",
      "EPOCH: 11 done. loss: 0.3197556801416256, accuracy: 0.9859154929577465\n",
      "EPOCH: 12 done. loss: 0.3198327232290197, accuracy: 0.9841549295774648\n",
      "EPOCH: 13 done. loss: 0.3190106730770182, accuracy: 0.9867957746478874\n",
      "EPOCH: 14 done. loss: 0.31856386175862067, accuracy: 0.9859154929577465\n",
      "EPOCH: 15 done. loss: 0.31864020460181763, accuracy: 0.9859154929577465\n",
      "EPOCH: 16 done. loss: 0.319531504313151, accuracy: 0.9859154929577465\n",
      "EPOCH: 17 done. loss: 0.3183032626355136, accuracy: 0.9841549295774648\n",
      "EPOCH: 18 done. loss: 0.3185040872406077, accuracy: 0.9863556338028169\n",
      "EPOCH: 19 done. loss: 0.31761943256413494, accuracy: 0.9863556338028169\n",
      "EPOCH: 20 done. loss: 0.3172016361245403, accuracy: 0.9863556338028169\n",
      "EPOCH: 21 done. loss: 0.31715309465373004, accuracy: 0.985475352112676\n",
      "EPOCH: 22 done. loss: 0.318541854068085, accuracy: 0.985475352112676\n",
      "EPOCH: 23 done. loss: 0.31775702414689244, accuracy: 0.9845950704225352\n",
      "EPOCH: 24 done. loss: 0.3168239069205743, accuracy: 0.985475352112676\n",
      "EPOCH: 25 done. loss: 0.3167111433214611, accuracy: 0.9863556338028169\n",
      "EPOCH: 26 done. loss: 0.3164379347253729, accuracy: 0.9872359154929577\n",
      "EPOCH: 27 done. loss: 0.316639651523696, accuracy: 0.9876760563380281\n",
      "EPOCH: 28 done. loss: 0.31699472489180386, accuracy: 0.988556338028169\n",
      "EPOCH: 29 done. loss: 0.31594147693227836, accuracy: 0.9876760563380281\n",
      "    Current activation: sigmoid\n"
     ]
    },
    {
     "name": "stderr",
     "output_type": "stream",
     "text": [
      "/tmp/ipykernel_19987/1468713152.py:57: DeprecationWarning: `np.int` is a deprecated alias for the builtin `int`. To silence this warning, use `int` by itself. Doing this will not modify any behavior and is safe. When replacing `np.int`, you may wish to use e.g. `np.int64` or `np.int32` to specify the precision. If you wish to review your current use, check the release note link for additional information.\n",
      "Deprecated in NumPy 1.20; for more details and guidance: https://numpy.org/devdocs/release/1.20.0-notes.html#deprecations\n",
      "  self.labels = torch.from_numpy(self.labels.astype(np.int))\n"
     ]
    },
    {
     "name": "stdout",
     "output_type": "stream",
     "text": [
      "EPOCH: 0 done. loss: 0.6624051308190382, accuracy: 0.9432218309859155\n",
      "EPOCH: 1 done. loss: 0.572910616132948, accuracy: 0.952024647887324\n",
      "EPOCH: 2 done. loss: 0.5369319138703523, accuracy: 0.9546654929577465\n",
      "EPOCH: 3 done. loss: 0.5259237987023813, accuracy: 0.9555457746478874\n",
      "EPOCH: 4 done. loss: 0.5206078542603386, accuracy: 0.9577464788732394\n",
      "EPOCH: 5 done. loss: 0.5178186086592852, accuracy: 0.9581866197183099\n",
      "EPOCH: 6 done. loss: 0.515693144776203, accuracy: 0.9586267605633803\n",
      "EPOCH: 7 done. loss: 0.514922488729159, accuracy: 0.9595070422535211\n",
      "EPOCH: 8 done. loss: 0.513487653930982, accuracy: 0.9568661971830986\n",
      "EPOCH: 9 done. loss: 0.5129345445721237, accuracy: 0.9595070422535211\n",
      "EPOCH: 10 done. loss: 0.5125202959334408, accuracy: 0.9590669014084507\n",
      "EPOCH: 11 done. loss: 0.5118050833543142, accuracy: 0.9612676056338029\n",
      "EPOCH: 12 done. loss: 0.511322315202819, accuracy: 0.9577464788732394\n",
      "EPOCH: 13 done. loss: 0.5110948400364982, accuracy: 0.9608274647887324\n",
      "EPOCH: 14 done. loss: 0.5111779891782336, accuracy: 0.9590669014084507\n",
      "EPOCH: 15 done. loss: 0.5108285776994846, accuracy: 0.9590669014084507\n",
      "EPOCH: 16 done. loss: 0.5105750835604138, accuracy: 0.957306338028169\n",
      "EPOCH: 17 done. loss: 0.5105970132130163, accuracy: 0.9586267605633803\n",
      "EPOCH: 18 done. loss: 0.5105170355902778, accuracy: 0.9577464788732394\n",
      "EPOCH: 19 done. loss: 0.5103571783613275, accuracy: 0.960387323943662\n",
      "EPOCH: 20 done. loss: 0.5104339585260109, accuracy: 0.9590669014084507\n",
      "EPOCH: 21 done. loss: 0.5105230887730917, accuracy: 0.960387323943662\n",
      "EPOCH: 22 done. loss: 0.5103705905101916, accuracy: 0.9581866197183099\n",
      "EPOCH: 23 done. loss: 0.510481791915717, accuracy: 0.9595070422535211\n",
      "EPOCH: 24 done. loss: 0.5101869618451155, accuracy: 0.9568661971830986\n",
      "EPOCH: 25 done. loss: 0.5102804561456045, accuracy: 0.9581866197183099\n",
      "EPOCH: 26 done. loss: 0.5103283481465446, accuracy: 0.9586267605633803\n",
      "EPOCH: 27 done. loss: 0.5101817583596264, accuracy: 0.9555457746478874\n",
      "EPOCH: 28 done. loss: 0.5106260801906939, accuracy: 0.9599471830985915\n",
      "EPOCH: 29 done. loss: 0.5104594547439505, accuracy: 0.9590669014084507\n",
      "  Current optimizer: {'lr': 0.005, 'weight_decay': 0.005, 'name': 'SGD'}\n",
      "    Current activation: relu\n"
     ]
    },
    {
     "name": "stderr",
     "output_type": "stream",
     "text": [
      "/tmp/ipykernel_19987/1468713152.py:57: DeprecationWarning: `np.int` is a deprecated alias for the builtin `int`. To silence this warning, use `int` by itself. Doing this will not modify any behavior and is safe. When replacing `np.int`, you may wish to use e.g. `np.int64` or `np.int32` to specify the precision. If you wish to review your current use, check the release note link for additional information.\n",
      "Deprecated in NumPy 1.20; for more details and guidance: https://numpy.org/devdocs/release/1.20.0-notes.html#deprecations\n",
      "  self.labels = torch.from_numpy(self.labels.astype(np.int))\n"
     ]
    },
    {
     "name": "stdout",
     "output_type": "stream",
     "text": [
      "EPOCH: 0 done. loss: 0.6932664155960082, accuracy: 0.49392605633802816\n",
      "EPOCH: 1 done. loss: 0.691686213237268, accuracy: 0.49392605633802816\n",
      "EPOCH: 2 done. loss: 0.661477428233182, accuracy: 0.49392605633802816\n",
      "EPOCH: 3 done. loss: 0.6050229748090108, accuracy: 0.49392605633802816\n",
      "EPOCH: 4 done. loss: 0.5716962330871158, accuracy: 0.49392605633802816\n",
      "EPOCH: 5 done. loss: 0.5568639978214547, accuracy: 0.49392605633802816\n",
      "EPOCH: 6 done. loss: 0.5475138749237414, accuracy: 0.49392605633802816\n",
      "EPOCH: 7 done. loss: 0.5430721098626101, accuracy: 0.49392605633802816\n",
      "EPOCH: 8 done. loss: 0.5392961295666518, accuracy: 0.49392605633802816\n",
      "EPOCH: 9 done. loss: 0.536611732950917, accuracy: 0.49392605633802816\n",
      "EPOCH: 10 done. loss: 0.5356489216839826, accuracy: 0.49392605633802816\n",
      "EPOCH: 11 done. loss: 0.5336785533913859, accuracy: 0.49392605633802816\n",
      "EPOCH: 12 done. loss: 0.5313441911229382, accuracy: 0.49392605633802816\n",
      "EPOCH: 13 done. loss: 0.5316579454474979, accuracy: 0.49392605633802816\n",
      "EPOCH: 14 done. loss: 0.5309278924156118, accuracy: 0.49392605633802816\n",
      "EPOCH: 15 done. loss: 0.5297429183015117, accuracy: 0.49392605633802816\n",
      "EPOCH: 16 done. loss: 0.5287280582719379, accuracy: 0.49392605633802816\n",
      "EPOCH: 17 done. loss: 0.5277857235184422, accuracy: 0.49392605633802816\n",
      "EPOCH: 18 done. loss: 0.5280586240468202, accuracy: 0.49392605633802816\n",
      "EPOCH: 19 done. loss: 0.5275211818792201, accuracy: 0.49392605633802816\n",
      "EPOCH: 20 done. loss: 0.5273657104483357, accuracy: 0.49392605633802816\n",
      "EPOCH: 21 done. loss: 0.5264714651637608, accuracy: 0.49392605633802816\n",
      "EPOCH: 22 done. loss: 0.5266153693199158, accuracy: 0.49392605633802816\n",
      "EPOCH: 23 done. loss: 0.5255472664479856, accuracy: 0.49392605633802816\n",
      "EPOCH: 24 done. loss: 0.5257878612588953, accuracy: 0.49392605633802816\n",
      "EPOCH: 25 done. loss: 0.5250977861660497, accuracy: 0.49392605633802816\n",
      "EPOCH: 26 done. loss: 0.5246389700306786, accuracy: 0.49392605633802816\n",
      "EPOCH: 27 done. loss: 0.5234976630519939, accuracy: 0.49392605633802816\n",
      "EPOCH: 28 done. loss: 0.5249102752517771, accuracy: 0.49392605633802816\n",
      "EPOCH: 29 done. loss: 0.5238323897123336, accuracy: 0.49392605633802816\n",
      "    Current activation: sigmoid\n"
     ]
    },
    {
     "name": "stderr",
     "output_type": "stream",
     "text": [
      "/tmp/ipykernel_19987/1468713152.py:57: DeprecationWarning: `np.int` is a deprecated alias for the builtin `int`. To silence this warning, use `int` by itself. Doing this will not modify any behavior and is safe. When replacing `np.int`, you may wish to use e.g. `np.int64` or `np.int32` to specify the precision. If you wish to review your current use, check the release note link for additional information.\n",
      "Deprecated in NumPy 1.20; for more details and guidance: https://numpy.org/devdocs/release/1.20.0-notes.html#deprecations\n",
      "  self.labels = torch.from_numpy(self.labels.astype(np.int))\n"
     ]
    },
    {
     "name": "stdout",
     "output_type": "stream",
     "text": [
      "EPOCH: 0 done. loss: 0.6942905355382849, accuracy: 0.49392605633802816\n",
      "EPOCH: 1 done. loss: 0.6939570398242386, accuracy: 0.49392605633802816\n",
      "EPOCH: 2 done. loss: 0.69355497735518, accuracy: 0.49392605633802816\n",
      "EPOCH: 3 done. loss: 0.6932803312937419, accuracy: 0.49392605633802816\n",
      "EPOCH: 4 done. loss: 0.6930572127854383, accuracy: 0.49392605633802816\n",
      "EPOCH: 5 done. loss: 0.6928289192694205, accuracy: 0.49392605633802816\n",
      "EPOCH: 6 done. loss: 0.6926026975667035, accuracy: 0.5661091549295775\n",
      "EPOCH: 7 done. loss: 0.6924090798254368, accuracy: 0.6584213615023474\n",
      "EPOCH: 8 done. loss: 0.6922218556757327, accuracy: 0.5060739436619718\n",
      "EPOCH: 9 done. loss: 0.6920669365812231, accuracy: 0.5060739436619718\n",
      "EPOCH: 10 done. loss: 0.6919083593068299, accuracy: 0.5060739436619718\n",
      "EPOCH: 11 done. loss: 0.6917710922382496, accuracy: 0.5060739436619718\n",
      "EPOCH: 12 done. loss: 0.691613135955952, accuracy: 0.5060739436619718\n",
      "EPOCH: 13 done. loss: 0.6915209545029533, accuracy: 0.5060739436619718\n",
      "EPOCH: 14 done. loss: 0.691380708968198, accuracy: 0.5060739436619718\n",
      "EPOCH: 15 done. loss: 0.6912252434977779, accuracy: 0.5060739436619718\n",
      "EPOCH: 16 done. loss: 0.6911617241523884, accuracy: 0.5060739436619718\n",
      "EPOCH: 17 done. loss: 0.690965575421298, accuracy: 0.5060739436619718\n",
      "EPOCH: 18 done. loss: 0.6909493157157193, accuracy: 0.5060739436619718\n",
      "EPOCH: 19 done. loss: 0.6908148741280591, accuracy: 0.5060739436619718\n",
      "EPOCH: 20 done. loss: 0.6907765236165788, accuracy: 0.5060739436619718\n",
      "EPOCH: 21 done. loss: 0.6906477129017865, accuracy: 0.5060739436619718\n",
      "EPOCH: 22 done. loss: 0.6906036065684424, accuracy: 0.5060739436619718\n",
      "EPOCH: 23 done. loss: 0.6903136429963288, accuracy: 0.5060739436619718\n",
      "EPOCH: 24 done. loss: 0.6903948011221708, accuracy: 0.5060739436619718\n",
      "EPOCH: 25 done. loss: 0.6903027715506377, accuracy: 0.5060739436619718\n",
      "EPOCH: 26 done. loss: 0.6901625472086448, accuracy: 0.5060739436619718\n",
      "EPOCH: 27 done. loss: 0.6900878367600618, accuracy: 0.5060739436619718\n",
      "EPOCH: 28 done. loss: 0.6900164794038843, accuracy: 0.5060739436619718\n",
      "EPOCH: 29 done. loss: 0.6899205168088277, accuracy: 0.5060739436619718\n",
      "  Current optimizer: {'lr': 0.0005, 'weight_decay': 0.001, 'name': 'SGD'}\n",
      "    Current activation: relu\n"
     ]
    },
    {
     "name": "stderr",
     "output_type": "stream",
     "text": [
      "/tmp/ipykernel_19987/1468713152.py:57: DeprecationWarning: `np.int` is a deprecated alias for the builtin `int`. To silence this warning, use `int` by itself. Doing this will not modify any behavior and is safe. When replacing `np.int`, you may wish to use e.g. `np.int64` or `np.int32` to specify the precision. If you wish to review your current use, check the release note link for additional information.\n",
      "Deprecated in NumPy 1.20; for more details and guidance: https://numpy.org/devdocs/release/1.20.0-notes.html#deprecations\n",
      "  self.labels = torch.from_numpy(self.labels.astype(np.int))\n"
     ]
    },
    {
     "name": "stdout",
     "output_type": "stream",
     "text": [
      "EPOCH: 0 done. loss: 0.6913865508856598, accuracy: 0.49392605633802816\n",
      "EPOCH: 1 done. loss: 0.6852417976767928, accuracy: 0.49392605633802816\n",
      "EPOCH: 2 done. loss: 0.6784467818560423, accuracy: 0.49392605633802816\n",
      "EPOCH: 3 done. loss: 0.6712134665913051, accuracy: 0.49392605633802816\n",
      "EPOCH: 4 done. loss: 0.6633627834143462, accuracy: 0.49392605633802816\n",
      "EPOCH: 5 done. loss: 0.6562238209777408, accuracy: 0.49392605633802816\n",
      "EPOCH: 6 done. loss: 0.6486880580584208, accuracy: 0.49392605633802816\n",
      "EPOCH: 7 done. loss: 0.6413980378044976, accuracy: 0.49392605633802816\n",
      "EPOCH: 8 done. loss: 0.6350936324508102, accuracy: 0.49392605633802816\n",
      "EPOCH: 9 done. loss: 0.6284042338530224, accuracy: 0.49392605633802816\n",
      "EPOCH: 10 done. loss: 0.6219355503718058, accuracy: 0.49392605633802816\n",
      "EPOCH: 11 done. loss: 0.6159790133988415, accuracy: 0.49392605633802816\n",
      "EPOCH: 12 done. loss: 0.6102859154895499, accuracy: 0.49392605633802816\n",
      "EPOCH: 13 done. loss: 0.6055026524596745, accuracy: 0.49392605633802816\n",
      "EPOCH: 14 done. loss: 0.6005848621880567, accuracy: 0.49392605633802816\n",
      "EPOCH: 15 done. loss: 0.5955087617591575, accuracy: 0.49392605633802816\n",
      "EPOCH: 16 done. loss: 0.5921842831152456, accuracy: 0.49392605633802816\n",
      "EPOCH: 17 done. loss: 0.5883661062629134, accuracy: 0.49392605633802816\n",
      "EPOCH: 18 done. loss: 0.5850504819993619, accuracy: 0.49392605633802816\n",
      "EPOCH: 19 done. loss: 0.5822813016396982, accuracy: 0.49392605633802816\n",
      "EPOCH: 20 done. loss: 0.5797061576887415, accuracy: 0.49392605633802816\n",
      "EPOCH: 21 done. loss: 0.5766980212043833, accuracy: 0.49392605633802816\n",
      "EPOCH: 22 done. loss: 0.5746487352583143, accuracy: 0.49392605633802816\n",
      "EPOCH: 23 done. loss: 0.5725520037942462, accuracy: 0.49392605633802816\n",
      "EPOCH: 24 done. loss: 0.5710152969316201, accuracy: 0.49392605633802816\n",
      "EPOCH: 25 done. loss: 0.5695224903247974, accuracy: 0.49392605633802816\n",
      "EPOCH: 26 done. loss: 0.567249756389194, accuracy: 0.49392605633802816\n",
      "EPOCH: 27 done. loss: 0.5660147696733474, accuracy: 0.49392605633802816\n",
      "EPOCH: 28 done. loss: 0.5642715755436156, accuracy: 0.49392605633802816\n",
      "EPOCH: 29 done. loss: 0.5624057365788354, accuracy: 0.49392605633802816\n",
      "    Current activation: sigmoid\n"
     ]
    },
    {
     "name": "stderr",
     "output_type": "stream",
     "text": [
      "/tmp/ipykernel_19987/1468713152.py:57: DeprecationWarning: `np.int` is a deprecated alias for the builtin `int`. To silence this warning, use `int` by itself. Doing this will not modify any behavior and is safe. When replacing `np.int`, you may wish to use e.g. `np.int64` or `np.int32` to specify the precision. If you wish to review your current use, check the release note link for additional information.\n",
      "Deprecated in NumPy 1.20; for more details and guidance: https://numpy.org/devdocs/release/1.20.0-notes.html#deprecations\n",
      "  self.labels = torch.from_numpy(self.labels.astype(np.int))\n"
     ]
    },
    {
     "name": "stdout",
     "output_type": "stream",
     "text": [
      "EPOCH: 0 done. loss: 0.6926467345820533, accuracy: 0.5060739436619718\n",
      "EPOCH: 1 done. loss: 0.6926061257168098, accuracy: 0.5060739436619718\n",
      "EPOCH: 2 done. loss: 0.6926201809335638, accuracy: 0.5060739436619718\n",
      "EPOCH: 3 done. loss: 0.6926006785145512, accuracy: 0.5060739436619718\n",
      "EPOCH: 4 done. loss: 0.6925570602770205, accuracy: 0.5060739436619718\n",
      "EPOCH: 5 done. loss: 0.6925411838072317, accuracy: 0.5060739436619718\n",
      "EPOCH: 6 done. loss: 0.6925272305806478, accuracy: 0.5060739436619718\n",
      "EPOCH: 7 done. loss: 0.6925502258318442, accuracy: 0.5060739436619718\n",
      "EPOCH: 8 done. loss: 0.6924967785676321, accuracy: 0.5060739436619718\n",
      "EPOCH: 9 done. loss: 0.6924501204932176, accuracy: 0.5060739436619718\n",
      "EPOCH: 10 done. loss: 0.6924516293737625, accuracy: 0.5060739436619718\n",
      "EPOCH: 11 done. loss: 0.6924554617316634, accuracy: 0.5060739436619718\n",
      "EPOCH: 12 done. loss: 0.6924765251300954, accuracy: 0.5060739436619718\n",
      "EPOCH: 13 done. loss: 0.6923744053752334, accuracy: 0.5060739436619718\n",
      "EPOCH: 14 done. loss: 0.6923562690063759, accuracy: 0.5060739436619718\n",
      "EPOCH: 15 done. loss: 0.69234936259411, accuracy: 0.5060739436619718\n",
      "EPOCH: 16 done. loss: 0.6923485192987654, accuracy: 0.5060739436619718\n",
      "EPOCH: 17 done. loss: 0.6922603377589472, accuracy: 0.5060739436619718\n",
      "EPOCH: 18 done. loss: 0.692282130100109, accuracy: 0.5060739436619718\n",
      "EPOCH: 19 done. loss: 0.6922998642479932, accuracy: 0.5060739436619718\n",
      "EPOCH: 20 done. loss: 0.6923238796216471, accuracy: 0.5060739436619718\n",
      "EPOCH: 21 done. loss: 0.692253084535952, accuracy: 0.5060739436619718\n",
      "EPOCH: 22 done. loss: 0.6922399569440771, accuracy: 0.5060739436619718\n",
      "EPOCH: 23 done. loss: 0.6922826941366549, accuracy: 0.5060739436619718\n",
      "EPOCH: 24 done. loss: 0.6921958985152068, accuracy: 0.5060739436619718\n",
      "EPOCH: 25 done. loss: 0.6921847725356066, accuracy: 0.5060739436619718\n",
      "EPOCH: 26 done. loss: 0.692234844410861, accuracy: 0.5060739436619718\n",
      "EPOCH: 27 done. loss: 0.6921317133638595, accuracy: 0.5060739436619718\n",
      "EPOCH: 28 done. loss: 0.6921437283356985, accuracy: 0.5060739436619718\n",
      "EPOCH: 29 done. loss: 0.6921323317068595, accuracy: 0.5060739436619718\n",
      "Current layers: [64, 32, 16]\n",
      "  Current optimizer: {'lr': 0.005, 'weight_decay': 0.005, 'name': 'Adam'}\n",
      "    Current activation: relu\n"
     ]
    },
    {
     "name": "stderr",
     "output_type": "stream",
     "text": [
      "/tmp/ipykernel_19987/1468713152.py:57: DeprecationWarning: `np.int` is a deprecated alias for the builtin `int`. To silence this warning, use `int` by itself. Doing this will not modify any behavior and is safe. When replacing `np.int`, you may wish to use e.g. `np.int64` or `np.int32` to specify the precision. If you wish to review your current use, check the release note link for additional information.\n",
      "Deprecated in NumPy 1.20; for more details and guidance: https://numpy.org/devdocs/release/1.20.0-notes.html#deprecations\n",
      "  self.labels = torch.from_numpy(self.labels.astype(np.int))\n"
     ]
    },
    {
     "name": "stdout",
     "output_type": "stream",
     "text": [
      "EPOCH: 0 done. loss: 0.3744941329514539, accuracy: 0.9532863849765258\n",
      "EPOCH: 1 done. loss: 0.3499820309656638, accuracy: 0.9709507042253521\n",
      "EPOCH: 2 done. loss: 0.34989318008776066, accuracy: 0.9713908450704225\n",
      "EPOCH: 3 done. loss: 0.34332800220560145, accuracy: 0.9639084507042254\n",
      "EPOCH: 4 done. loss: 0.34632248525266296, accuracy: 0.9674295774647887\n",
      "EPOCH: 5 done. loss: 0.34123147339732557, accuracy: 0.9617077464788732\n",
      "EPOCH: 6 done. loss: 0.34351955232796844, accuracy: 0.9731514084507042\n",
      "EPOCH: 7 done. loss: 0.3405587634554616, accuracy: 0.9775528169014085\n",
      "EPOCH: 8 done. loss: 0.3442628957607128, accuracy: 0.9674295774647887\n",
      "EPOCH: 9 done. loss: 0.34102684634703184, accuracy: 0.9749119718309859\n",
      "EPOCH: 10 done. loss: 0.3396371325960865, accuracy: 0.9713908450704225\n",
      "EPOCH: 11 done. loss: 0.3395750458593722, accuracy: 0.9727112676056338\n",
      "EPOCH: 12 done. loss: 0.34349905682934656, accuracy: 0.9727112676056338\n",
      "EPOCH: 13 done. loss: 0.33805951133922296, accuracy: 0.9577464788732394\n",
      "EPOCH: 14 done. loss: 0.34121456709172987, accuracy: 0.9608274647887324\n",
      "EPOCH: 15 done. loss: 0.3414240573291425, accuracy: 0.9568661971830986\n",
      "EPOCH: 16 done. loss: 0.33901609899821106, accuracy: 0.9639084507042254\n",
      "EPOCH: 17 done. loss: 0.3401745167043474, accuracy: 0.9727112676056338\n",
      "EPOCH: 18 done. loss: 0.3390865138283482, accuracy: 0.9678697183098591\n",
      "EPOCH: 19 done. loss: 0.33928505767274786, accuracy: 0.9731514084507042\n",
      "EPOCH: 20 done. loss: 0.3359285638288216, accuracy: 0.9665492957746479\n",
      "EPOCH: 21 done. loss: 0.3391705924714053, accuracy: 0.9674295774647887\n",
      "EPOCH: 22 done. loss: 0.3357093111232474, accuracy: 0.971830985915493\n",
      "EPOCH: 23 done. loss: 0.3391537677358698, accuracy: 0.9779929577464789\n",
      "EPOCH: 24 done. loss: 0.34101789284635475, accuracy: 0.9757922535211268\n",
      "EPOCH: 25 done. loss: 0.3372582079083831, accuracy: 0.9608274647887324\n",
      "EPOCH: 26 done. loss: 0.34033495066342534, accuracy: 0.9674295774647887\n",
      "EPOCH: 27 done. loss: 0.3403755248696716, accuracy: 0.954225352112676\n",
      "EPOCH: 28 done. loss: 0.33882692919837104, accuracy: 0.9797535211267606\n",
      "EPOCH: 29 done. loss: 0.3385280422590397, accuracy: 0.9595070422535211\n",
      "    Current activation: sigmoid\n"
     ]
    },
    {
     "name": "stderr",
     "output_type": "stream",
     "text": [
      "/tmp/ipykernel_19987/1468713152.py:57: DeprecationWarning: `np.int` is a deprecated alias for the builtin `int`. To silence this warning, use `int` by itself. Doing this will not modify any behavior and is safe. When replacing `np.int`, you may wish to use e.g. `np.int64` or `np.int32` to specify the precision. If you wish to review your current use, check the release note link for additional information.\n",
      "Deprecated in NumPy 1.20; for more details and guidance: https://numpy.org/devdocs/release/1.20.0-notes.html#deprecations\n",
      "  self.labels = torch.from_numpy(self.labels.astype(np.int))\n"
     ]
    },
    {
     "name": "stdout",
     "output_type": "stream",
     "text": [
      "EPOCH: 0 done. loss: 0.6925538336789167, accuracy: 0.5060739436619718\n",
      "EPOCH: 1 done. loss: 0.6924389055481663, accuracy: 0.5060739436619718\n",
      "EPOCH: 2 done. loss: 0.6925772867820881, accuracy: 0.5060739436619718\n",
      "EPOCH: 3 done. loss: 0.6928304511087913, accuracy: 0.5060739436619718\n",
      "EPOCH: 4 done. loss: 0.69232974825082, accuracy: 0.5060739436619718\n",
      "EPOCH: 5 done. loss: 0.6924333124249069, accuracy: 0.5060739436619718\n",
      "EPOCH: 6 done. loss: 0.69239368836085, accuracy: 0.5060739436619718\n",
      "EPOCH: 7 done. loss: 0.6920960894337407, accuracy: 0.5060739436619718\n",
      "EPOCH: 8 done. loss: 0.6925936038847323, accuracy: 0.5060739436619718\n",
      "EPOCH: 9 done. loss: 0.6921093543370564, accuracy: 0.5060739436619718\n",
      "EPOCH: 10 done. loss: 0.692320481715379, accuracy: 0.5060739436619718\n",
      "EPOCH: 11 done. loss: 0.6919973541189124, accuracy: 0.5060739436619718\n",
      "EPOCH: 12 done. loss: 0.692447171608607, accuracy: 0.5060739436619718\n",
      "EPOCH: 13 done. loss: 0.6924990185984858, accuracy: 0.5060739436619718\n",
      "EPOCH: 14 done. loss: 0.6919779033572586, accuracy: 0.5060739436619718\n",
      "EPOCH: 15 done. loss: 0.692454281118181, accuracy: 0.5060739436619718\n",
      "EPOCH: 16 done. loss: 0.6923145022657182, accuracy: 0.5060739436619718\n",
      "EPOCH: 17 done. loss: 0.6923290879638107, accuracy: 0.5060739436619718\n",
      "EPOCH: 18 done. loss: 0.6923218195085172, accuracy: 0.5060739436619718\n",
      "EPOCH: 19 done. loss: 0.6924683687863527, accuracy: 0.5060739436619718\n",
      "EPOCH: 20 done. loss: 0.692294160525004, accuracy: 0.5060739436619718\n",
      "EPOCH: 21 done. loss: 0.6923445602258046, accuracy: 0.5060739436619718\n",
      "EPOCH: 22 done. loss: 0.6921747867707854, accuracy: 0.5060739436619718\n",
      "EPOCH: 23 done. loss: 0.6925241618244736, accuracy: 0.5060739436619718\n",
      "EPOCH: 24 done. loss: 0.6924966873946014, accuracy: 0.5060739436619718\n",
      "EPOCH: 25 done. loss: 0.6926700795138323, accuracy: 0.5060739436619718\n",
      "EPOCH: 26 done. loss: 0.6924024866686928, accuracy: 0.5060739436619718\n",
      "EPOCH: 27 done. loss: 0.6925074897430562, accuracy: 0.5060739436619718\n",
      "EPOCH: 28 done. loss: 0.6925373640325334, accuracy: 0.5060739436619718\n",
      "EPOCH: 29 done. loss: 0.6924800731517651, accuracy: 0.5060739436619718\n",
      "  Current optimizer: {'lr': 0.0005, 'weight_decay': 0.001, 'name': 'Adam'}\n",
      "    Current activation: relu\n"
     ]
    },
    {
     "name": "stderr",
     "output_type": "stream",
     "text": [
      "/tmp/ipykernel_19987/1468713152.py:57: DeprecationWarning: `np.int` is a deprecated alias for the builtin `int`. To silence this warning, use `int` by itself. Doing this will not modify any behavior and is safe. When replacing `np.int`, you may wish to use e.g. `np.int64` or `np.int32` to specify the precision. If you wish to review your current use, check the release note link for additional information.\n",
      "Deprecated in NumPy 1.20; for more details and guidance: https://numpy.org/devdocs/release/1.20.0-notes.html#deprecations\n",
      "  self.labels = torch.from_numpy(self.labels.astype(np.int))\n"
     ]
    },
    {
     "name": "stdout",
     "output_type": "stream",
     "text": [
      "EPOCH: 0 done. loss: 0.5372488755870749, accuracy: 0.9630281690140845\n",
      "EPOCH: 1 done. loss: 0.5076879498031405, accuracy: 0.977112676056338\n",
      "EPOCH: 2 done. loss: 0.5055943493489866, accuracy: 0.9779929577464789\n",
      "EPOCH: 3 done. loss: 0.5034075068102942, accuracy: 0.9819542253521126\n",
      "EPOCH: 4 done. loss: 0.37028091903086063, accuracy: 0.9810739436619719\n",
      "EPOCH: 5 done. loss: 0.3241504793917691, accuracy: 0.9779929577464789\n",
      "EPOCH: 6 done. loss: 0.32180644373099004, accuracy: 0.9828345070422535\n",
      "EPOCH: 7 done. loss: 0.32157279451688126, accuracy: 0.985475352112676\n",
      "EPOCH: 8 done. loss: 0.3195883931937041, accuracy: 0.9784330985915493\n",
      "EPOCH: 9 done. loss: 0.31972920110932107, accuracy: 0.9881161971830986\n",
      "EPOCH: 10 done. loss: 0.3183627156195817, accuracy: 0.9775528169014085\n",
      "EPOCH: 11 done. loss: 0.31910093106605386, accuracy: 0.9867957746478874\n",
      "EPOCH: 12 done. loss: 0.32072575224770433, accuracy: 0.9889964788732394\n",
      "EPOCH: 13 done. loss: 0.31887065061816466, accuracy: 0.9898767605633803\n",
      "EPOCH: 14 done. loss: 0.3184371356610899, accuracy: 0.9911971830985915\n",
      "EPOCH: 15 done. loss: 0.31696497522018574, accuracy: 0.9881161971830986\n",
      "EPOCH: 16 done. loss: 0.3173658641400161, accuracy: 0.9872359154929577\n",
      "EPOCH: 17 done. loss: 0.31695333520571395, accuracy: 0.9894366197183099\n",
      "EPOCH: 18 done. loss: 0.31715581240477386, accuracy: 0.9903169014084507\n",
      "EPOCH: 19 done. loss: 0.3169859924802074, accuracy: 0.9903169014084507\n",
      "EPOCH: 20 done. loss: 0.3169701163415556, accuracy: 0.9889964788732394\n",
      "EPOCH: 21 done. loss: 0.3163897250537519, accuracy: 0.988556338028169\n",
      "EPOCH: 22 done. loss: 0.31716201570298935, accuracy: 0.9863556338028169\n",
      "EPOCH: 23 done. loss: 0.3178499206348702, accuracy: 0.9850352112676056\n",
      "EPOCH: 24 done. loss: 0.31769618458218046, accuracy: 0.988556338028169\n",
      "EPOCH: 25 done. loss: 0.3159280801260913, accuracy: 0.9889964788732394\n",
      "EPOCH: 26 done. loss: 0.31662461978417855, accuracy: 0.9898767605633803\n",
      "EPOCH: 27 done. loss: 0.31552487092989456, accuracy: 0.9863556338028169\n",
      "EPOCH: 28 done. loss: 0.31723593374093373, accuracy: 0.988556338028169\n",
      "EPOCH: 29 done. loss: 0.3175203575028313, accuracy: 0.9911971830985915\n",
      "    Current activation: sigmoid\n"
     ]
    },
    {
     "name": "stderr",
     "output_type": "stream",
     "text": [
      "/tmp/ipykernel_19987/1468713152.py:57: DeprecationWarning: `np.int` is a deprecated alias for the builtin `int`. To silence this warning, use `int` by itself. Doing this will not modify any behavior and is safe. When replacing `np.int`, you may wish to use e.g. `np.int64` or `np.int32` to specify the precision. If you wish to review your current use, check the release note link for additional information.\n",
      "Deprecated in NumPy 1.20; for more details and guidance: https://numpy.org/devdocs/release/1.20.0-notes.html#deprecations\n",
      "  self.labels = torch.from_numpy(self.labels.astype(np.int))\n"
     ]
    },
    {
     "name": "stdout",
     "output_type": "stream",
     "text": [
      "EPOCH: 0 done. loss: 0.6782912773114664, accuracy: 0.9467429577464789\n",
      "EPOCH: 1 done. loss: 0.5710561405729364, accuracy: 0.9529049295774648\n",
      "EPOCH: 2 done. loss: 0.5357837718945963, accuracy: 0.9559859154929577\n",
      "EPOCH: 3 done. loss: 0.5262286451127794, accuracy: 0.9555457746478874\n",
      "EPOCH: 4 done. loss: 0.5210210775887524, accuracy: 0.9546654929577465\n",
      "EPOCH: 5 done. loss: 0.5187968150333122, accuracy: 0.9564260563380281\n",
      "EPOCH: 6 done. loss: 0.5165737221638361, accuracy: 0.9555457746478874\n",
      "EPOCH: 7 done. loss: 0.5155986256069607, accuracy: 0.9524647887323944\n",
      "EPOCH: 8 done. loss: 0.5147344496515062, accuracy: 0.9537852112676056\n",
      "EPOCH: 9 done. loss: 0.5142574269462514, accuracy: 0.957306338028169\n",
      "EPOCH: 10 done. loss: 0.5138862941000196, accuracy: 0.9581866197183099\n",
      "EPOCH: 11 done. loss: 0.5131144662698109, accuracy: 0.9551056338028169\n",
      "EPOCH: 12 done. loss: 0.5127457088894314, accuracy: 0.9581866197183099\n",
      "EPOCH: 13 done. loss: 0.5130232822012019, accuracy: 0.9551056338028169\n",
      "EPOCH: 14 done. loss: 0.5124425971949541, accuracy: 0.9546654929577465\n",
      "EPOCH: 15 done. loss: 0.5125231055197892, accuracy: 0.9581866197183099\n",
      "EPOCH: 16 done. loss: 0.5122320535006346, accuracy: 0.9595070422535211\n",
      "EPOCH: 17 done. loss: 0.5118769931572456, accuracy: 0.9577464788732394\n",
      "EPOCH: 18 done. loss: 0.5118920650747087, accuracy: 0.9559859154929577\n",
      "EPOCH: 19 done. loss: 0.5118357217974133, accuracy: 0.9564260563380281\n",
      "EPOCH: 20 done. loss: 0.5120858543448977, accuracy: 0.9595070422535211\n",
      "EPOCH: 21 done. loss: 0.5126116632311432, accuracy: 0.9595070422535211\n",
      "EPOCH: 22 done. loss: 0.5121697499796196, accuracy: 0.9581866197183099\n",
      "EPOCH: 23 done. loss: 0.5115033443327304, accuracy: 0.9559859154929577\n",
      "EPOCH: 24 done. loss: 0.5121416487075665, accuracy: 0.9590669014084507\n",
      "EPOCH: 25 done. loss: 0.512088934911622, accuracy: 0.9608274647887324\n",
      "EPOCH: 26 done. loss: 0.5122892188805122, accuracy: 0.9590669014084507\n",
      "EPOCH: 27 done. loss: 0.5116838354755332, accuracy: 0.9568661971830986\n",
      "EPOCH: 28 done. loss: 0.5122904363605711, accuracy: 0.954225352112676\n",
      "EPOCH: 29 done. loss: 0.5123305292041214, accuracy: 0.9568661971830986\n",
      "  Current optimizer: {'lr': 0.005, 'weight_decay': 0.005, 'name': 'SGD'}\n",
      "    Current activation: relu\n"
     ]
    },
    {
     "name": "stderr",
     "output_type": "stream",
     "text": [
      "/tmp/ipykernel_19987/1468713152.py:57: DeprecationWarning: `np.int` is a deprecated alias for the builtin `int`. To silence this warning, use `int` by itself. Doing this will not modify any behavior and is safe. When replacing `np.int`, you may wish to use e.g. `np.int64` or `np.int32` to specify the precision. If you wish to review your current use, check the release note link for additional information.\n",
      "Deprecated in NumPy 1.20; for more details and guidance: https://numpy.org/devdocs/release/1.20.0-notes.html#deprecations\n",
      "  self.labels = torch.from_numpy(self.labels.astype(np.int))\n"
     ]
    },
    {
     "name": "stdout",
     "output_type": "stream",
     "text": [
      "EPOCH: 0 done. loss: 0.6931473016738892, accuracy: 0.49392605633802816\n",
      "EPOCH: 1 done. loss: 0.6931473016738892, accuracy: 0.49392605633802816\n",
      "EPOCH: 2 done. loss: 0.6931473016738892, accuracy: 0.49392605633802816\n",
      "EPOCH: 3 done. loss: 0.6931473016738892, accuracy: 0.49392605633802816\n",
      "EPOCH: 4 done. loss: 0.6931473016738892, accuracy: 0.49392605633802816\n",
      "EPOCH: 5 done. loss: 0.6931473016738892, accuracy: 0.49392605633802816\n",
      "EPOCH: 6 done. loss: 0.6931473016738892, accuracy: 0.49392605633802816\n",
      "EPOCH: 7 done. loss: 0.6931473016738892, accuracy: 0.49392605633802816\n",
      "EPOCH: 8 done. loss: 0.6931473016738892, accuracy: 0.49392605633802816\n",
      "EPOCH: 9 done. loss: 0.6931473016738892, accuracy: 0.49392605633802816\n",
      "EPOCH: 10 done. loss: 0.6931473016738892, accuracy: 0.49392605633802816\n",
      "EPOCH: 11 done. loss: 0.6931473016738892, accuracy: 0.49392605633802816\n",
      "EPOCH: 12 done. loss: 0.6931473016738892, accuracy: 0.49392605633802816\n",
      "EPOCH: 13 done. loss: 0.6931473016738892, accuracy: 0.49392605633802816\n",
      "EPOCH: 14 done. loss: 0.6931473016738892, accuracy: 0.49392605633802816\n",
      "EPOCH: 15 done. loss: 0.6931473016738892, accuracy: 0.49392605633802816\n",
      "EPOCH: 16 done. loss: 0.6931473016738892, accuracy: 0.49392605633802816\n",
      "EPOCH: 17 done. loss: 0.6931473016738892, accuracy: 0.49392605633802816\n",
      "EPOCH: 18 done. loss: 0.6931473016738892, accuracy: 0.49392605633802816\n",
      "EPOCH: 19 done. loss: 0.6931473016738892, accuracy: 0.49392605633802816\n",
      "EPOCH: 20 done. loss: 0.6931473016738892, accuracy: 0.49392605633802816\n",
      "EPOCH: 21 done. loss: 0.6931473016738892, accuracy: 0.49392605633802816\n",
      "EPOCH: 22 done. loss: 0.6931473016738892, accuracy: 0.49392605633802816\n",
      "EPOCH: 23 done. loss: 0.6931473016738892, accuracy: 0.49392605633802816\n",
      "EPOCH: 24 done. loss: 0.6931473016738892, accuracy: 0.49392605633802816\n",
      "EPOCH: 25 done. loss: 0.6931473016738892, accuracy: 0.49392605633802816\n",
      "EPOCH: 26 done. loss: 0.6931473016738892, accuracy: 0.49392605633802816\n",
      "EPOCH: 27 done. loss: 0.6931473016738892, accuracy: 0.49392605633802816\n",
      "EPOCH: 28 done. loss: 0.6931473016738892, accuracy: 0.49392605633802816\n",
      "EPOCH: 29 done. loss: 0.6931473016738892, accuracy: 0.49392605633802816\n",
      "    Current activation: sigmoid\n"
     ]
    },
    {
     "name": "stderr",
     "output_type": "stream",
     "text": [
      "/tmp/ipykernel_19987/1468713152.py:57: DeprecationWarning: `np.int` is a deprecated alias for the builtin `int`. To silence this warning, use `int` by itself. Doing this will not modify any behavior and is safe. When replacing `np.int`, you may wish to use e.g. `np.int64` or `np.int32` to specify the precision. If you wish to review your current use, check the release note link for additional information.\n",
      "Deprecated in NumPy 1.20; for more details and guidance: https://numpy.org/devdocs/release/1.20.0-notes.html#deprecations\n",
      "  self.labels = torch.from_numpy(self.labels.astype(np.int))\n"
     ]
    },
    {
     "name": "stdout",
     "output_type": "stream",
     "text": [
      "EPOCH: 0 done. loss: 0.6925583846039243, accuracy: 0.5060739436619718\n",
      "EPOCH: 1 done. loss: 0.6925633664484377, accuracy: 0.5060739436619718\n",
      "EPOCH: 2 done. loss: 0.69246602235017, accuracy: 0.5060739436619718\n",
      "EPOCH: 3 done. loss: 0.6924302452140385, accuracy: 0.5060739436619718\n",
      "EPOCH: 4 done. loss: 0.6924138243551607, accuracy: 0.5060739436619718\n",
      "EPOCH: 5 done. loss: 0.6924039242444215, accuracy: 0.5060739436619718\n",
      "EPOCH: 6 done. loss: 0.6923047862671039, accuracy: 0.5060739436619718\n",
      "EPOCH: 7 done. loss: 0.6924121117150341, accuracy: 0.5060739436619718\n",
      "EPOCH: 8 done. loss: 0.6922372822408323, accuracy: 0.5060739436619718\n",
      "EPOCH: 9 done. loss: 0.6923486274701577, accuracy: 0.5060739436619718\n",
      "EPOCH: 10 done. loss: 0.6921989425464913, accuracy: 0.5060739436619718\n",
      "EPOCH: 11 done. loss: 0.692338487174776, accuracy: 0.5060739436619718\n",
      "EPOCH: 12 done. loss: 0.692300992541843, accuracy: 0.5060739436619718\n",
      "EPOCH: 13 done. loss: 0.6921804904937745, accuracy: 0.5060739436619718\n",
      "EPOCH: 14 done. loss: 0.6923328677813212, accuracy: 0.5060739436619718\n",
      "EPOCH: 15 done. loss: 0.6922743892228161, accuracy: 0.5060739436619718\n",
      "EPOCH: 16 done. loss: 0.6922392734774836, accuracy: 0.5060739436619718\n",
      "EPOCH: 17 done. loss: 0.692203058357592, accuracy: 0.5060739436619718\n",
      "EPOCH: 18 done. loss: 0.6923307493880942, accuracy: 0.5060739436619718\n",
      "EPOCH: 19 done. loss: 0.6922362444577393, accuracy: 0.5060739436619718\n",
      "EPOCH: 20 done. loss: 0.692114606389293, accuracy: 0.5060739436619718\n",
      "EPOCH: 21 done. loss: 0.6921644897372634, accuracy: 0.5060739436619718\n",
      "EPOCH: 22 done. loss: 0.6922933216448182, accuracy: 0.5060739436619718\n",
      "EPOCH: 23 done. loss: 0.6922495409294411, accuracy: 0.5060739436619718\n",
      "EPOCH: 24 done. loss: 0.6922071116941946, accuracy: 0.5060739436619718\n",
      "EPOCH: 25 done. loss: 0.6922428162009626, accuracy: 0.5060739436619718\n",
      "EPOCH: 26 done. loss: 0.6922238718580318, accuracy: 0.5060739436619718\n",
      "EPOCH: 27 done. loss: 0.6923197421762678, accuracy: 0.5060739436619718\n",
      "EPOCH: 28 done. loss: 0.6921537946771692, accuracy: 0.5060739436619718\n",
      "EPOCH: 29 done. loss: 0.6921258149323639, accuracy: 0.5060739436619718\n",
      "  Current optimizer: {'lr': 0.0005, 'weight_decay': 0.001, 'name': 'SGD'}\n",
      "    Current activation: relu\n"
     ]
    },
    {
     "name": "stderr",
     "output_type": "stream",
     "text": [
      "/tmp/ipykernel_19987/1468713152.py:57: DeprecationWarning: `np.int` is a deprecated alias for the builtin `int`. To silence this warning, use `int` by itself. Doing this will not modify any behavior and is safe. When replacing `np.int`, you may wish to use e.g. `np.int64` or `np.int32` to specify the precision. If you wish to review your current use, check the release note link for additional information.\n",
      "Deprecated in NumPy 1.20; for more details and guidance: https://numpy.org/devdocs/release/1.20.0-notes.html#deprecations\n",
      "  self.labels = torch.from_numpy(self.labels.astype(np.int))\n"
     ]
    },
    {
     "name": "stdout",
     "output_type": "stream",
     "text": [
      "EPOCH: 0 done. loss: 0.6918290279529713, accuracy: 0.5060739436619718\n",
      "EPOCH: 1 done. loss: 0.6911049524943034, accuracy: 0.5060739436619718\n",
      "EPOCH: 2 done. loss: 0.6905719567228247, accuracy: 0.5060739436619718\n",
      "EPOCH: 3 done. loss: 0.6903179444648601, accuracy: 0.5060739436619718\n",
      "EPOCH: 4 done. loss: 0.689755532918153, accuracy: 0.5060739436619718\n",
      "EPOCH: 5 done. loss: 0.6892347867842074, accuracy: 0.5060739436619718\n",
      "EPOCH: 6 done. loss: 0.6887180308500925, accuracy: 0.5060739436619718\n",
      "EPOCH: 7 done. loss: 0.6882625785138871, accuracy: 0.5065140845070423\n",
      "EPOCH: 8 done. loss: 0.6875770279654749, accuracy: 0.5065140845070423\n",
      "EPOCH: 9 done. loss: 0.686760730434347, accuracy: 0.5065140845070423\n",
      "EPOCH: 10 done. loss: 0.6858900138625392, accuracy: 0.5069542253521127\n",
      "EPOCH: 11 done. loss: 0.6848982561517646, accuracy: 0.510475352112676\n",
      "EPOCH: 12 done. loss: 0.6839289391482318, accuracy: 0.518838028169014\n",
      "EPOCH: 13 done. loss: 0.6823150566330664, accuracy: 0.5334213615023474\n",
      "EPOCH: 14 done. loss: 0.6809465710763578, accuracy: 0.557306338028169\n",
      "EPOCH: 15 done. loss: 0.6793742899541502, accuracy: 0.5899354460093896\n",
      "EPOCH: 16 done. loss: 0.6772881516703854, accuracy: 0.6300469483568075\n",
      "EPOCH: 17 done. loss: 0.6749337492165742, accuracy: 0.6630575117370893\n",
      "EPOCH: 18 done. loss: 0.6722306582662794, accuracy: 0.6969483568075118\n",
      "EPOCH: 19 done. loss: 0.6693250086572434, accuracy: 0.7242957746478873\n",
      "EPOCH: 20 done. loss: 0.6665254453818004, accuracy: 0.7493838028169014\n",
      "EPOCH: 21 done. loss: 0.6631351804291761, accuracy: 0.7749119718309859\n",
      "EPOCH: 22 done. loss: 0.659553223406827, accuracy: 0.7955985915492957\n",
      "EPOCH: 23 done. loss: 0.6553442597389222, accuracy: 0.8110035211267606\n",
      "EPOCH: 24 done. loss: 0.6510500718046118, accuracy: 0.8291079812206573\n",
      "EPOCH: 25 done. loss: 0.6463468063760687, accuracy: 0.8445129107981221\n",
      "EPOCH: 26 done. loss: 0.6406074903629444, accuracy: 0.8533157276995306\n",
      "EPOCH: 27 done. loss: 0.6346731278631421, accuracy: 0.8652582159624412\n",
      "EPOCH: 28 done. loss: 0.6279195796560358, accuracy: 0.8802230046948356\n",
      "EPOCH: 29 done. loss: 0.6201248321268293, accuracy: 0.8890258215962441\n",
      "    Current activation: sigmoid\n"
     ]
    },
    {
     "name": "stderr",
     "output_type": "stream",
     "text": [
      "/tmp/ipykernel_19987/1468713152.py:57: DeprecationWarning: `np.int` is a deprecated alias for the builtin `int`. To silence this warning, use `int` by itself. Doing this will not modify any behavior and is safe. When replacing `np.int`, you may wish to use e.g. `np.int64` or `np.int32` to specify the precision. If you wish to review your current use, check the release note link for additional information.\n",
      "Deprecated in NumPy 1.20; for more details and guidance: https://numpy.org/devdocs/release/1.20.0-notes.html#deprecations\n",
      "  self.labels = torch.from_numpy(self.labels.astype(np.int))\n"
     ]
    },
    {
     "name": "stdout",
     "output_type": "stream",
     "text": [
      "EPOCH: 0 done. loss: 0.6934244484813125, accuracy: 0.49392605633802816\n",
      "EPOCH: 1 done. loss: 0.6934124496248033, accuracy: 0.49392605633802816\n",
      "EPOCH: 2 done. loss: 0.6934131688541836, accuracy: 0.49392605633802816\n",
      "EPOCH: 3 done. loss: 0.6934063785605961, accuracy: 0.49392605633802816\n",
      "EPOCH: 4 done. loss: 0.6933747896441705, accuracy: 0.49392605633802816\n",
      "EPOCH: 5 done. loss: 0.6933692219080748, accuracy: 0.49392605633802816\n",
      "EPOCH: 6 done. loss: 0.693344721308461, accuracy: 0.49392605633802816\n",
      "EPOCH: 7 done. loss: 0.6933320656970695, accuracy: 0.49392605633802816\n",
      "EPOCH: 8 done. loss: 0.6933138895917822, accuracy: 0.49392605633802816\n",
      "EPOCH: 9 done. loss: 0.6933220512337156, accuracy: 0.49392605633802816\n",
      "EPOCH: 10 done. loss: 0.6933106852902307, accuracy: 0.49392605633802816\n",
      "EPOCH: 11 done. loss: 0.6932890185603389, accuracy: 0.49392605633802816\n",
      "EPOCH: 12 done. loss: 0.6932851720739294, accuracy: 0.49392605633802816\n",
      "EPOCH: 13 done. loss: 0.6932637393474579, accuracy: 0.49392605633802816\n",
      "EPOCH: 14 done. loss: 0.6932551695240868, accuracy: 0.49392605633802816\n",
      "EPOCH: 15 done. loss: 0.6932475474145677, accuracy: 0.49392605633802816\n",
      "EPOCH: 16 done. loss: 0.6932395054234398, accuracy: 0.49392605633802816\n",
      "EPOCH: 17 done. loss: 0.6932177713623753, accuracy: 0.49392605633802816\n",
      "EPOCH: 18 done. loss: 0.6932047819649731, accuracy: 0.49392605633802816\n",
      "EPOCH: 19 done. loss: 0.6931889291162844, accuracy: 0.49392605633802816\n",
      "EPOCH: 20 done. loss: 0.6931867597279725, accuracy: 0.49392605633802816\n",
      "EPOCH: 21 done. loss: 0.6931717210345798, accuracy: 0.49392605633802816\n",
      "EPOCH: 22 done. loss: 0.6931661418190709, accuracy: 0.49392605633802816\n",
      "EPOCH: 23 done. loss: 0.6931555445547457, accuracy: 0.49392605633802816\n",
      "EPOCH: 24 done. loss: 0.6931413063296566, accuracy: 0.49392605633802816\n",
      "EPOCH: 25 done. loss: 0.6931316466243178, accuracy: 0.5058098591549296\n",
      "EPOCH: 26 done. loss: 0.6931211317027056, accuracy: 0.6321889671361502\n",
      "EPOCH: 27 done. loss: 0.6931101973410007, accuracy: 0.5060739436619718\n",
      "EPOCH: 28 done. loss: 0.6931004817839023, accuracy: 0.5060739436619718\n",
      "EPOCH: 29 done. loss: 0.6930888579951392, accuracy: 0.5060739436619718\n",
      "best model has accuracy -1, and config:\n",
      "{'activation': 'sigmoid',\n",
      " 'cv_accuracy': 0.0,\n",
      " 'layers': [64, 32, 16],\n",
      " 'optimizer_cnf': {'lr': 0.0005, 'name': 'SGD', 'weight_decay': 0.001}}\n",
      "Test accuracy: 0.6521972132904609, f1-score: 0.7301455301455302\n"
     ]
    },
    {
     "data": {
      "text/plain": "{'accuracy': 0.6521972132904609, 'f1-score': 0.7301455301455302}"
     },
     "execution_count": 54,
     "metadata": {},
     "output_type": "execute_result"
    }
   ],
   "source": [
    "from torch.optim import SGD\n",
    "from torch.nn.functional import relu\n",
    "from torch import sigmoid\n",
    "\n",
    "\n",
    "layers = [\n",
    "    [16, 16],\n",
    "    [64, 32, 16]\n",
    "]\n",
    "\n",
    "optimizers = [\n",
    "    (Adam, {\"lr\": 0.005, \"weight_decay\": 0.005}),\n",
    "    (Adam, {\"lr\": 0.0005, \"weight_decay\": 0.001}),\n",
    "    (SGD, {\"lr\": 0.005, \"weight_decay\": 0.005}),\n",
    "    (SGD, {\"lr\": 0.0005, \"weight_decay\": 0.001}),\n",
    "]\n",
    "\n",
    "activations = [relu, sigmoid]\n",
    "\n",
    "\n",
    "results, very_best_model = grid_search_nn(layers, optimizers, activations, config)\n",
    "eval_model(very_best_model)\n"
   ],
   "metadata": {
    "collapsed": false,
    "pycharm": {
     "name": "#%%\n"
    }
   }
  },
  {
   "cell_type": "markdown",
   "source": [
    "Test ANN accuracy on test data - 98.7%.\n",
    "\n",
    "It's quite interesting, looks like model from time to time gets into some local minimum, and can't get out of it.\n",
    "\n",
    "Turns out used loss - cross etropy loss function ($L = \\sum_{i=1}^n y_i log(\\hat{y_i})$) is not convex[2] for weights of hidden layers"
   ],
   "metadata": {
    "collapsed": false,
    "pycharm": {
     "name": "#%% md\n"
    }
   }
  },
  {
   "cell_type": "markdown",
   "source": [
    "**Pros**\n",
    "- With more sophisticated architectures, can outperform classical approaches a lot\n",
    "- Can solve some problems previously considered too dificult for computers (computer speech, image generation, translation, etc)\n",
    "- Some deep models, like Transformers for example can generelize well for many other problems.\n",
    "\n",
    "**Cons**:\n",
    "- Quite easy to overfit\n",
    "- For greate performance requires a huge amount of data\n",
    "- Huge amount of data requires a lot of computational power and money to train a sophisticated model\n",
    "- Sometimes doesn't generelizes well\n"
   ],
   "metadata": {
    "collapsed": false,
    "pycharm": {
     "name": "#%% md\n"
    }
   }
  },
  {
   "cell_type": "markdown",
   "source": [
    "## 4. Support Vector Machine (SVM)"
   ],
   "metadata": {
    "collapsed": false,
    "pycharm": {
     "name": "#%% md\n"
    }
   }
  },
  {
   "cell_type": "markdown",
   "source": [
    "SVM is a classical model. The main idea is to find hyper-plane in a space such that best divides points into spaces.\n",
    "\n",
    "The \"best\" usually means - minimize margin (gap) formed by a hyperplane and support vectors."
   ],
   "metadata": {
    "collapsed": false,
    "pycharm": {
     "name": "#%% md\n"
    }
   }
  },
  {
   "cell_type": "markdown",
   "source": [
    "#### SVM as an optimization problem"
   ],
   "metadata": {
    "collapsed": false,
    "pycharm": {
     "name": "#%% md\n"
    }
   }
  },
  {
   "cell_type": "markdown",
   "source": [
    "There are quite a few iterative approaches and estimates that can produce solutions, but the most common way to find target hyperplance is to solve SVM as a classical optimization problem.\n",
    "\n",
    "Let $f(\\mathbf{x}) = \\mathbf{x}\\cdot \\mathbf{w} + b$ be a linear classifier predicting the responce variable $y$ via\n",
    "$$\n",
    "  y = \\operatorname{sign}(f(\\mathbf{x}))\n",
    "$$\n",
    "\n",
    "The task is to maximize the margin, i.e., the value $M$ s.t., for all $j$,\n",
    "$$\n",
    "   y_j (\\mathbf{x}_j \\cdot \\mathbf{w} + b) \\ge M \\|\\mathbf{w}\\|\n",
    "$$\n",
    "By rescaling $\\mathbf{w}$ (and $b$) so that $M\\cdot\\|\\mathbf{w}\\| = 1$, we get an equivalent problem\n",
    "\\begin{align}\n",
    "\\operatorname{argmin}_{\\mathbf{w}, b}  &\\frac12 \\|\\mathbf{w}\\|^2 \\\\\n",
    "\\text{subject to } \\qquad &y_j (\\mathbf{x}_j \\cdot \\mathbf{w} + b) \\ge 1\n",
    "\\end{align}\n",
    "\n",
    "The Lagrange function is\n",
    "$$\n",
    "  \\mathscr{L}(\\mathbf{w}, b, \\lambda) = \\frac12\\|\\mathbf{w}\\|^2 + \\sum_j \\lambda_j  [1 - y_j(\\mathbf{x}_j\\cdot \\mathbf{w} + b)]\n",
    "$$\n",
    "Partial derivatives in $\\mathbf{w}$ and $b$ give the equalities\n",
    "$$\n",
    "    \\mathbf{w} = \\sum_j \\lambda_j y_j \\mathbf{x}_j \\qquad \\text{and} \\qquad 0 = \\sum_j \\lambda_j y_j;\n",
    "$$\n",
    "we now use these in $\\mathscr{L}$ to get the Wolfe dual problem of maximizing the quadratic problem\n",
    "\\begin{equation}\n",
    "   \\mathscr{L}_D = \\sum_j \\lambda_j - \\frac12 \\sum_{j,k} \\lambda_j\\lambda_k y_jy_k \\, \\mathbf{x}_j\\cdot\\mathbf{x}_k \\tag{1}\n",
    "\\end{equation}\n",
    "subject to the restrictions $\\lambda_j \\ge 0$.\n",
    "\n",
    "In addition to the above relations, the following constraints should be satisfied for every $j$:\n",
    "$$\n",
    "   \\lambda_j [1 - y_j(\\mathbf{x}_j\\cdot \\mathbf{w} + b)] = 0\n",
    "$$\n",
    "Indices $j$ for which $y_j(\\mathbf{x}_j\\cdot \\mathbf{w} + b) = 1$ correspond to *support vectors* (i.e., points on the margin boundary).\n"
   ],
   "metadata": {
    "collapsed": false,
    "pycharm": {
     "name": "#%% md\n"
    }
   }
  },
  {
   "cell_type": "markdown",
   "source": [
    "#### Soft margin SVM\n",
    "in a real life, usually data is not linearly separable. For such problem there is a so-called \"soft margin\" SVM. The idea is make some hyperparameter, that allows us to make some missclassification.\n",
    "\n",
    "To this end, we introduce slack variables $\\xi_j\\ge0$ and impose relaxed  constraints\n",
    "$$\n",
    "  y_j[\\mathbf{x}_j\\cdot \\mathbf{w} + b] \\ge 1 - \\xi_j. \\tag{2}\n",
    "$$\n",
    "The slack variables\n",
    "$$\n",
    "  \\xi_j = \\max\\{0, 1- y_j[\\mathbf{x}_j \\cdot \\mathbf{w} + b]\\}\n",
    "$$\n",
    "measure incorrectness of classification: $\\xi_j = 0$ for correctly classified points outside the slab and $\\xi_j >0$ for points that fall inside the slab or are in the wrong halfspace. The new objective function is\n",
    "$$\n",
    "  f(\\mathbf{w},b,\\xi_j) = \\frac12\\|\\mathbf{w}\\|^2 + C \\sum_j \\xi_j\n",
    "$$\n",
    "under the constraints (2); here $C$ is the cost constant penalizing misclassification."
   ],
   "metadata": {
    "collapsed": false,
    "pycharm": {
     "name": "#%% md\n"
    }
   }
  },
  {
   "cell_type": "markdown",
   "source": [
    "#### Gradient descent\n",
    "After we calculated cost function, we can calculate gradients, and solve the problem with gradient descent.\n",
    "\n",
    "$$\\nabla_{\\mathbf{w}}g = \\mathbf{w} - C \\sum_{\\xi_j>0} y_j x_j$$\n",
    "\n",
    "$$\\frac{\\partial g}{\\partial b} = -C \\sum_{\\xi_j>0}  y_j$$\n"
   ],
   "metadata": {
    "collapsed": false,
    "pycharm": {
     "name": "#%% md\n"
    }
   }
  },
  {
   "cell_type": "markdown",
   "source": [
    "#### Kernel trick"
   ],
   "metadata": {
    "collapsed": false,
    "pycharm": {
     "name": "#%% md\n"
    }
   }
  },
  {
   "cell_type": "markdown",
   "source": [
    "The idea of the trick - map data into some higher dimensional space. Not separable data may become linearly separable.\n",
    "\n",
    "As we can see in the Wolfe problem, we need to only define a dot product of vectors.\n",
    "\n",
    "\\begin{equation}\n",
    "   \\mathscr{L}_D = \\sum_j \\lambda_j - \\frac12 \\sum_{j,k} \\lambda_j\\lambda_k y_jy_k \\, \\mathbf{x}_j\\cdot\\mathbf{x}_k \\tag{1}\n",
    "\\end{equation}\n",
    "\n",
    "That's why we can use a kernel function, that is just a dot product of two mapped vectors $K(x_i, x_j) = \\phi(x_i) \\cdot \\phi(x_j)$\n",
    "\n",
    "So new Wolfe problem:\n",
    "$$\n",
    "  \\mathscr{L}_D = \\sum_j \\lambda_j - \\frac12 \\sum_{j,k} \\lambda_j\\lambda_k y_jy_k \\, K(\\mathbf{x}_j, \\mathbf{x}_k)\n",
    "$$\n"
   ],
   "metadata": {
    "collapsed": false,
    "pycharm": {
     "name": "#%% md\n"
    }
   }
  },
  {
   "cell_type": "code",
   "execution_count": 55,
   "outputs": [
    {
     "name": "stdout",
     "output_type": "stream",
     "text": [
      "Cross-validation accuracy=0.8723, parameters={'kernel': 'sigmoid', 'degree': 3}\n",
      "Cross-validation accuracy=0.8723, parameters={'kernel': 'sigmoid', 'degree': 4}\n",
      "Cross-validation accuracy=0.8723, parameters={'kernel': 'sigmoid', 'degree': 5}\n",
      "Cross-validation accuracy=0.9920, parameters={'kernel': 'rbf', 'degree': 3}\n",
      "Cross-validation accuracy=0.9920, parameters={'kernel': 'rbf', 'degree': 4}\n",
      "Cross-validation accuracy=0.9920, parameters={'kernel': 'rbf', 'degree': 5}\n",
      "Cross-validation accuracy=0.9894, parameters={'kernel': 'poly', 'degree': 3}\n",
      "Cross-validation accuracy=0.9849, parameters={'kernel': 'poly', 'degree': 4}\n",
      "Cross-validation accuracy=0.9734, parameters={'kernel': 'poly', 'degree': 5}\n",
      "Test accuracy=0.9941, parameters={'kernel': 'rbf', 'degree': 3}\n"
     ]
    },
    {
     "data": {
      "text/plain": "SVC()"
     },
     "execution_count": 55,
     "metadata": {},
     "output_type": "execute_result"
    }
   ],
   "source": [
    "from sklearn.svm import SVC\n",
    "\n",
    "parameters = {\n",
    "    'kernel': ['sigmoid', 'rbf', 'poly'],\n",
    "    'degree': [3, 4, 5],\n",
    "}\n",
    "select_model(dataset, SVC, parameters)"
   ],
   "metadata": {
    "collapsed": false,
    "pycharm": {
     "name": "#%%\n"
    }
   }
  },
  {
   "cell_type": "markdown",
   "source": [
    "**Pros**:\n",
    "- Works well, when data is easyly separable\n",
    "- Effective in a high dimensional space\n",
    "- Works well, when the number of dimensions os bigger than number of samples\n",
    "- Memory efficient\n",
    "\n",
    "**Cons**:\n",
    "- Doesn't work well, when data is not easyly separable and noisy\n",
    "- Training time is O(n^2), so it's not suitable for huge datasets\n",
    "- Model is not probabilistic, we label points with just 1/-1.\n"
   ],
   "metadata": {
    "collapsed": false,
    "pycharm": {
     "name": "#%% md\n"
    }
   }
  },
  {
   "cell_type": "markdown",
   "source": [
    "Test SVM accuracy on test data - 99.4%."
   ],
   "metadata": {
    "collapsed": false,
    "pycharm": {
     "name": "#%% md\n"
    }
   }
  },
  {
   "cell_type": "markdown",
   "source": [
    "## Summary"
   ],
   "metadata": {
    "collapsed": false,
    "pycharm": {
     "name": "#%% md\n"
    }
   }
  },
  {
   "cell_type": "markdown",
   "source": [
    "**Rank:**\n",
    "1. SVM - 99.4%\n",
    "2. k-NN - 98.8%\n",
    "3. ANN - 98.7%\n",
    "4. Logistic regression - 95.6%\n",
    "\n",
    "In this report, we've tried to consider classification approaches that are as different as possible. I think that almost accomplished it except for ANN and Logistic regression, where the last one can be viewed as a simplified version of ANN. Overall, I think we've managed to get pretty good accuracy for most of the methods and discussed reasons for logistic regression's poor performance. To be honest, the final ranking of the models was a little surprising for us - that's, I believe, a good lesson showing why in machine learning, you must never stick to some favorite model without testing others."
   ],
   "metadata": {
    "collapsed": false,
    "pycharm": {
     "name": "#%% md\n"
    }
   }
  },
  {
   "cell_type": "markdown",
   "source": [
    "### References\n",
    "[1] - Artificial neural network - [Wikipedia](https://en.wikipedia.org/wiki/Artificial_neural_network)\n",
    "[2] - Is Cross entropy cost function for neural network convex? - [StackExchange](https://stats.stackexchange.com/questions/144378/is-cross-entropy-cost-function-for-neural-network-convex)\n",
    "[3] - BackPropagation - [Wikipedia](https://en.wikipedia.org/wiki/Backpropagation)\n",
    "[4] - What is Support Vector Machine (SVM)? - [Medium](https://medium.com/@cdabakoglu/what-is-support-vector-machine-svm-fd0e9e39514f)\n",
    "[5] - Lab work #2 SVM - MMML course.\n",
    "[6] - Understanding Support Vector Machine(SVM) algorithm from examples - [Analytics Vidhuya](https://www.analyticsvidhya.com/blog/2017/09/understaing-support-vector-machine-example-code/)\n",
    "[7] - Universal approximation theorem - [Wikipedia](https://en.wikipedia.org/wiki/Universal_approximation_theorem)\n",
    "[8] - Conceptual Understanding of Logistic Regression for Data Science Beginners - [Analytics Vidhuya](https://www.analyticsvidhya.com/blog/2021/08/conceptual-understanding-of-logistic-regression-for-data-science-beginners/#h2_5)\n",
    "[9] - Advantages and Disadvantages of Logistic Regression - [OpenGenus](https://iq.opengenus.org/advantages-and-disadvantages-of-logistic-regression/)\n",
    "[10] - k-nearest neighbors - [CS.Cornell](https://www.cs.cornell.edu/courses/cs4780/2017sp/lectures/lecturenote02_kNN.html)\n",
    "[11] - Pros and Cons of K-Nearest Neighbors - [Genesis](https://www.fromthegenesis.com/pros-and-cons-of-k-nearest-neighbors/)"
   ],
   "metadata": {
    "collapsed": false,
    "pycharm": {
     "name": "#%% md\n"
    }
   }
  },
  {
   "cell_type": "markdown",
   "source": [],
   "metadata": {
    "collapsed": false,
    "pycharm": {
     "name": "#%% md\n"
    }
   }
  }
 ],
 "metadata": {
  "kernelspec": {
   "display_name": "Python 3",
   "language": "python",
   "name": "python3"
  },
  "language_info": {
   "codemirror_mode": {
    "name": "ipython",
    "version": 2
   },
   "file_extension": ".py",
   "mimetype": "text/x-python",
   "name": "python",
   "nbconvert_exporter": "python",
   "pygments_lexer": "ipython2",
   "version": "2.7.6"
  }
 },
 "nbformat": 4,
 "nbformat_minor": 0
}