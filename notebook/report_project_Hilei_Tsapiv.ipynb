{
 "cells": [
  {
   "cell_type": "markdown",
   "source": [
    "# MNIST 2 digits classification using 4 methods\n",
    "\n",
    "### Authors:\n",
    "- Pavlo Hilei\n",
    "- Volodymyr Tsapiv\n",
    "\n",
    "### Approaches:\n",
    "- Artificial Neural Network (NN) [Hilei Pavlo]\n",
    "- K-nearest neighbors (KNN) [Volodymyr Tsapiv]\n",
    "- Support Vector Machine (SVM) [Hilei Pavlo]\n",
    "- Logistic Regression [Volodymyr Tsapiv]\n"
   ],
   "metadata": {
    "collapsed": false,
    "pycharm": {
     "name": "#%% md\n"
    }
   }
  },
  {
   "cell_type": "markdown",
   "source": [
    "Mnist dataset consists of hand-written digits. The objective is to classify them correctly using ML approaches. In the current project we have to classify only 2 digits.\n",
    "\n",
    "Due to the problem statement, we have to take such digits $a$, $b$, that sum of days of our birthdays form $\\overline{ab}$\n",
    "\n",
    "## 1. Data exploration and preparation\n",
    "\n",
    "We use dataset from `torchvision.datasets` library. Let's load and check it out"
   ],
   "metadata": {
    "collapsed": false,
    "pycharm": {
     "name": "#%% md\n"
    }
   }
  },
  {
   "cell_type": "code",
   "execution_count": 1,
   "outputs": [],
   "source": [
    "# let's import stuff\n",
    "from __future__ import annotations\n",
    "\n",
    "from dataclasses import dataclass\n",
    "from typing import Tuple, List, Dict, Callable\n",
    "\n",
    "import matplotlib.pyplot as plt\n",
    "import numpy as np\n",
    "import torchvision.datasets as datasets\n",
    "from sklearn.model_selection import train_test_split\n",
    "import warnings\n",
    "warnings.filterwarnings(\"ignore\")"
   ],
   "metadata": {
    "collapsed": false,
    "pycharm": {
     "name": "#%%\n"
    }
   }
  },
  {
   "cell_type": "markdown",
   "source": [
    "From the whole dataset we take subset consisting of 2 passed digits, normalize photos. Also we split train to train/cross-validation"
   ],
   "metadata": {
    "collapsed": false,
    "pycharm": {
     "name": "#%% md\n"
    }
   }
  },
  {
   "cell_type": "code",
   "execution_count": 2,
   "outputs": [],
   "source": [
    "@dataclass\n",
    "class Dataset:\n",
    "    train_data: np.ndarray\n",
    "    train_targets: np.ndarray\n",
    "    cv_data: np.ndarray\n",
    "    cv_targets: np.ndarray\n",
    "    test_data: np.ndarray\n",
    "    test_targets: np.ndarray\n",
    "\n",
    "\n",
    "def load(digit1: int, digit2: int) -> Dataset:\n",
    "    train_cv_dataset = datasets.MNIST(root='./data', train=True, download=True, transform=None)\n",
    "    train_cv_data, train_cv_targets = transform(train_cv_dataset, digit1, digit2)\n",
    "    train_data, cv_data, train_targets, cv_targets = train_test_split(train_cv_data, train_cv_targets, test_size=0.2)\n",
    "    test_dataset = datasets.MNIST(root='./data', train=False, download=True, transform=None)\n",
    "    test_data, test_targets = transform(test_dataset, digit1, digit2)\n",
    "    return Dataset(train_data, train_targets, cv_data, cv_targets, test_data, test_targets)\n",
    "\n",
    "\n",
    "def transform(dataset: datasets.MNIST, digit1: int, digit2: int) -> Tuple[np.ndarray, np.ndarray]:\n",
    "    # data = dataset.data.numpy().astype(np.float64) / 255\n",
    "    # normalize data\n",
    "    data = dataset.data.numpy().astype(np.float64)\n",
    "    data = (data - np.mean(data)) / np.std(data)\n",
    "    targets = dataset.targets.numpy()\n",
    "\n",
    "    # filter by digits\n",
    "    mask = np.bitwise_or(targets == digit1, targets == digit2)\n",
    "    data = data[mask]\n",
    "    targets = targets[mask]\n",
    "    return data.reshape(len(data), -1), targets == digit1"
   ],
   "metadata": {
    "collapsed": false,
    "pycharm": {
     "name": "#%%\n"
    }
   }
  },
  {
   "cell_type": "markdown",
   "source": [
    "Let's calculate `dig1` and `dig2`, load data"
   ],
   "metadata": {
    "collapsed": false,
    "pycharm": {
     "name": "#%% md\n"
    }
   }
  },
  {
   "cell_type": "code",
   "execution_count": 3,
   "outputs": [
    {
     "name": "stdout",
     "output_type": "stream",
     "text": [
      "Digits are: 8, 5\n",
      "Dataset with digits: 8, 5\n",
      "Size of train: 9017, ratio: 1.0\n",
      "Size of cv: 2255, ratio: 1.0\n",
      "Size of test: 1866, ratio: 1.0\n"
     ]
    }
   ],
   "source": [
    "b1, b2 = 30, 28  # 30 and 28 are days of birthdays\n",
    "n = b1 + b2\n",
    "dig1 = n % 10\n",
    "dig2 = n // 10\n",
    "print(f\"Digits are: {dig1}, {dig2}\")\n",
    "dataset = load(dig1, dig2)\n",
    "\n",
    "print(f\"Dataset with digits: {dig1}, {dig2}\")\n",
    "print(f\"Size of train: {len(dataset.train_data)}, \"\n",
    "      f\"ratio: {len(dataset.train_targets == dig1) / len(dataset.train_targets == dig2)}\")\n",
    "print(f\"Size of cv: {len(dataset.cv_data)}, \"\n",
    "      f\"ratio: {len(dataset.cv_targets == dig1) / len(dataset.cv_targets == dig2)}\")\n",
    "print(f\"Size of test: {len(dataset.test_data)}, \"\n",
    "      f\"ratio: {len(dataset.test_targets == dig1) / len(dataset.test_targets == dig2)}\")"
   ],
   "metadata": {
    "collapsed": false,
    "pycharm": {
     "name": "#%%\n"
    }
   }
  },
  {
   "cell_type": "markdown",
   "source": [
    "Now let's vizualize our data:"
   ],
   "metadata": {
    "collapsed": false,
    "pycharm": {
     "name": "#%% md\n"
    }
   }
  },
  {
   "cell_type": "code",
   "execution_count": 4,
   "outputs": [
    {
     "name": "stdout",
     "output_type": "stream",
     "text": [
      "Example of images:\n"
     ]
    },
    {
     "data": {
      "text/plain": "<Figure size 2592x288 with 6 Axes>",
      "image/png": "[encoded data removed]"
     },
     "metadata": {
      "needs_background": "light"
     },
     "output_type": "display_data"
    }
   ],
   "source": [
    "def show_mnist_imgs(imgs: List[np.ndarray], is_normalized=True, targets=None):\n",
    "    if is_normalized:\n",
    "        for idx, img in enumerate(imgs):\n",
    "            img = img - np.min(img)\n",
    "            img = img / np.max(img)\n",
    "            img = img.reshape((28, 28))\n",
    "            imgs[idx] = img\n",
    "    fig, axes = plt.subplots(1, len(imgs))\n",
    "    w, h = fig.get_size_inches()\n",
    "    fig.set_size_inches(w * len(imgs), h)\n",
    "    for idx, img in enumerate(imgs):\n",
    "        axes[idx].imshow(img, cmap=\"Greys\")\n",
    "        if targets is not None:\n",
    "            axes[idx].set_title(targets[idx])\n",
    "    plt.show()\n",
    "\n",
    "\n",
    "print(\"Example of images:\")\n",
    "bool_to_dig = {True: dig1, False: dig2}\n",
    "show_mnist_imgs(list(dataset.train_data[:6]),\n",
    "                targets=[f\"target: {bool_to_dig[v]}\" for v in dataset.train_targets[:6]])\n"
   ],
   "metadata": {
    "collapsed": false,
    "pycharm": {
     "name": "#%%\n"
    }
   }
  },
  {
   "cell_type": "markdown",
   "source": [
    "Good. Data seems OK. now let's start with approaches.\n",
    "\n",
    "Since we're allowed and encoureged to use libraries, and 3 of 4 methods are implemented in sklean lib, let's create some generic function that can tune paramters for best performace.\n",
    "\n",
    "Function `select_model` takes dataset, model, and parameters. Then:\n",
    "1. With the help of `grid_search` it calculates all possible combinations of parameters.\n",
    "2. Trains the model.\n",
    "3. Calculates accuracy on cross-validation dataset.\n",
    "4. Saves model and parameters.\n",
    "5. Chooses best model by accuracy score.\n",
    "6. Runs best model on test dataset to score how well it performs."
   ],
   "metadata": {
    "collapsed": false,
    "pycharm": {
     "name": "#%% md\n"
    }
   }
  },
  {
   "cell_type": "code",
   "execution_count": 5,
   "outputs": [],
   "source": [
    "from itertools import product\n",
    "\n",
    "\n",
    "def grid_search(params):\n",
    "    return [dict(zip(params, v)) for v in product(*params.values())]\n",
    "\n",
    "\n",
    "def select_model(dataset: Dataset, model_prototype, parameters: Dict):\n",
    "    parameters_set = grid_search(parameters)\n",
    "    scores = []\n",
    "    models = []\n",
    "\n",
    "    for p in parameters_set:\n",
    "        model = model_prototype(**p)\n",
    "        model.fit(dataset.train_data, dataset.train_targets)\n",
    "\n",
    "        score = model.score(dataset.cv_data, dataset.cv_targets)\n",
    "        print(f\"Cross-validation accuracy={score:.4f}, parameters={p}\")\n",
    "\n",
    "        models.append(model)\n",
    "        scores.append(score)\n",
    "\n",
    "    best = np.argmax(scores)\n",
    "    best_model = models[best]\n",
    "\n",
    "    score = best_model.score(dataset.test_data, dataset.test_targets)\n",
    "    print(f\"Test accuracy={score:.4f}, parameters={parameters_set[best]}\")\n",
    "\n",
    "    return best_model"
   ],
   "metadata": {
    "collapsed": false,
    "pycharm": {
     "name": "#%%\n"
    }
   }
  },
  {
   "cell_type": "markdown",
   "source": [
    "## 1. Logistic Regression\n",
    "\n",
    "Logistic regression is the appropriate regression analysis to conduct when the dependent variable is **dichotomous** (binary). Logistic regression is used to describe data and to explain the relationship between one dependent binary variable and one or more nominal, ordinal, interval or ratio-level independent variables.\n",
    "\n",
    "Within machine learning, logistic regression belongs to the family of **supervised** machine learning models. It is also considered a **discriminative model**, which means that it attempts to distinguish between classes (or categories). Unlike a generative algorithm, such as naïve bayes, it cannot, as the name implies, generate information, such as an image, of the class that it is trying to predict (e.g. a picture of a cat).\n",
    "\n",
    "Logistic regression maximizes the **log likelihood** function to determine the beta coefficients of the model. This changes slightly under the context of machine learning. Within machine learning, the negative log likelihood used as the loss function, using the process of gradient descent to find the global maximum. This is just another way to arrive at the same estimations discussed below."
   ],
   "metadata": {
    "collapsed": false,
    "pycharm": {
     "name": "#%% md\n"
    }
   }
  },
  {
   "cell_type": "markdown",
   "source": [
    "#### Logistic function"
   ],
   "metadata": {
    "collapsed": false,
    "pycharm": {
     "name": "#%% md\n"
    }
   }
  },
  {
   "cell_type": "markdown",
   "source": [
    "Let’s start by mentioning the formula of logistic function:\n",
    "$$\n",
    "\\sigma(x) = \\frac{1}{1 + e^{\\theta^Tx}}\n",
    "$$\n",
    "\n",
    "There are obviously some similarities between the formula above and linear regression:\n",
    "$$\n",
    "y(x) = \\theta^Tx\n",
    "$$\n",
    "The key is that we want linear regression to output the probability $p = \\theta^Tx$ that has to be in 0 to 1 range, but obviously it is not the case in general. To overcome this issue we take \"odds\" of p:\n",
    "$$\n",
    "\\frac{p}{1 - p} = \\theta^Tx\n",
    "$$\n",
    "We know that odds can always be positive which means the range will always be (0,+$\\infty$). Odds are nothing but the ratio of the probability of success and probability of failure. Still, left-hand side cannot obtain all the values right-hand side can; we fix by taking log of odds.\n",
    "$$\n",
    "\\log{\\frac{p}{1 - p}} = \\theta^Tx\n",
    "$$\n",
    "Now, we can just solve for p and make sure that:\n",
    "$$\n",
    "p = \\sigma(x) = \\frac{1}{1 + e^{\\theta^Tx}}\n",
    "$$"
   ],
   "metadata": {
    "collapsed": false,
    "pycharm": {
     "name": "#%% md\n"
    }
   }
  },
  {
   "cell_type": "markdown",
   "source": [
    "#### Cost function in logistic regression"
   ],
   "metadata": {
    "collapsed": false,
    "pycharm": {
     "name": "#%% md\n"
    }
   }
  },
  {
   "cell_type": "markdown",
   "source": [
    "In linear regression, we use the **mean squared error** which was the difference between y_predicted and y_actual and this is derived from the maximum likelihood estimator:\n",
    "$$\n",
    "J(\\theta) = \\frac{1}{n}\\sum_{i = 1}^n (\\hat y_i - y_i)^2\n",
    "$$\n",
    "In logistic regression $\\hat y_i$ is a non-linear function. If we use this in the above MSE equation then it will give a non-convex graph with many local minima.\n",
    "\n",
    "Let’s start by defining our likelihood function. We now know that the labels are binary which means they can be either yes/no or pass/fail etc. We can also say we have two outcomes success and failure. This means we can interpret each label as Bernoulli random variable.\n",
    "\n",
    "A random experiment whose outcomes are of two types, success S and failure F, occurring with probabilities p and q respectively is called a Bernoulli trial. If for this experiment a random variable X is defined such that it takes value 1 when S occurs and 0 if F occurs, then X follows a Bernoulli Distribution.\n",
    "$$\n",
    "Y \\sim Bernoulli(p)\n",
    "$$\n",
    "where $p$ is sigmoid fuction.\n",
    "$$\n",
    "P[Y=y|X=x] = \\sigma(\\theta^Tx)^y(1 - \\sigma(\\theta^Tx))^{1 - y}\n",
    "$$\n",
    "Now for n observations,\n",
    "$$\n",
    "L(\\theta) = \\prod_{i = 1}^n \\sigma(\\theta^Tx_i)^{y_i}(1 - \\sigma(\\theta^Tx_i))^{1 - y_i}\n",
    "$$\n",
    "We need a value for theta which will maximize this likelihood function. To make our calculations easier we multiply the log on both sides. The function we get is also called the log-likelihood function or sum of the log conditional probability\n",
    "$$\n",
    "\\log L(\\theta) = \\sum_{i = 1}^n y_i \\cdot \\log [\\sigma(\\theta^Tx_i)] + (1 - y_i) \\cdot \\log [(1 - \\sigma(\\theta^Tx_i))]\n",
    "$$"
   ],
   "metadata": {
    "collapsed": false,
    "pycharm": {
     "name": "#%% md\n"
    }
   }
  },
  {
   "cell_type": "markdown",
   "source": [
    "#### Optimization\n",
    "\n",
    "1. Use chain rule and break the partial derivative of log-likelihood.\n",
    "$$\n",
    "\\frac{\\partial LL(\\theta)}{\\partial \\theta_j} = \\frac{\\partial LL(\\theta)}{\\partial p} \\cdot \\frac{\\partial p}{\\partial \\theta_j}\n",
    "$$\n",
    "where $p = \\sigma[\\theta^Tx]$\n",
    "$$\n",
    "= \\frac{\\partial LL(\\theta)}{\\partial p} \\cdot \\frac{\\partial p}{\\partial z} \\cdot \\frac{\\partial z}{\\partial \\theta_j}\n",
    "$$\n",
    "where $z = \\theta^Tx$\n",
    "\n",
    "2. Find derivative of log-likelihood w.r.t $p$\n",
    "$$\n",
    "LL(\\theta) = y \\cdot \\log p + (1 - y) \\cdot \\log (1 - p)\n",
    "$$\n",
    "$$\n",
    "\\frac{\\partial LL(\\theta)}{\\partial p} = \\frac{y}{p} + \\frac{1 - y}{1 - p}\n",
    "$$\n",
    "3. Find derivative of $p$ w.r.t $z$\n",
    "$$ p = \\sigma(z) $$\n",
    "$$\n",
    "\\frac{\\partial p}{\\partial z} = \\frac{\\partial \\sigma(z)}{\\partial z} = \\sigma(z) \\cdot (1 - \\sigma(z))\n",
    "$$\n",
    "4. Find derivate of $z$ w.r.t $\\theta$\n",
    "$$ z = \\theta^Tx $$\n",
    "$$\n",
    "\\frac{\\partial z}{\\partial \\theta_j} = x_j\n",
    "$$\n",
    "5. Put all the derivatives in equation 1\n",
    "\n",
    "$$\n",
    "\\frac{\\partial LL(\\theta)}{\\partial \\theta_j} = \\frac{\\partial LL(\\theta)}{\\partial p} \\cdot \\frac{\\partial p}{\\partial z} \\cdot \\frac{\\partial z}{\\partial \\theta_j} = [\\frac{y}{p} + \\frac{1 - y}{1 - p}] \\cdot \\sigma(z) \\cdot (1 - \\sigma(z)) \\cdot x_j\n",
    "$$\n",
    "$$\n",
    "= [\\frac{y}{p} + \\frac{1 - y}{1 - p}] \\cdot p[1 - p] \\cdot x_j = [y(1 - p) - p(1 - y)] \\cdot x_j = (y - p) \\cdot x_j\n",
    "$$\n",
    "$$= (y - \\sigma(\\theta^Tx)) \\cdot x_j $$\n",
    "\n",
    "We can clearly see that there are no explicite solution for $\\theta$ unlike in linear regression. Thus, we use **gradient ascent** in order to find the optimal $\\theta$. Using equation 5 we obtain update rule:\n",
    "$$\n",
    "\\theta_{t+1} = \\theta_{t} + (y - \\sigma(\\theta_t^Tx)) \\cdot x\n",
    "$$"
   ],
   "metadata": {
    "collapsed": false,
    "pycharm": {
     "name": "#%% md\n"
    }
   }
  },
  {
   "cell_type": "code",
   "execution_count": 6,
   "outputs": [
    {
     "name": "stdout",
     "output_type": "stream",
     "text": [
      "Cross-validation accuracy=0.9557, parameters={'solver': 'saga', 'max_iter': 200, 'C': 1}\n",
      "Cross-validation accuracy=0.9570, parameters={'solver': 'saga', 'max_iter': 200, 'C': 0.1}\n",
      "Cross-validation accuracy=0.9592, parameters={'solver': 'saga', 'max_iter': 200, 'C': 0.03}\n",
      "Cross-validation accuracy=0.9548, parameters={'solver': 'lbfgs', 'max_iter': 200, 'C': 1}\n",
      "Cross-validation accuracy=0.9557, parameters={'solver': 'lbfgs', 'max_iter': 200, 'C': 0.1}\n",
      "Cross-validation accuracy=0.9588, parameters={'solver': 'lbfgs', 'max_iter': 200, 'C': 0.03}\n",
      "Cross-validation accuracy=0.9557, parameters={'solver': 'liblinear', 'max_iter': 200, 'C': 1}\n",
      "Cross-validation accuracy=0.9579, parameters={'solver': 'liblinear', 'max_iter': 200, 'C': 0.1}\n",
      "Cross-validation accuracy=0.9592, parameters={'solver': 'liblinear', 'max_iter': 200, 'C': 0.03}\n",
      "Cross-validation accuracy=0.9565, parameters={'solver': 'newton-cg', 'max_iter': 200, 'C': 1}\n",
      "Cross-validation accuracy=0.9561, parameters={'solver': 'newton-cg', 'max_iter': 200, 'C': 0.1}\n",
      "Cross-validation accuracy=0.9588, parameters={'solver': 'newton-cg', 'max_iter': 200, 'C': 0.03}\n",
      "Cross-validation accuracy=0.9561, parameters={'solver': 'sag', 'max_iter': 200, 'C': 1}\n",
      "Cross-validation accuracy=0.9579, parameters={'solver': 'sag', 'max_iter': 200, 'C': 0.1}\n",
      "Cross-validation accuracy=0.9592, parameters={'solver': 'sag', 'max_iter': 200, 'C': 0.03}\n",
      "Test accuracy=0.9571, parameters={'solver': 'saga', 'max_iter': 200, 'C': 0.03}\n"
     ]
    },
    {
     "data": {
      "text/plain": "LogisticRegression(C=0.03, max_iter=200, solver='saga')"
     },
     "execution_count": 6,
     "metadata": {},
     "output_type": "execute_result"
    }
   ],
   "source": [
    "from sklearn.linear_model import LogisticRegression\n",
    "\n",
    "parameters = {'solver': ['saga', 'lbfgs', 'liblinear', 'newton-cg', 'sag'], 'max_iter': [200], 'C': [1, 0.1, 0.03]}\n",
    "select_model(dataset, LogisticRegression, parameters)"
   ],
   "metadata": {
    "collapsed": false,
    "pycharm": {
     "name": "#%%\n"
    }
   }
  },
  {
   "cell_type": "markdown",
   "source": [
    "#### Logistic regression pros\n",
    "\n",
    "**Pros**:\n",
    "- Easy to implement\n",
    "- The predicted parameters (trained weights) give inference about the importance of each feature. (Highly interpretable)\n",
    "- This algorithm allows models to be updated easily to reflect new data, unlike decision trees or support vector machines. The update can be done using stochastic gradient descent.\n",
    "- Logistic regression outputs well-calibrated probabilities along with classification results. This is an advantage over models that only give the final classification as results.\n",
    "- In a low dimensional dataset having a sufficient number of training examples, logistic regression is less prone to over-fitting.\n",
    "\n",
    "**Cons**:\n",
    "- Non-linear problems can't be solved with logistic regression since it has a linear decision surface. Linearly separable data is rarely found in real world scenarios.\n",
    "- The training features are known as independent variables. Logistic Regression requires moderate or no multicollinearity between independent variables. Repetition of information could lead to wrong training of parameters (weights) during minimizing the cost function.\n",
    "- On high dimensional datasets with an insufficient number of data samples, the model is prone to over-fit on the training set."
   ],
   "metadata": {
    "collapsed": false,
    "pycharm": {
     "name": "#%% md\n"
    }
   }
  },
  {
   "cell_type": "markdown",
   "source": [
    "Test logistic regression accuracy on test data - 95.8%\n",
    "\n",
    "Note that best cross-validation accuracy we get with more strict regularization 0.1 (default is 1.0). It might be due to the fact that our data is high-dimensional (784d). I believe that results can be improved by apply PCA before classification."
   ],
   "metadata": {
    "collapsed": false,
    "pycharm": {
     "name": "#%% md\n"
    }
   }
  },
  {
   "cell_type": "markdown",
   "source": [
    "## 2. K-nearest neighbors"
   ],
   "metadata": {
    "collapsed": false,
    "pycharm": {
     "name": "#%% md\n"
    }
   }
  },
  {
   "cell_type": "markdown",
   "source": [
    "K-nearest Neighbor is a **supervised classification** algorithm that is based on predicting data by finding the similarities to the underlying data. KNN is most widely used for classification problems, but can also be used to solve regression problems. The original assumption is the data exist in forms of clusters or exist in close proximity. KNN is a non-parametric algorithm, which means it does not attempt to make an assumption on the data, for example it does not care if the data is normally distributed or not."
   ],
   "metadata": {
    "collapsed": false,
    "pycharm": {
     "name": "#%% md\n"
    }
   }
  },
  {
   "cell_type": "markdown",
   "source": [
    "#### Classification rule"
   ],
   "metadata": {
    "collapsed": false,
    "pycharm": {
     "name": "#%% md\n"
    }
   }
  },
  {
   "cell_type": "markdown",
   "source": [
    "Informally:\n",
    "\n",
    "For a test input x, assign the most common label amongst its k most similar training inputs\n",
    "\n",
    "Formally:\n",
    "\n",
    "Let $x$ to be test point. Define the set of the k nearest neighbors of $x$ as $S_x$. $S_x$ is defined as $S_x \\subseteq D$ s.t. $|S_x|=k$ and\n",
    "$$\n",
    "\\forall (x', y') \\in D \\setminus S_x \\quad dist(x, x') \\ge \\max_{(x'', y'') \\in S_x} dist(x, x''),\n",
    "$$\n",
    "(i.e. every point in D but not in $S_x$ is at least as far away from $x$ as the furthest point in $S_x$). We can then define the classifier h() as a function returning the most common label in $S_x$:\n",
    "$$\n",
    "h(x) = mode({y'': (x'', y'') \\in S_x}),\n",
    "$$\n",
    "where $mode(\\cdot)$ means to select the label of the highest occurrence."
   ],
   "metadata": {
    "collapsed": false,
    "pycharm": {
     "name": "#%% md\n"
    }
   }
  },
  {
   "cell_type": "markdown",
   "source": [
    "#### Distance function"
   ],
   "metadata": {
    "collapsed": false,
    "pycharm": {
     "name": "#%% md\n"
    }
   }
  },
  {
   "cell_type": "markdown",
   "source": [
    "The k-nearest neighbor classifier fundamentally relies on a distance metric. The better that metric reflects label similarity, the better the classified will be. The most common choice is the Minkowski distance\n",
    "$$\n",
    "dist(x, z) = (\\sum_{r=1}^d |x_r - z_r|^p)^{\\frac{1}{p}}\n",
    "$$\n",
    "- p = 1: Manhattan Distance ($l_1$-norm)\n",
    "- p = 2: Euclidean Distance ($l_2$-norm)\n",
    "- p $\\to \\infty$: Maximum Norm"
   ],
   "metadata": {
    "collapsed": false,
    "pycharm": {
     "name": "#%% md\n"
    }
   }
  },
  {
   "cell_type": "markdown",
   "source": [
    "#### 1-NN Convergence proof\n"
   ],
   "metadata": {
    "collapsed": false,
    "pycharm": {
     "name": "#%% md\n"
    }
   }
  },
  {
   "cell_type": "markdown",
   "source": [
    "Cover and Hart 1967: As $n \\to \\infty$, the 1-NN error is no more than twice the error of the Bayes Optimal classifier. (Similar guarantees hold for k>1.)\n",
    "\n",
    "Let $x_{NN}$ be the nearest neighbor of our test point $x_t$. As $n \\to \\infty$, dist($x_{NN},x_t$) $\\to 0$, i.e. $x_{NN} \\to x_t$. (This means the nearest neighbor is identical to $x_t$.) You return the label of $x_{NN}$. What is the probability that this is not the label of x? (This is the probability of drawing two different label of x)\n",
    "$$\n",
    "\\varepsilon_{NN} = P(y^*|x_t)(1 - P(y^*|x_{NN})) + P(y^*|x_{NN})(1 - P(y^*|x_t)) \\le (1 - P(y^*|x_{NN})) + (1 - P(y^*|x_t)) = 2(1 - P(y^*|x_t)) = 2\\varepsilon_{BayesOpt}\n",
    "$$"
   ],
   "metadata": {
    "collapsed": false,
    "pycharm": {
     "name": "#%% md\n"
    }
   }
  },
  {
   "cell_type": "markdown",
   "source": [
    "#### Curse of dimensionality\n"
   ],
   "metadata": {
    "collapsed": false,
    "pycharm": {
     "name": "#%% md\n"
    }
   }
  },
  {
   "cell_type": "markdown",
   "source": [
    "Imagine $X=[0,1]^d$, and k=10 and all training data is sampled uniformly with X, i.e. $\\forall i,x_i \\in [0,1]^d$. Let $l$ be the edge length of the smallest hyper-cube that contains all k-nearest neighbor of a test point. Then $l^d \\approx \\frac{k}{n}$ and $l \\approx (\\frac{k}{n})^{1/d}$\n",
    "Let's take $n = 1000$ and how $l$ changes as d grows:\n",
    "$$\n",
    "d \\quad l \\\\\n",
    "2 \\quad 0.1 \\\\\n",
    "10 \\quad 0.63 \\\\\n",
    "100 \\quad 0.955 \\\\\n",
    "1000 \\quad 0.9954\n",
    "$$\n",
    "Almost the entire space is needed to find the 10-NN.\n",
    "\n",
    "\n"
   ],
   "metadata": {
    "collapsed": false,
    "pycharm": {
     "name": "#%% md\n"
    }
   }
  },
  {
   "cell_type": "code",
   "execution_count": 7,
   "outputs": [
    {
     "name": "stdout",
     "output_type": "stream",
     "text": [
      "Cross-validation accuracy=0.9876, parameters={'n_neighbors': 11}\n",
      "Cross-validation accuracy=0.9863, parameters={'n_neighbors': 13}\n",
      "Cross-validation accuracy=0.9871, parameters={'n_neighbors': 15}\n",
      "Cross-validation accuracy=0.9871, parameters={'n_neighbors': 17}\n",
      "Cross-validation accuracy=0.9863, parameters={'n_neighbors': 19}\n",
      "Cross-validation accuracy=0.9854, parameters={'n_neighbors': 21}\n",
      "Cross-validation accuracy=0.9849, parameters={'n_neighbors': 23}\n",
      "Cross-validation accuracy=0.9836, parameters={'n_neighbors': 25}\n",
      "Cross-validation accuracy=0.9840, parameters={'n_neighbors': 27}\n",
      "Cross-validation accuracy=0.9831, parameters={'n_neighbors': 29}\n",
      "Test accuracy=0.9904, parameters={'n_neighbors': 11}\n"
     ]
    },
    {
     "data": {
      "text/plain": "KNeighborsClassifier(n_neighbors=11)"
     },
     "execution_count": 7,
     "metadata": {},
     "output_type": "execute_result"
    }
   ],
   "source": [
    "from sklearn.neighbors import KNeighborsClassifier\n",
    "\n",
    "parameters = {'n_neighbors': list(range(11, 30, 2))}\n",
    "select_model(dataset, KNeighborsClassifier, parameters)"
   ],
   "metadata": {
    "collapsed": false,
    "pycharm": {
     "name": "#%%\n"
    }
   }
  },
  {
   "cell_type": "markdown",
   "source": [
    "#### k-NN pros and cons\n",
    "\n",
    "**Pros**:\n",
    "- intuitive and simple: k-NN algorithm is very simple to understand and equally easy to implement.\n",
    "- no assumptions: K-NN is a non-parametric algorithm which means there are assumptions to be met to implement it.\n",
    "- no training step: Given it’s an instance-based learning; k-NN is a memory-based approach. The classifier immediately adapts as we collect new training data.\n",
    "- easy to implement for multi-class problem: Most of the classifier algorithms are easy to implement for binary problems and needs effort to implement for multi class.\n",
    "- can be used both for classification and regression\n",
    "- only one hyper-parameter\n",
    "- variety of distance criteria to be choose from: Euclidean dist, Hamming dist, Manhattan dist and Minkowski dist as most general\n",
    "\n",
    "**Cons**:\n",
    "- slow algorithm: k-NN might be very easy to implement but as dataset grows efficiency or speed of algorithm declines very fast.\n",
    "- curse of dimensionality: k-NN works well with small number of input variables but as the numbers of variables grow k-NN algorithm struggles to predict the output of new data point.\n",
    "- k-NN needs homogeneous features: If you decide to build k-NN using a common distance, like Euclidean or Manhattan distances, it is completely necessary that features have the same scale, since absolute differences in features weight the same, i.e., a given distance in feature 1 must means the same for feature 2.\n",
    "- whhat is optimal number of neighbors\n",
    "- imbalanced data causes problems\n",
    "- outlier sensitivity\n",
    "- missing value treatment: k-NN inherently has no capability of dealing with missing value problem."
   ],
   "metadata": {
    "collapsed": false,
    "pycharm": {
     "name": "#%% md\n"
    }
   }
  },
  {
   "cell_type": "markdown",
   "source": [],
   "metadata": {
    "collapsed": false,
    "pycharm": {
     "name": "#%% md\n"
    }
   }
  },
  {
   "cell_type": "markdown",
   "source": [
    "Test k-NN accuracy on test data - 99.0%"
   ],
   "metadata": {
    "collapsed": false,
    "pycharm": {
     "name": "#%% md\n"
    }
   }
  },
  {
   "cell_type": "markdown",
   "source": [
    "## 3. Artificial Neural Network\n"
   ],
   "metadata": {
    "collapsed": false,
    "pycharm": {
     "name": "#%% md\n"
    }
   }
  },
  {
   "cell_type": "markdown",
   "source": [
    "Arificial Neural network is quite a big set of algorithms. The main idea is inspired by how our brains works, though it has a lot less in common that we may think.\n",
    "\n",
    "An ANN is based on a collection of connected units or nodes called artificial neurons or perceptron, which loosely model the neurons in a biological brain. Each connection, like the synapses in a biological brain, can transmit signal to other neurons.\n",
    "\n",
    "There is a Universal approximation theorem[7] that shows, that actually any function can be estimated with a big enough ANN"
   ],
   "metadata": {
    "collapsed": false,
    "pycharm": {
     "name": "#%% md\n"
    }
   }
  },
  {
   "cell_type": "markdown",
   "source": [
    "#### General idea"
   ],
   "metadata": {
    "collapsed": false,
    "pycharm": {
     "name": "#%% md\n"
    }
   }
  },
  {
   "cell_type": "markdown",
   "source": [
    "'Signal' in a computer is just a float number. The bigger number corresponding to particular neuron, the bigger its activation. There can be many layers of neurons.\n",
    "\n",
    "In a 'classic' Linear Fully conncted network, neurons at each layer are interconnected with all neurons from previous and next layers. Exceptions are input layers (input we get from data), and output layer.\n",
    "\n",
    "Those connections are called edges, and they have some weights (learnable parameters), that explain how different neurons from previos layer impact activation of current neuron from current layer. This simple structure can make network learn difficult pattern\n",
    "\n",
    "\n",
    "Usually one step inside such network can be described in terms of matrix multiplication. Let's say that for some perceptron $i$ on layer $k$ we have vector of weights $w_i$ for each perceptron from previous layer. Then activatin of such neuron can written as a linear combination of activations of all the perceptrons from previous step: $a_i^k=w_{i1} \\cdot a_1^{k-1} + w_{i2} \\cdot a_2^{k-1} + \\cdots w_{in} + \\cdot a_n^{k-1} + b_i=w_i \\cdot a^{k-1} + b_i$\n",
    "\n",
    "Then we can rewrite one layer of activation as a matrix multiplication:\n",
    "\n",
    "$$a^k = W^k \\cdot a^{k-1} + b$$\n",
    "$$W^k=\\begin{bmatrix}\n",
    "-- w_1^k -- \\\\\n",
    "-- w_2^k -- \\\\\n",
    "-- \\cdots -- \\\\\n",
    "-- w_n^k -- \\\\\n",
    "\\end{bmatrix}\n",
    "$$\n",
    "\n",
    "\n",
    "-----------\n",
    "\n",
    "\n",
    "<img src=\"./media/nn.jpeg\" alt=\"drawing\" width=\"500\"/>"
   ],
   "metadata": {
    "collapsed": false,
    "pycharm": {
     "name": "#%% md\n"
    }
   }
  },
  {
   "cell_type": "markdown",
   "source": [
    "#### Activation functions"
   ],
   "metadata": {
    "collapsed": false,
    "pycharm": {
     "name": "#%% md\n"
    }
   }
  },
  {
   "cell_type": "markdown",
   "source": [
    "To make ANN learn a non-linear patterns, we have to add so-called 'activation function'. That is some non-linear function `A` that is applied to each neuron at some layer.\n",
    "\n",
    "Ths most popular are:\n",
    "- Sigmoid: $S(a) = \\frac{1}{1+e^{-x}}$\n",
    "- tanh: $T(a) = \\frac{e^{2x} - 1}{e^{2x} + 1}$\n",
    "- Relu: $R(a) = max(0, a)$\n",
    "- Parametruc Relu: $Pr(a) = a$ if $a>0$ otherwise $ax$"
   ],
   "metadata": {
    "collapsed": false,
    "pycharm": {
     "name": "#%% md\n"
    }
   }
  },
  {
   "cell_type": "markdown",
   "source": [
    "#### Learning ANN"
   ],
   "metadata": {
    "collapsed": false,
    "pycharm": {
     "name": "#%% md\n"
    }
   }
  },
  {
   "cell_type": "markdown",
   "source": [
    "The most popular and most practical way to learn weights and train model - back propagation.\n",
    "\n",
    "That is basically feed data to ANN, compute some loss function (usually defined by the problem we're solving), compute gradients using chain rule, and using some clever modification of gradient descent update all weights in the model. Repeat this process unless value of loss function converges, or we get good enough metrics.\n",
    "\n",
    "Without too much of details, Let's say we have value of loss function $C$. Now since loss function is known, and usually differentiated function is takes as a loss function, we can compute $\\frac{dC}{dA^k}$, where $A^k$ is a output of the model.\n",
    "\n",
    "Then since we know derivative of activation function, we can compute $\\frac{dC}{da^k} = \\frac{dC}{dA^k} \\cdot \\frac{dA^k}{da^k}$, where $a^k$ - perceptrons activations on the last layer. Now since we know that activations are just a linear function of the output of previous step, we can continue this process, until we get to the input layer."
   ],
   "metadata": {
    "collapsed": false,
    "pycharm": {
     "name": "#%% md\n"
    }
   }
  },
  {
   "cell_type": "markdown",
   "source": [
    "#### Implementation"
   ],
   "metadata": {
    "collapsed": false,
    "pycharm": {
     "name": "#%% md\n"
    }
   }
  },
  {
   "cell_type": "markdown",
   "source": [
    "In 99% of situations, creating neural network from scratch is not needed, since modern high-level frameworks propose a ton of functionality. Let's use `pytorch` to create a relatively simple fully connected neural network:"
   ],
   "metadata": {
    "collapsed": false,
    "pycharm": {
     "name": "#%% md\n"
    }
   }
  },
  {
   "cell_type": "code",
   "execution_count": 8,
   "outputs": [],
   "source": [
    "from typing import List\n",
    "import torch\n",
    "import torch.nn as nn\n",
    "import torch.nn.functional as F\n",
    "from torch.utils.data import Dataset as TorchDataset\n",
    "from torch.utils.data import DataLoader\n",
    "\n",
    "\n",
    "class LinearMnistNN(nn.Module):\n",
    "    def __init__(self,\n",
    "                 layers_sizes: List | None = None,\n",
    "                 activation=F.relu,\n",
    "                 n_classes=2,\n",
    "                 input_size=784):\n",
    "        super().__init__()\n",
    "        if layers_sizes is None:\n",
    "            layers_sizes = [16, 16]\n",
    "        self.activation = activation\n",
    "        self.n_classes = n_classes\n",
    "\n",
    "        prev_size = input_size\n",
    "        for i, cur_size in enumerate(layers_sizes):\n",
    "            self.__setattr__(f\"linear_{i}\", nn.Linear(prev_size, cur_size))\n",
    "            prev_size = cur_size\n",
    "        self.__setattr__(f\"linear_{i + 1}\", nn.Linear(prev_size, n_classes))\n",
    "        self.n_layers = len(layers_sizes) + 1\n",
    "\n",
    "    def forward(self, x):\n",
    "        x = torch.flatten(x, 1)\n",
    "        for i in range(self.n_layers):\n",
    "            x = self.activation(self.__getattr__(f\"linear_{i}\")(x))\n",
    "        x = F.softmax(x, 1)\n",
    "        return x\n",
    "\n",
    "\n",
    "class MNIST_Dataset(TorchDataset):\n",
    "    def __init__(self,\n",
    "                 dataset: Dataset,\n",
    "                 train=False,\n",
    "                 cv=False,\n",
    "                 test=False,\n",
    "                 length: int | None = None,\n",
    "                 ) -> None:\n",
    "        super().__init__()\n",
    "        if sum((train, cv, test)) != 1:\n",
    "            raise ValueError(\"Choose only one - train/cv/test\")\n",
    "        if train:\n",
    "            self.data = dataset.train_data[:length]\n",
    "            self.labels = dataset.train_targets[:length]\n",
    "        elif cv:\n",
    "            self.data = dataset.cv_data[:length]\n",
    "            self.labels = dataset.cv_targets[:length]\n",
    "        elif test:\n",
    "            self.data = dataset.test_data[:length]\n",
    "            self.labels = dataset.test_targets[:length]\n",
    "        self.data = torch.from_numpy(self.data.astype(np.float32))\n",
    "        self.labels = torch.from_numpy(self.labels.astype(np.int))\n",
    "        self.length = length if length is not None else len(self.labels)\n",
    "\n",
    "    def __getitem__(self, index: int):\n",
    "        return torch.flatten(self.data[index]), self.labels[index]\n",
    "\n",
    "    def __len__(self):\n",
    "        return self.length"
   ],
   "metadata": {
    "collapsed": false,
    "pycharm": {
     "name": "#%%\n"
    }
   }
  },
  {
   "cell_type": "markdown",
   "source": [
    "Neural network above can be configured - we can choose number of hidden layers, and their sizes. Also, we can choose an activation function.\n",
    "\n",
    "For a convenience, I also created dataset wrapper, that can work well with a torch.\n",
    "\n",
    "Model training also requires quite a lot of code:"
   ],
   "metadata": {
    "collapsed": false,
    "pycharm": {
     "name": "#%% md\n"
    }
   }
  },
  {
   "cell_type": "code",
   "execution_count": 9,
   "outputs": [],
   "source": [
    "from sklearn.metrics import f1_score, accuracy_score\n",
    "import copy\n",
    "\n",
    "\n",
    "def train_one_epoch(model: torch.nn.Module, optimizer: torch.optim.Optimizer,\n",
    "                    training_loader: DataLoader, loss_fn: Callable,\n",
    "                    print_each: int, verbose=False,\n",
    "                    ) -> List[float]:\n",
    "    running_loss = 0.\n",
    "    loss_history = []\n",
    "    for i, data in enumerate(training_loader):\n",
    "        inputs, labels = data  # get data from batch\n",
    "        optimizer.zero_grad()  # Zero your gradients for every batch\n",
    "        outputs = model(inputs)  # Make predictions for this batch\n",
    "        loss = loss_fn(outputs, labels)  # Compute the loss and its gradients\n",
    "        loss.backward()\n",
    "        optimizer.step()  # Adjust learning weights\n",
    "\n",
    "        # Gather data and report\n",
    "        running_loss += loss.item()\n",
    "        if i % print_each == print_each - 1:\n",
    "            last_loss = running_loss / print_each  # loss per batch\n",
    "            verbose and print(f\"  batch {i + 1} loss: {last_loss}\")\n",
    "            loss_history.append(float(last_loss))\n",
    "            running_loss = 0.\n",
    "    return loss_history\n",
    "\n",
    "\n",
    "def train_model(\n",
    "        model: torch.nn.Module, optimizer: torch.optim.Optimizer, config: Dict\n",
    ") -> Tuple[Dict[str, List], torch.nn.Module | None]:\n",
    "    deep_cnf = config[\"deep_model\"]\n",
    "    loss_fn = torch.nn.CrossEntropyLoss()  # loss function - cross entropy\n",
    "\n",
    "    train_ds = MNIST_Dataset(dataset, train=True)\n",
    "    cv_ds = MNIST_Dataset(dataset, cv=True)\n",
    "\n",
    "    # prepare data loader\n",
    "    training_loader = DataLoader(\n",
    "        train_ds, batch_size=deep_cnf[\"batch_size\"], shuffle=True, num_workers=deep_cnf[\"loader_num_workers\"]\n",
    "    )\n",
    "    validation_loader = DataLoader(\n",
    "        cv_ds, batch_size=deep_cnf[\"batch_size\"], shuffle=False, num_workers=deep_cnf[\"loader_num_workers\"]\n",
    "    )\n",
    "\n",
    "    print_each = deep_cnf[\"print_each\"]\n",
    "    n_epoch = deep_cnf[\"n_epoch\"]\n",
    "\n",
    "    history = {\n",
    "        \"avg_cv_loss\": [],\n",
    "        \"train_loss\": [],\n",
    "        \"avg_accuracy\": [],\n",
    "        \"avg_f1\": [],\n",
    "    }\n",
    "\n",
    "    best_model = None\n",
    "    best_cv_acc = -1\n",
    "\n",
    "    for epoch in range(n_epoch):\n",
    "        model.train()  # put model in a train mode\n",
    "        loss_h = train_one_epoch(model, optimizer, training_loader, loss_fn, print_each, verbose=False)\n",
    "        model.eval()  # put model in evaluation mode\n",
    "        cv_loss = 0.0\n",
    "        cv_accuracy = 0.0\n",
    "        cv_f1 = 0.0\n",
    "        for i, vdata in enumerate(validation_loader):\n",
    "            vinputs, vlabels = vdata\n",
    "            voutputs = model(vinputs)\n",
    "            vloss = loss_fn(voutputs, vlabels)\n",
    "            cv_loss += vloss.item()\n",
    "\n",
    "            preds = voutputs.max(dim=1)[1].numpy()\n",
    "            cv_accuracy += accuracy_score(vlabels, preds)\n",
    "            cv_f1 += f1_score(vlabels, preds)\n",
    "\n",
    "        history[\"avg_accuracy\"].append(float(cv_accuracy / (i + 1)))\n",
    "        history[\"avg_f1\"].append(float(cv_loss / (i + 1)))\n",
    "        history[\"avg_cv_loss\"].append(float(cv_f1 / (i + 1)))\n",
    "        history[\"train_loss\"] += loss_h\n",
    "\n",
    "        avg_train_loss = np.mean(loss_h)\n",
    "        print(f\"EPOCH: {epoch} done. loss: {avg_train_loss}, accuracy: {history['avg_accuracy'][-1]}\")\n",
    "\n",
    "        # update best model\n",
    "        if history['avg_accuracy'][-1] > best_cv_acc:\n",
    "            best_model = copy.deepcopy(model)\n",
    "            best_cv_acc = history['avg_accuracy'][-1]\n",
    "\n",
    "    return history, best_model\n"
   ],
   "metadata": {
    "collapsed": false,
    "pycharm": {
     "name": "#%%\n"
    }
   }
  },
  {
   "cell_type": "markdown",
   "source": [
    "Also, we will need some functions to evaluate model on the test dataset, vizualize training history:"
   ],
   "metadata": {
    "collapsed": false,
    "pycharm": {
     "name": "#%% md\n"
    }
   }
  },
  {
   "cell_type": "code",
   "execution_count": 10,
   "outputs": [],
   "source": [
    "from torch.nn import Module\n",
    "\n",
    "\n",
    "def vizualize_history(history: Dict):\n",
    "    fig, axes = plt.subplots(3, 1, sharex=True)\n",
    "    fig_width, fig_height = fig.get_size_inches()\n",
    "    fig.set_size_inches(fig_width, fig_height * 3)\n",
    "    idx = 0\n",
    "    for key in history:\n",
    "        if key == \"train_loss\":\n",
    "            continue\n",
    "        axes[idx].set_title(key)\n",
    "        axes[idx].set_xlabel(\"epoch\")\n",
    "        axes[idx].plot(history[key])\n",
    "        idx += 1\n",
    "    plt.show()\n",
    "    plt.title(\"train loss\")\n",
    "    plt.plot(history[\"train_loss\"])\n",
    "    plt.xlabel(\"epoch\")\n",
    "    plt.show()\n",
    "\n",
    "\n",
    "def eval_model(model: Module) -> Dict:\n",
    "    model.eval()\n",
    "\n",
    "    inputs = torch.from_numpy(dataset.test_data.astype(np.float32))\n",
    "    labels = dataset.test_targets\n",
    "\n",
    "    outputs = model(inputs)\n",
    "    preds = outputs.max(dim=1)[1].numpy()\n",
    "    acc = accuracy_score(labels, preds)\n",
    "    f1 = f1_score(labels, preds)\n",
    "\n",
    "    print(f\"Test accuracy: {acc}, f1-score: {f1}\")\n",
    "    return {\n",
    "        \"accuracy\": acc,\n",
    "        \"f1-score\": f1,\n",
    "    }"
   ],
   "metadata": {
    "collapsed": false,
    "pycharm": {
     "name": "#%%\n"
    }
   }
  },
  {
   "cell_type": "code",
   "execution_count": 11,
   "outputs": [
    {
     "name": "stdout",
     "output_type": "stream",
     "text": [
      "EPOCH: 0 done. loss: 0.36603465168564403, accuracy: 0.9766725352112676\n",
      "EPOCH: 1 done. loss: 0.33797849030406385, accuracy: 0.9744718309859155\n",
      "EPOCH: 2 done. loss: 0.3367593021304519, accuracy: 0.9651701877934273\n",
      "EPOCH: 3 done. loss: 0.33636394728113106, accuracy: 0.963849765258216\n",
      "EPOCH: 4 done. loss: 0.33723340012409075, accuracy: 0.9709507042253521\n",
      "EPOCH: 5 done. loss: 0.3369850035066958, accuracy: 0.971830985915493\n",
      "EPOCH: 6 done. loss: 0.3336468584007687, accuracy: 0.977112676056338\n",
      "EPOCH: 7 done. loss: 0.33518282274405165, accuracy: 0.9762323943661971\n",
      "EPOCH: 8 done. loss: 0.3345173717648895, accuracy: 0.9766725352112676\n",
      "EPOCH: 9 done. loss: 0.33342278323791646, accuracy: 0.9740316901408451\n",
      "EPOCH: 10 done. loss: 0.33302864586865455, accuracy: 0.9727112676056338\n",
      "EPOCH: 11 done. loss: 0.33406657300613546, accuracy: 0.9757922535211268\n",
      "EPOCH: 12 done. loss: 0.33432494479197045, accuracy: 0.9810739436619719\n",
      "EPOCH: 13 done. loss: 0.3359412990234516, accuracy: 0.9788732394366197\n",
      "EPOCH: 14 done. loss: 0.3334251443545024, accuracy: 0.9727112676056338\n",
      "EPOCH: 15 done. loss: 0.33330369646902436, accuracy: 0.9766725352112676\n",
      "EPOCH: 16 done. loss: 0.3358581493298213, accuracy: 0.9669894366197183\n",
      "EPOCH: 17 done. loss: 0.3349037402205997, accuracy: 0.9735915492957746\n",
      "EPOCH: 18 done. loss: 0.32979709704717003, accuracy: 0.9705105633802817\n",
      "EPOCH: 19 done. loss: 0.33269234663910335, accuracy: 0.9757922535211268\n",
      "EPOCH: 20 done. loss: 0.3321763439310922, accuracy: 0.9757922535211268\n",
      "EPOCH: 21 done. loss: 0.33510803966610525, accuracy: 0.9797535211267606\n",
      "EPOCH: 22 done. loss: 0.3322429379931202, accuracy: 0.9762323943661971\n",
      "EPOCH: 23 done. loss: 0.33193736804856194, accuracy: 0.9757922535211268\n",
      "EPOCH: 24 done. loss: 0.33385891837102394, accuracy: 0.9753521126760564\n",
      "EPOCH: 25 done. loss: 0.33202258425730247, accuracy: 0.9793133802816901\n",
      "EPOCH: 26 done. loss: 0.3326408867482786, accuracy: 0.9722711267605634\n",
      "EPOCH: 27 done. loss: 0.33254165119594997, accuracy: 0.971830985915493\n",
      "EPOCH: 28 done. loss: 0.33613538653762254, accuracy: 0.9779929577464789\n",
      "EPOCH: 29 done. loss: 0.3345666309197744, accuracy: 0.9810739436619719\n"
     ]
    },
    {
     "data": {
      "text/plain": "<Figure size 432x864 with 3 Axes>",
      "image/png": "[encoded data removed]"
     },
     "metadata": {
      "needs_background": "light"
     },
     "output_type": "display_data"
    },
    {
     "data": {
      "text/plain": "<Figure size 432x288 with 1 Axes>",
      "image/png": "[encoded data removed]"
     },
     "metadata": {
      "needs_background": "light"
     },
     "output_type": "display_data"
    },
    {
     "name": "stdout",
     "output_type": "stream",
     "text": [
      "Test accuracy: 0.9828510182207931, f1-score: 0.9835728952772074\n"
     ]
    },
    {
     "data": {
      "text/plain": "{'accuracy': 0.9828510182207931, 'f1-score': 0.9835728952772074}"
     },
     "execution_count": 11,
     "metadata": {},
     "output_type": "execute_result"
    }
   ],
   "source": [
    "from torch.optim import Adam\n",
    "\n",
    "config = {\n",
    "    \"deep_model\": {\n",
    "        \"linear\": {\n",
    "            \"layers_sizes\": [16, 16],\n",
    "            \"activation\": \"relu\",\n",
    "        },\n",
    "        \"batch_size\": 32,\n",
    "        \"loader_num_workers\": 4,\n",
    "        \"print_each\": 30,\n",
    "        \"n_epoch\": 30,\n",
    "    }\n",
    "\n",
    "}\n",
    "\n",
    "model = LinearMnistNN()\n",
    "optimizer = Adam(list(model.parameters()), lr=0.005, weight_decay=0.001)\n",
    "history, best_model = train_model(model, optimizer, config)\n",
    "vizualize_history(history)\n",
    "\n",
    "eval_model(best_model)"
   ],
   "metadata": {
    "collapsed": false,
    "pycharm": {
     "name": "#%%\n"
    }
   }
  },
  {
   "cell_type": "markdown",
   "source": [
    "Now let's try to fine tune the model:"
   ],
   "metadata": {
    "collapsed": false,
    "pycharm": {
     "name": "#%% md\n"
    }
   }
  },
  {
   "cell_type": "code",
   "execution_count": 15,
   "outputs": [],
   "source": [
    "from pprint import pprint\n",
    "\n",
    "\n",
    "def grid_search_nn(\n",
    "        layers: List[List[int]],\n",
    "        optimizers: List[Tuple[type, Dict[str, float]]],\n",
    "        activations: List[Callable],\n",
    "        config: Dict,\n",
    "):\n",
    "    very_best_model = None\n",
    "    very_best_val_accuracy = -1\n",
    "    very_best_config = {}\n",
    "    results = []\n",
    "\n",
    "    for layer_sizes in layers:\n",
    "        print(f\"Current layers: {layer_sizes}\")\n",
    "        for opt_cnf in optimizers:\n",
    "            opt_cnf_full = copy.deepcopy(opt_cnf[1])\n",
    "            opt_cnf_full.update({\"name\": opt_cnf[0].__name__})\n",
    "            print(f\"  Current optimizer: {opt_cnf_full}\")\n",
    "            for activation in activations:\n",
    "                print(f\"    Current activation: {activation.__name__}\")\n",
    "                model = LinearMnistNN(layer_sizes, activation)\n",
    "                optimizer = opt_cnf[0](list(model.parameters()), **opt_cnf[1])\n",
    "\n",
    "                history, best_model = train_model(model, optimizer, config)\n",
    "\n",
    "                cur_best_cv_acc = min(history[\"avg_cv_loss\"])\n",
    "                # cur_best_cv_f1 = min(history[\"avg_f1\"])\n",
    "\n",
    "                cur_configuration = {\n",
    "                    \"layers\": layer_sizes,\n",
    "                    \"activation\": activation.__name__,\n",
    "                    \"optimizer_cnf\": opt_cnf_full,\n",
    "                    \"cv_accuracy\": cur_best_cv_acc,\n",
    "                }\n",
    "\n",
    "                if cur_best_cv_acc > very_best_val_accuracy:\n",
    "                    very_best_model = best_model\n",
    "                    very_best_config = cur_configuration\n",
    "                    very_best_val_accuracy = cur_best_cv_acc\n",
    "\n",
    "                results.append(cur_configuration)\n",
    "\n",
    "    print(f\"best model has accuracy {very_best_val_accuracy}, and config:\")\n",
    "    pprint(very_best_config)\n",
    "    return results, very_best_model"
   ],
   "metadata": {
    "collapsed": false,
    "pycharm": {
     "name": "#%%\n"
    }
   }
  },
  {
   "cell_type": "code",
   "execution_count": null,
   "outputs": [],
   "source": [
    "from torch.optim import SGD\n",
    "from torch.nn.functional import relu\n",
    "from torch import sigmoid\n",
    "\n",
    "\n",
    "layers = [\n",
    "    [16, 16],\n",
    "    [64, 32, 16]\n",
    "]\n",
    "\n",
    "optimizers = [\n",
    "    (Adam, {\"lr\": 0.005, \"weight_decay\": 0.005}),\n",
    "    (Adam, {\"lr\": 0.0005, \"weight_decay\": 0.001}),\n",
    "    (SGD, {\"lr\": 0.005, \"weight_decay\": 0.005}),\n",
    "    (SGD, {\"lr\": 0.0005, \"weight_decay\": 0.001}),\n",
    "]\n",
    "\n",
    "activations = [relu, sigmoid]\n",
    "\n",
    "\n",
    "results, very_best_model = grid_search_nn(layers, optimizers, activations, config)\n",
    "eval_model(very_best_model)\n"
   ],
   "metadata": {
    "collapsed": false,
    "pycharm": {
     "name": "#%%\n",
     "is_executing": true
    }
   }
  },
  {
   "cell_type": "markdown",
   "source": [
    "*Note that I removed ouput of previous cell, since it was huge*\n",
    "\n",
    "Test ANN accuracy on test data - 99.0%.\n",
    "\n",
    "It's quite interesting, looks like model from time to time gets into some local minimum, and can't get out of it.\n",
    "\n",
    "Turns out used loss - cross etropy loss function ($L = \\sum_{i=1}^n y_i log(\\hat{y_i})$) is not convex[2] for weights of hidden layers"
   ],
   "metadata": {
    "collapsed": false,
    "pycharm": {
     "name": "#%% md\n"
    }
   }
  },
  {
   "cell_type": "markdown",
   "source": [
    "**Pros**\n",
    "- With more sophisticated architectures, can outperform classical approaches a lot\n",
    "- Can solve some problems previously considered too dificult for computers (computer speech, image generation, translation, etc)\n",
    "- Some deep models, like Transformers for example can generelize well for many other problems.\n",
    "\n",
    "**Cons**:\n",
    "- Quite easy to overfit\n",
    "- For greate performance requires a huge amount of data\n",
    "- Huge amount of data requires a lot of computational power and money to train a sophisticated model\n",
    "- Sometimes doesn't generelizes well\n"
   ],
   "metadata": {
    "collapsed": false,
    "pycharm": {
     "name": "#%% md\n"
    }
   }
  },
  {
   "cell_type": "markdown",
   "source": [
    "## 4. Support Vector Machine (SVM)"
   ],
   "metadata": {
    "collapsed": false,
    "pycharm": {
     "name": "#%% md\n"
    }
   }
  },
  {
   "cell_type": "markdown",
   "source": [
    "SVM is a classical model. The main idea is to find hyper-plane in a space such that best divides points into spaces.\n",
    "\n",
    "The \"best\" usually means - minimize margin (gap) formed by a hyperplane and support vectors."
   ],
   "metadata": {
    "collapsed": false,
    "pycharm": {
     "name": "#%% md\n"
    }
   }
  },
  {
   "cell_type": "markdown",
   "source": [
    "#### SVM as an optimization problem"
   ],
   "metadata": {
    "collapsed": false,
    "pycharm": {
     "name": "#%% md\n"
    }
   }
  },
  {
   "cell_type": "markdown",
   "source": [
    "There are quite a few iterative approaches and estimates that can produce solutions, but the most common way to find target hyperplance is to solve SVM as a classical optimization problem.\n",
    "\n",
    "Let $f(\\mathbf{x}) = \\mathbf{x}\\cdot \\mathbf{w} + b$ be a linear classifier predicting the responce variable $y$ via\n",
    "$$\n",
    "  y = \\operatorname{sign}(f(\\mathbf{x}))\n",
    "$$\n",
    "\n",
    "The task is to maximize the margin, i.e., the value $M$ s.t., for all $j$,\n",
    "$$\n",
    "   y_j (\\mathbf{x}_j \\cdot \\mathbf{w} + b) \\ge M \\|\\mathbf{w}\\|\n",
    "$$\n",
    "By rescaling $\\mathbf{w}$ (and $b$) so that $M\\cdot\\|\\mathbf{w}\\| = 1$, we get an equivalent problem\n",
    "\\begin{align}\n",
    "\\operatorname{argmin}_{\\mathbf{w}, b}  &\\frac12 \\|\\mathbf{w}\\|^2 \\\\\n",
    "\\text{subject to } \\qquad &y_j (\\mathbf{x}_j \\cdot \\mathbf{w} + b) \\ge 1\n",
    "\\end{align}\n",
    "\n",
    "The Lagrange function is\n",
    "$$\n",
    "  \\mathscr{L}(\\mathbf{w}, b, \\lambda) = \\frac12\\|\\mathbf{w}\\|^2 + \\sum_j \\lambda_j  [1 - y_j(\\mathbf{x}_j\\cdot \\mathbf{w} + b)]\n",
    "$$\n",
    "Partial derivatives in $\\mathbf{w}$ and $b$ give the equalities\n",
    "$$\n",
    "    \\mathbf{w} = \\sum_j \\lambda_j y_j \\mathbf{x}_j \\qquad \\text{and} \\qquad 0 = \\sum_j \\lambda_j y_j;\n",
    "$$\n",
    "we now use these in $\\mathscr{L}$ to get the Wolfe dual problem of maximizing the quadratic problem\n",
    "\\begin{equation}\n",
    "   \\mathscr{L}_D = \\sum_j \\lambda_j - \\frac12 \\sum_{j,k} \\lambda_j\\lambda_k y_jy_k \\, \\mathbf{x}_j\\cdot\\mathbf{x}_k \\tag{1}\n",
    "\\end{equation}\n",
    "subject to the restrictions $\\lambda_j \\ge 0$.\n",
    "\n",
    "In addition to the above relations, the following constraints should be satisfied for every $j$:\n",
    "$$\n",
    "   \\lambda_j [1 - y_j(\\mathbf{x}_j\\cdot \\mathbf{w} + b)] = 0\n",
    "$$\n",
    "Indices $j$ for which $y_j(\\mathbf{x}_j\\cdot \\mathbf{w} + b) = 1$ correspond to *support vectors* (i.e., points on the margin boundary).\n"
   ],
   "metadata": {
    "collapsed": false,
    "pycharm": {
     "name": "#%% md\n"
    }
   }
  },
  {
   "cell_type": "markdown",
   "source": [
    "#### Soft margin SVM\n",
    "in a real life, usually data is not linearly separable. For such problem there is a so-called \"soft margin\" SVM. The idea is make some hyperparameter, that allows us to make some missclassification.\n",
    "\n",
    "To this end, we introduce slack variables $\\xi_j\\ge0$ and impose relaxed  constraints\n",
    "$$\n",
    "  y_j[\\mathbf{x}_j\\cdot \\mathbf{w} + b] \\ge 1 - \\xi_j. \\tag{2}\n",
    "$$\n",
    "The slack variables\n",
    "$$\n",
    "  \\xi_j = \\max\\{0, 1- y_j[\\mathbf{x}_j \\cdot \\mathbf{w} + b]\\}\n",
    "$$\n",
    "measure incorrectness of classification: $\\xi_j = 0$ for correctly classified points outside the slab and $\\xi_j >0$ for points that fall inside the slab or are in the wrong halfspace. The new objective function is\n",
    "$$\n",
    "  f(\\mathbf{w},b,\\xi_j) = \\frac12\\|\\mathbf{w}\\|^2 + C \\sum_j \\xi_j\n",
    "$$\n",
    "under the constraints (2); here $C$ is the cost constant penalizing misclassification."
   ],
   "metadata": {
    "collapsed": false,
    "pycharm": {
     "name": "#%% md\n"
    }
   }
  },
  {
   "cell_type": "markdown",
   "source": [
    "#### Gradient descent\n",
    "After we calculated cost function, we can calculate gradients, and solve the problem with gradient descent.\n",
    "\n",
    "$$\\nabla_{\\mathbf{w}}g = \\mathbf{w} - C \\sum_{\\xi_j>0} y_j x_j$$\n",
    "\n",
    "$$\\frac{\\partial g}{\\partial b} = -C \\sum_{\\xi_j>0}  y_j$$\n"
   ],
   "metadata": {
    "collapsed": false,
    "pycharm": {
     "name": "#%% md\n"
    }
   }
  },
  {
   "cell_type": "markdown",
   "source": [
    "#### Kernel trick"
   ],
   "metadata": {
    "collapsed": false,
    "pycharm": {
     "name": "#%% md\n"
    }
   }
  },
  {
   "cell_type": "markdown",
   "source": [
    "The idea of the trick - map data into some higher dimensional space. Not separable data may become linearly separable.\n",
    "\n",
    "As we can see in the Wolfe problem, we need to only define a dot product of vectors.\n",
    "\n",
    "\\begin{equation}\n",
    "   \\mathscr{L}_D = \\sum_j \\lambda_j - \\frac12 \\sum_{j,k} \\lambda_j\\lambda_k y_jy_k \\, \\mathbf{x}_j\\cdot\\mathbf{x}_k \\tag{1}\n",
    "\\end{equation}\n",
    "\n",
    "That's why we can use a kernel function, that is just a dot product of two mapped vectors $K(x_i, x_j) = \\phi(x_i) \\cdot \\phi(x_j)$\n",
    "\n",
    "So new Wolfe problem:\n",
    "$$\n",
    "  \\mathscr{L}_D = \\sum_j \\lambda_j - \\frac12 \\sum_{j,k} \\lambda_j\\lambda_k y_jy_k \\, K(\\mathbf{x}_j, \\mathbf{x}_k)\n",
    "$$\n"
   ],
   "metadata": {
    "collapsed": false,
    "pycharm": {
     "name": "#%% md\n"
    }
   }
  },
  {
   "cell_type": "code",
   "execution_count": 14,
   "outputs": [
    {
     "name": "stdout",
     "output_type": "stream",
     "text": [
      "Cross-validation accuracy=0.8696, parameters={'kernel': 'sigmoid', 'degree': 3}\n",
      "Cross-validation accuracy=0.8696, parameters={'kernel': 'sigmoid', 'degree': 4}\n",
      "Cross-validation accuracy=0.8696, parameters={'kernel': 'sigmoid', 'degree': 5}\n",
      "Cross-validation accuracy=0.9929, parameters={'kernel': 'rbf', 'degree': 3}\n",
      "Cross-validation accuracy=0.9929, parameters={'kernel': 'rbf', 'degree': 4}\n",
      "Cross-validation accuracy=0.9929, parameters={'kernel': 'rbf', 'degree': 5}\n",
      "Cross-validation accuracy=0.9911, parameters={'kernel': 'poly', 'degree': 3}\n",
      "Cross-validation accuracy=0.9845, parameters={'kernel': 'poly', 'degree': 4}\n",
      "Cross-validation accuracy=0.9676, parameters={'kernel': 'poly', 'degree': 5}\n",
      "Test accuracy=0.9941, parameters={'kernel': 'rbf', 'degree': 3}\n"
     ]
    },
    {
     "data": {
      "text/plain": "SVC()"
     },
     "execution_count": 14,
     "metadata": {},
     "output_type": "execute_result"
    }
   ],
   "source": [
    "from sklearn.svm import SVC\n",
    "\n",
    "parameters = {\n",
    "    'kernel': ['sigmoid', 'rbf', 'poly'],\n",
    "    'degree': [3, 4, 5],\n",
    "}\n",
    "select_model(dataset, SVC, parameters)"
   ],
   "metadata": {
    "collapsed": false,
    "pycharm": {
     "name": "#%%\n"
    }
   }
  },
  {
   "cell_type": "markdown",
   "source": [
    "**Pros**:\n",
    "- Works well, when data is easyly separable\n",
    "- Effective in a high dimensional space\n",
    "- Works well, when the number of dimensions os bigger than number of samples\n",
    "- Memory efficient\n",
    "\n",
    "**Cons**:\n",
    "- Doesn't work well, when data is not easyly separable and noisy\n",
    "- Training time is O(n^2), so it's not suitable for huge datasets\n",
    "- Model is not probabilistic, we label points with just 1/-1.\n"
   ],
   "metadata": {
    "collapsed": false,
    "pycharm": {
     "name": "#%% md\n"
    }
   }
  },
  {
   "cell_type": "markdown",
   "source": [
    "Test SVM accuracy on test data - 99.4%."
   ],
   "metadata": {
    "collapsed": false,
    "pycharm": {
     "name": "#%% md\n"
    }
   }
  },
  {
   "cell_type": "markdown",
   "source": [
    "## Summary"
   ],
   "metadata": {
    "collapsed": false,
    "pycharm": {
     "name": "#%% md\n"
    }
   }
  },
  {
   "cell_type": "markdown",
   "source": [
    "**Rank:**\n",
    "1. SVM - 99.4%\n",
    "2. k-NN - 99.0%\n",
    "3. ANN - 99.0%\n",
    "4. Logistic regression - 95.8%\n",
    "\n",
    "In this report, we've tried to consider classification approaches that are as different as possible. I think that almost accomplished it except for ANN and Logistic regression, where the last one can be viewed as a simplified version of ANN. Overall, I think we've managed to get pretty good accuracy for most of the methods and discussed reasons for logistic regression's poor performance. To be honest, the final ranking of the models was a little surprising for us - that's, I believe, a good lesson showing why in machine learning, you must never stick to some favorite model without testing others."
   ],
   "metadata": {
    "collapsed": false,
    "pycharm": {
     "name": "#%% md\n"
    }
   }
  },
  {
   "cell_type": "markdown",
   "source": [
    "### References\n",
    "- [1] - Artificial neural network - [Wikipedia](https://en.wikipedia.org/wiki/Artificial_neural_network)\n",
    "- [2] - Is Cross entropy cost function for neural network convex? - [StackExchange](https://stats.stackexchange.com/questions/144378/is-cross-entropy-cost-function-for-neural-network-convex)\n",
    "- [3] - BackPropagation - [Wikipedia](https://en.wikipedia.org/wiki/Backpropagation)\n",
    "- [4] - What is Support Vector Machine (SVM)? - [Medium](https://medium.com/@cdabakoglu/what-is-support-vector-machine-svm-fd0e9e39514f)\n",
    "- [5] - Lab work #2 SVM - MMML course.\n",
    "- [6] - Understanding Support Vector Machine(SVM) algorithm from examples - [Analytics Vidhuya](https://www.analyticsvidhya.com/blog/2017/09/understaing-support-vector-machine-example-code/)\n",
    "- [7] - Universal approximation theorem - [Wikipedia](https://en.wikipedia.org/wiki/Universal_approximation_theorem)\n",
    "- [8] - Conceptual Understanding of Logistic Regression for Data Science Beginners - [Analytics Vidhuya](https://www.analyticsvidhya.com/blog/2021/08/conceptual-understanding-of-logistic-regression-for-data-science-beginners/#h2_5)\n",
    "- [9] - Advantages and Disadvantages of Logistic Regression - [OpenGenus](https://iq.opengenus.org/advantages-and-disadvantages-of-logistic-regression/)\n",
    "- [10] - k-nearest neighbors - [CS.Cornell](https://www.cs.cornell.edu/courses/cs4780/2017sp/lectures/lecturenote02_kNN.html)\n",
    "- [11] - Pros and Cons of K-Nearest Neighbors - [Genesis](https://www.fromthegenesis.com/pros-and-cons-of-k-nearest-neighbors/)"
   ],
   "metadata": {
    "collapsed": false,
    "pycharm": {
     "name": "#%% md\n"
    }
   }
  }
 ],
 "metadata": {
  "kernelspec": {
   "display_name": "Python 3",
   "language": "python",
   "name": "python3"
  },
  "language_info": {
   "codemirror_mode": {
    "name": "ipython",
    "version": 2
   },
   "file_extension": ".py",
   "mimetype": "text/x-python",
   "name": "python",
   "nbconvert_exporter": "python",
   "pygments_lexer": "ipython2",
   "version": "2.7.6"
  }
 },
 "nbformat": 4,
 "nbformat_minor": 0
}